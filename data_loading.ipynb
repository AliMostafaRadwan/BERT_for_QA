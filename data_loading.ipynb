{
  "nbformat": 4,
  "nbformat_minor": 0,
  "metadata": {
    "colab": {
      "provenance": [],
      "include_colab_link": true
    },
    "kernelspec": {
      "display_name": "Python 3",
      "name": "python3"
    },
    "widgets": {
      "application/vnd.jupyter.widget-state+json": {
        "ed1850c5e88a41ad9a49b722d31d3708": {
          "model_module": "@jupyter-widgets/controls",
          "model_name": "HBoxModel",
          "model_module_version": "1.5.0",
          "state": {
            "_dom_classes": [],
            "_model_module": "@jupyter-widgets/controls",
            "_model_module_version": "1.5.0",
            "_model_name": "HBoxModel",
            "_view_count": null,
            "_view_module": "@jupyter-widgets/controls",
            "_view_module_version": "1.5.0",
            "_view_name": "HBoxView",
            "box_style": "",
            "children": [
              "IPY_MODEL_6d85da435c614582980c3107a0b276f4",
              "IPY_MODEL_c3738fff06ca4f358cd6be0ca7121947",
              "IPY_MODEL_828df1252b514d00a17259024a784cb4"
            ],
            "layout": "IPY_MODEL_57cb3f3b758c4adf883225f5c8e33e5e"
          }
        },
        "6d85da435c614582980c3107a0b276f4": {
          "model_module": "@jupyter-widgets/controls",
          "model_name": "HTMLModel",
          "model_module_version": "1.5.0",
          "state": {
            "_dom_classes": [],
            "_model_module": "@jupyter-widgets/controls",
            "_model_module_version": "1.5.0",
            "_model_name": "HTMLModel",
            "_view_count": null,
            "_view_module": "@jupyter-widgets/controls",
            "_view_module_version": "1.5.0",
            "_view_name": "HTMLView",
            "description": "",
            "description_tooltip": null,
            "layout": "IPY_MODEL_3fd8ccf124a34c1f8847220ee8b002bf",
            "placeholder": "​",
            "style": "IPY_MODEL_3d6f2938c89d4de5a334398cec3733f3",
            "value": "Downloading (…)okenizer_config.json: 100%"
          }
        },
        "c3738fff06ca4f358cd6be0ca7121947": {
          "model_module": "@jupyter-widgets/controls",
          "model_name": "FloatProgressModel",
          "model_module_version": "1.5.0",
          "state": {
            "_dom_classes": [],
            "_model_module": "@jupyter-widgets/controls",
            "_model_module_version": "1.5.0",
            "_model_name": "FloatProgressModel",
            "_view_count": null,
            "_view_module": "@jupyter-widgets/controls",
            "_view_module_version": "1.5.0",
            "_view_name": "ProgressView",
            "bar_style": "success",
            "description": "",
            "description_tooltip": null,
            "layout": "IPY_MODEL_6bfada860e194d2ebd47bafed2d48b17",
            "max": 62,
            "min": 0,
            "orientation": "horizontal",
            "style": "IPY_MODEL_9797e4b3d9ea4194ab545effa4f5d3a8",
            "value": 62
          }
        },
        "828df1252b514d00a17259024a784cb4": {
          "model_module": "@jupyter-widgets/controls",
          "model_name": "HTMLModel",
          "model_module_version": "1.5.0",
          "state": {
            "_dom_classes": [],
            "_model_module": "@jupyter-widgets/controls",
            "_model_module_version": "1.5.0",
            "_model_name": "HTMLModel",
            "_view_count": null,
            "_view_module": "@jupyter-widgets/controls",
            "_view_module_version": "1.5.0",
            "_view_name": "HTMLView",
            "description": "",
            "description_tooltip": null,
            "layout": "IPY_MODEL_63f77e5ce39e43458219d2fbb3ce5beb",
            "placeholder": "​",
            "style": "IPY_MODEL_e0fecfa142a04fd4b43b836bb82cecfb",
            "value": " 62.0/62.0 [00:00&lt;00:00, 3.12kB/s]"
          }
        },
        "57cb3f3b758c4adf883225f5c8e33e5e": {
          "model_module": "@jupyter-widgets/base",
          "model_name": "LayoutModel",
          "model_module_version": "1.2.0",
          "state": {
            "_model_module": "@jupyter-widgets/base",
            "_model_module_version": "1.2.0",
            "_model_name": "LayoutModel",
            "_view_count": null,
            "_view_module": "@jupyter-widgets/base",
            "_view_module_version": "1.2.0",
            "_view_name": "LayoutView",
            "align_content": null,
            "align_items": null,
            "align_self": null,
            "border": null,
            "bottom": null,
            "display": null,
            "flex": null,
            "flex_flow": null,
            "grid_area": null,
            "grid_auto_columns": null,
            "grid_auto_flow": null,
            "grid_auto_rows": null,
            "grid_column": null,
            "grid_gap": null,
            "grid_row": null,
            "grid_template_areas": null,
            "grid_template_columns": null,
            "grid_template_rows": null,
            "height": null,
            "justify_content": null,
            "justify_items": null,
            "left": null,
            "margin": null,
            "max_height": null,
            "max_width": null,
            "min_height": null,
            "min_width": null,
            "object_fit": null,
            "object_position": null,
            "order": null,
            "overflow": null,
            "overflow_x": null,
            "overflow_y": null,
            "padding": null,
            "right": null,
            "top": null,
            "visibility": null,
            "width": null
          }
        },
        "3fd8ccf124a34c1f8847220ee8b002bf": {
          "model_module": "@jupyter-widgets/base",
          "model_name": "LayoutModel",
          "model_module_version": "1.2.0",
          "state": {
            "_model_module": "@jupyter-widgets/base",
            "_model_module_version": "1.2.0",
            "_model_name": "LayoutModel",
            "_view_count": null,
            "_view_module": "@jupyter-widgets/base",
            "_view_module_version": "1.2.0",
            "_view_name": "LayoutView",
            "align_content": null,
            "align_items": null,
            "align_self": null,
            "border": null,
            "bottom": null,
            "display": null,
            "flex": null,
            "flex_flow": null,
            "grid_area": null,
            "grid_auto_columns": null,
            "grid_auto_flow": null,
            "grid_auto_rows": null,
            "grid_column": null,
            "grid_gap": null,
            "grid_row": null,
            "grid_template_areas": null,
            "grid_template_columns": null,
            "grid_template_rows": null,
            "height": null,
            "justify_content": null,
            "justify_items": null,
            "left": null,
            "margin": null,
            "max_height": null,
            "max_width": null,
            "min_height": null,
            "min_width": null,
            "object_fit": null,
            "object_position": null,
            "order": null,
            "overflow": null,
            "overflow_x": null,
            "overflow_y": null,
            "padding": null,
            "right": null,
            "top": null,
            "visibility": null,
            "width": null
          }
        },
        "3d6f2938c89d4de5a334398cec3733f3": {
          "model_module": "@jupyter-widgets/controls",
          "model_name": "DescriptionStyleModel",
          "model_module_version": "1.5.0",
          "state": {
            "_model_module": "@jupyter-widgets/controls",
            "_model_module_version": "1.5.0",
            "_model_name": "DescriptionStyleModel",
            "_view_count": null,
            "_view_module": "@jupyter-widgets/base",
            "_view_module_version": "1.2.0",
            "_view_name": "StyleView",
            "description_width": ""
          }
        },
        "6bfada860e194d2ebd47bafed2d48b17": {
          "model_module": "@jupyter-widgets/base",
          "model_name": "LayoutModel",
          "model_module_version": "1.2.0",
          "state": {
            "_model_module": "@jupyter-widgets/base",
            "_model_module_version": "1.2.0",
            "_model_name": "LayoutModel",
            "_view_count": null,
            "_view_module": "@jupyter-widgets/base",
            "_view_module_version": "1.2.0",
            "_view_name": "LayoutView",
            "align_content": null,
            "align_items": null,
            "align_self": null,
            "border": null,
            "bottom": null,
            "display": null,
            "flex": null,
            "flex_flow": null,
            "grid_area": null,
            "grid_auto_columns": null,
            "grid_auto_flow": null,
            "grid_auto_rows": null,
            "grid_column": null,
            "grid_gap": null,
            "grid_row": null,
            "grid_template_areas": null,
            "grid_template_columns": null,
            "grid_template_rows": null,
            "height": null,
            "justify_content": null,
            "justify_items": null,
            "left": null,
            "margin": null,
            "max_height": null,
            "max_width": null,
            "min_height": null,
            "min_width": null,
            "object_fit": null,
            "object_position": null,
            "order": null,
            "overflow": null,
            "overflow_x": null,
            "overflow_y": null,
            "padding": null,
            "right": null,
            "top": null,
            "visibility": null,
            "width": null
          }
        },
        "9797e4b3d9ea4194ab545effa4f5d3a8": {
          "model_module": "@jupyter-widgets/controls",
          "model_name": "ProgressStyleModel",
          "model_module_version": "1.5.0",
          "state": {
            "_model_module": "@jupyter-widgets/controls",
            "_model_module_version": "1.5.0",
            "_model_name": "ProgressStyleModel",
            "_view_count": null,
            "_view_module": "@jupyter-widgets/base",
            "_view_module_version": "1.2.0",
            "_view_name": "StyleView",
            "bar_color": null,
            "description_width": ""
          }
        },
        "63f77e5ce39e43458219d2fbb3ce5beb": {
          "model_module": "@jupyter-widgets/base",
          "model_name": "LayoutModel",
          "model_module_version": "1.2.0",
          "state": {
            "_model_module": "@jupyter-widgets/base",
            "_model_module_version": "1.2.0",
            "_model_name": "LayoutModel",
            "_view_count": null,
            "_view_module": "@jupyter-widgets/base",
            "_view_module_version": "1.2.0",
            "_view_name": "LayoutView",
            "align_content": null,
            "align_items": null,
            "align_self": null,
            "border": null,
            "bottom": null,
            "display": null,
            "flex": null,
            "flex_flow": null,
            "grid_area": null,
            "grid_auto_columns": null,
            "grid_auto_flow": null,
            "grid_auto_rows": null,
            "grid_column": null,
            "grid_gap": null,
            "grid_row": null,
            "grid_template_areas": null,
            "grid_template_columns": null,
            "grid_template_rows": null,
            "height": null,
            "justify_content": null,
            "justify_items": null,
            "left": null,
            "margin": null,
            "max_height": null,
            "max_width": null,
            "min_height": null,
            "min_width": null,
            "object_fit": null,
            "object_position": null,
            "order": null,
            "overflow": null,
            "overflow_x": null,
            "overflow_y": null,
            "padding": null,
            "right": null,
            "top": null,
            "visibility": null,
            "width": null
          }
        },
        "e0fecfa142a04fd4b43b836bb82cecfb": {
          "model_module": "@jupyter-widgets/controls",
          "model_name": "DescriptionStyleModel",
          "model_module_version": "1.5.0",
          "state": {
            "_model_module": "@jupyter-widgets/controls",
            "_model_module_version": "1.5.0",
            "_model_name": "DescriptionStyleModel",
            "_view_count": null,
            "_view_module": "@jupyter-widgets/base",
            "_view_module_version": "1.2.0",
            "_view_name": "StyleView",
            "description_width": ""
          }
        },
        "1c15275e714e4e61aee36a94d18f599e": {
          "model_module": "@jupyter-widgets/controls",
          "model_name": "HBoxModel",
          "model_module_version": "1.5.0",
          "state": {
            "_dom_classes": [],
            "_model_module": "@jupyter-widgets/controls",
            "_model_module_version": "1.5.0",
            "_model_name": "HBoxModel",
            "_view_count": null,
            "_view_module": "@jupyter-widgets/controls",
            "_view_module_version": "1.5.0",
            "_view_name": "HBoxView",
            "box_style": "",
            "children": [
              "IPY_MODEL_fb6676e3174a473a83e913e03aea6fac",
              "IPY_MODEL_e13c1cdafd2e403b9ff074122f41de1c",
              "IPY_MODEL_2fa3854149784cd6a843adf3840a976d"
            ],
            "layout": "IPY_MODEL_efbbc2e28d8846a0b4104e4fed2d030d"
          }
        },
        "fb6676e3174a473a83e913e03aea6fac": {
          "model_module": "@jupyter-widgets/controls",
          "model_name": "HTMLModel",
          "model_module_version": "1.5.0",
          "state": {
            "_dom_classes": [],
            "_model_module": "@jupyter-widgets/controls",
            "_model_module_version": "1.5.0",
            "_model_name": "HTMLModel",
            "_view_count": null,
            "_view_module": "@jupyter-widgets/controls",
            "_view_module_version": "1.5.0",
            "_view_name": "HTMLView",
            "description": "",
            "description_tooltip": null,
            "layout": "IPY_MODEL_48fc23a599f945129bf8fc0e41862f93",
            "placeholder": "​",
            "style": "IPY_MODEL_621bb58e4a5240d99cb2b82990ca9858",
            "value": "Downloading (…)lve/main/config.json: 100%"
          }
        },
        "e13c1cdafd2e403b9ff074122f41de1c": {
          "model_module": "@jupyter-widgets/controls",
          "model_name": "FloatProgressModel",
          "model_module_version": "1.5.0",
          "state": {
            "_dom_classes": [],
            "_model_module": "@jupyter-widgets/controls",
            "_model_module_version": "1.5.0",
            "_model_name": "FloatProgressModel",
            "_view_count": null,
            "_view_module": "@jupyter-widgets/controls",
            "_view_module_version": "1.5.0",
            "_view_name": "ProgressView",
            "bar_style": "success",
            "description": "",
            "description_tooltip": null,
            "layout": "IPY_MODEL_1372ba05389049dfafe636a9edd33d10",
            "max": 491,
            "min": 0,
            "orientation": "horizontal",
            "style": "IPY_MODEL_56f4c591021d4e3c8275fb963b1f1e0e",
            "value": 491
          }
        },
        "2fa3854149784cd6a843adf3840a976d": {
          "model_module": "@jupyter-widgets/controls",
          "model_name": "HTMLModel",
          "model_module_version": "1.5.0",
          "state": {
            "_dom_classes": [],
            "_model_module": "@jupyter-widgets/controls",
            "_model_module_version": "1.5.0",
            "_model_name": "HTMLModel",
            "_view_count": null,
            "_view_module": "@jupyter-widgets/controls",
            "_view_module_version": "1.5.0",
            "_view_name": "HTMLView",
            "description": "",
            "description_tooltip": null,
            "layout": "IPY_MODEL_e3637d522ecb42849b003b8b2e89c641",
            "placeholder": "​",
            "style": "IPY_MODEL_b94ecc2a0d2b4f7cbf5c8d1321d17968",
            "value": " 491/491 [00:00&lt;00:00, 6.54kB/s]"
          }
        },
        "efbbc2e28d8846a0b4104e4fed2d030d": {
          "model_module": "@jupyter-widgets/base",
          "model_name": "LayoutModel",
          "model_module_version": "1.2.0",
          "state": {
            "_model_module": "@jupyter-widgets/base",
            "_model_module_version": "1.2.0",
            "_model_name": "LayoutModel",
            "_view_count": null,
            "_view_module": "@jupyter-widgets/base",
            "_view_module_version": "1.2.0",
            "_view_name": "LayoutView",
            "align_content": null,
            "align_items": null,
            "align_self": null,
            "border": null,
            "bottom": null,
            "display": null,
            "flex": null,
            "flex_flow": null,
            "grid_area": null,
            "grid_auto_columns": null,
            "grid_auto_flow": null,
            "grid_auto_rows": null,
            "grid_column": null,
            "grid_gap": null,
            "grid_row": null,
            "grid_template_areas": null,
            "grid_template_columns": null,
            "grid_template_rows": null,
            "height": null,
            "justify_content": null,
            "justify_items": null,
            "left": null,
            "margin": null,
            "max_height": null,
            "max_width": null,
            "min_height": null,
            "min_width": null,
            "object_fit": null,
            "object_position": null,
            "order": null,
            "overflow": null,
            "overflow_x": null,
            "overflow_y": null,
            "padding": null,
            "right": null,
            "top": null,
            "visibility": null,
            "width": null
          }
        },
        "48fc23a599f945129bf8fc0e41862f93": {
          "model_module": "@jupyter-widgets/base",
          "model_name": "LayoutModel",
          "model_module_version": "1.2.0",
          "state": {
            "_model_module": "@jupyter-widgets/base",
            "_model_module_version": "1.2.0",
            "_model_name": "LayoutModel",
            "_view_count": null,
            "_view_module": "@jupyter-widgets/base",
            "_view_module_version": "1.2.0",
            "_view_name": "LayoutView",
            "align_content": null,
            "align_items": null,
            "align_self": null,
            "border": null,
            "bottom": null,
            "display": null,
            "flex": null,
            "flex_flow": null,
            "grid_area": null,
            "grid_auto_columns": null,
            "grid_auto_flow": null,
            "grid_auto_rows": null,
            "grid_column": null,
            "grid_gap": null,
            "grid_row": null,
            "grid_template_areas": null,
            "grid_template_columns": null,
            "grid_template_rows": null,
            "height": null,
            "justify_content": null,
            "justify_items": null,
            "left": null,
            "margin": null,
            "max_height": null,
            "max_width": null,
            "min_height": null,
            "min_width": null,
            "object_fit": null,
            "object_position": null,
            "order": null,
            "overflow": null,
            "overflow_x": null,
            "overflow_y": null,
            "padding": null,
            "right": null,
            "top": null,
            "visibility": null,
            "width": null
          }
        },
        "621bb58e4a5240d99cb2b82990ca9858": {
          "model_module": "@jupyter-widgets/controls",
          "model_name": "DescriptionStyleModel",
          "model_module_version": "1.5.0",
          "state": {
            "_model_module": "@jupyter-widgets/controls",
            "_model_module_version": "1.5.0",
            "_model_name": "DescriptionStyleModel",
            "_view_count": null,
            "_view_module": "@jupyter-widgets/base",
            "_view_module_version": "1.2.0",
            "_view_name": "StyleView",
            "description_width": ""
          }
        },
        "1372ba05389049dfafe636a9edd33d10": {
          "model_module": "@jupyter-widgets/base",
          "model_name": "LayoutModel",
          "model_module_version": "1.2.0",
          "state": {
            "_model_module": "@jupyter-widgets/base",
            "_model_module_version": "1.2.0",
            "_model_name": "LayoutModel",
            "_view_count": null,
            "_view_module": "@jupyter-widgets/base",
            "_view_module_version": "1.2.0",
            "_view_name": "LayoutView",
            "align_content": null,
            "align_items": null,
            "align_self": null,
            "border": null,
            "bottom": null,
            "display": null,
            "flex": null,
            "flex_flow": null,
            "grid_area": null,
            "grid_auto_columns": null,
            "grid_auto_flow": null,
            "grid_auto_rows": null,
            "grid_column": null,
            "grid_gap": null,
            "grid_row": null,
            "grid_template_areas": null,
            "grid_template_columns": null,
            "grid_template_rows": null,
            "height": null,
            "justify_content": null,
            "justify_items": null,
            "left": null,
            "margin": null,
            "max_height": null,
            "max_width": null,
            "min_height": null,
            "min_width": null,
            "object_fit": null,
            "object_position": null,
            "order": null,
            "overflow": null,
            "overflow_x": null,
            "overflow_y": null,
            "padding": null,
            "right": null,
            "top": null,
            "visibility": null,
            "width": null
          }
        },
        "56f4c591021d4e3c8275fb963b1f1e0e": {
          "model_module": "@jupyter-widgets/controls",
          "model_name": "ProgressStyleModel",
          "model_module_version": "1.5.0",
          "state": {
            "_model_module": "@jupyter-widgets/controls",
            "_model_module_version": "1.5.0",
            "_model_name": "ProgressStyleModel",
            "_view_count": null,
            "_view_module": "@jupyter-widgets/base",
            "_view_module_version": "1.2.0",
            "_view_name": "StyleView",
            "bar_color": null,
            "description_width": ""
          }
        },
        "e3637d522ecb42849b003b8b2e89c641": {
          "model_module": "@jupyter-widgets/base",
          "model_name": "LayoutModel",
          "model_module_version": "1.2.0",
          "state": {
            "_model_module": "@jupyter-widgets/base",
            "_model_module_version": "1.2.0",
            "_model_name": "LayoutModel",
            "_view_count": null,
            "_view_module": "@jupyter-widgets/base",
            "_view_module_version": "1.2.0",
            "_view_name": "LayoutView",
            "align_content": null,
            "align_items": null,
            "align_self": null,
            "border": null,
            "bottom": null,
            "display": null,
            "flex": null,
            "flex_flow": null,
            "grid_area": null,
            "grid_auto_columns": null,
            "grid_auto_flow": null,
            "grid_auto_rows": null,
            "grid_column": null,
            "grid_gap": null,
            "grid_row": null,
            "grid_template_areas": null,
            "grid_template_columns": null,
            "grid_template_rows": null,
            "height": null,
            "justify_content": null,
            "justify_items": null,
            "left": null,
            "margin": null,
            "max_height": null,
            "max_width": null,
            "min_height": null,
            "min_width": null,
            "object_fit": null,
            "object_position": null,
            "order": null,
            "overflow": null,
            "overflow_x": null,
            "overflow_y": null,
            "padding": null,
            "right": null,
            "top": null,
            "visibility": null,
            "width": null
          }
        },
        "b94ecc2a0d2b4f7cbf5c8d1321d17968": {
          "model_module": "@jupyter-widgets/controls",
          "model_name": "DescriptionStyleModel",
          "model_module_version": "1.5.0",
          "state": {
            "_model_module": "@jupyter-widgets/controls",
            "_model_module_version": "1.5.0",
            "_model_name": "DescriptionStyleModel",
            "_view_count": null,
            "_view_module": "@jupyter-widgets/base",
            "_view_module_version": "1.2.0",
            "_view_name": "StyleView",
            "description_width": ""
          }
        },
        "38ae28a90d734964aeeadaf478e969de": {
          "model_module": "@jupyter-widgets/controls",
          "model_name": "HBoxModel",
          "model_module_version": "1.5.0",
          "state": {
            "_dom_classes": [],
            "_model_module": "@jupyter-widgets/controls",
            "_model_module_version": "1.5.0",
            "_model_name": "HBoxModel",
            "_view_count": null,
            "_view_module": "@jupyter-widgets/controls",
            "_view_module_version": "1.5.0",
            "_view_name": "HBoxView",
            "box_style": "",
            "children": [
              "IPY_MODEL_dbf04e4fa8d441dda8ab17effcff04bb",
              "IPY_MODEL_d22bad48f66340f8a58bc1a05b880e87",
              "IPY_MODEL_b1c26abfee9c49a9a9c6557a0e59f3d1"
            ],
            "layout": "IPY_MODEL_18b691c9d7cc4afaa923331202dcac88"
          }
        },
        "dbf04e4fa8d441dda8ab17effcff04bb": {
          "model_module": "@jupyter-widgets/controls",
          "model_name": "HTMLModel",
          "model_module_version": "1.5.0",
          "state": {
            "_dom_classes": [],
            "_model_module": "@jupyter-widgets/controls",
            "_model_module_version": "1.5.0",
            "_model_name": "HTMLModel",
            "_view_count": null,
            "_view_module": "@jupyter-widgets/controls",
            "_view_module_version": "1.5.0",
            "_view_name": "HTMLView",
            "description": "",
            "description_tooltip": null,
            "layout": "IPY_MODEL_5b8e5bd63e1e44659c5dd26cef38d9c2",
            "placeholder": "​",
            "style": "IPY_MODEL_862eb8bb1cde45a6bee40f8b0113769e",
            "value": "Downloading (…)solve/main/vocab.txt: 100%"
          }
        },
        "d22bad48f66340f8a58bc1a05b880e87": {
          "model_module": "@jupyter-widgets/controls",
          "model_name": "FloatProgressModel",
          "model_module_version": "1.5.0",
          "state": {
            "_dom_classes": [],
            "_model_module": "@jupyter-widgets/controls",
            "_model_module_version": "1.5.0",
            "_model_name": "FloatProgressModel",
            "_view_count": null,
            "_view_module": "@jupyter-widgets/controls",
            "_view_module_version": "1.5.0",
            "_view_name": "ProgressView",
            "bar_style": "success",
            "description": "",
            "description_tooltip": null,
            "layout": "IPY_MODEL_e589ed0238714fdba721ce6af0a5a727",
            "max": 333770,
            "min": 0,
            "orientation": "horizontal",
            "style": "IPY_MODEL_126416fac5a54d228ef10551ab61a32b",
            "value": 333770
          }
        },
        "b1c26abfee9c49a9a9c6557a0e59f3d1": {
          "model_module": "@jupyter-widgets/controls",
          "model_name": "HTMLModel",
          "model_module_version": "1.5.0",
          "state": {
            "_dom_classes": [],
            "_model_module": "@jupyter-widgets/controls",
            "_model_module_version": "1.5.0",
            "_model_name": "HTMLModel",
            "_view_count": null,
            "_view_module": "@jupyter-widgets/controls",
            "_view_module_version": "1.5.0",
            "_view_name": "HTMLView",
            "description": "",
            "description_tooltip": null,
            "layout": "IPY_MODEL_3d36183c38cd469391d7b32393685f22",
            "placeholder": "​",
            "style": "IPY_MODEL_221f822f20614a3a98eb89702999778d",
            "value": " 334k/334k [00:00&lt;00:00, 2.91MB/s]"
          }
        },
        "18b691c9d7cc4afaa923331202dcac88": {
          "model_module": "@jupyter-widgets/base",
          "model_name": "LayoutModel",
          "model_module_version": "1.2.0",
          "state": {
            "_model_module": "@jupyter-widgets/base",
            "_model_module_version": "1.2.0",
            "_model_name": "LayoutModel",
            "_view_count": null,
            "_view_module": "@jupyter-widgets/base",
            "_view_module_version": "1.2.0",
            "_view_name": "LayoutView",
            "align_content": null,
            "align_items": null,
            "align_self": null,
            "border": null,
            "bottom": null,
            "display": null,
            "flex": null,
            "flex_flow": null,
            "grid_area": null,
            "grid_auto_columns": null,
            "grid_auto_flow": null,
            "grid_auto_rows": null,
            "grid_column": null,
            "grid_gap": null,
            "grid_row": null,
            "grid_template_areas": null,
            "grid_template_columns": null,
            "grid_template_rows": null,
            "height": null,
            "justify_content": null,
            "justify_items": null,
            "left": null,
            "margin": null,
            "max_height": null,
            "max_width": null,
            "min_height": null,
            "min_width": null,
            "object_fit": null,
            "object_position": null,
            "order": null,
            "overflow": null,
            "overflow_x": null,
            "overflow_y": null,
            "padding": null,
            "right": null,
            "top": null,
            "visibility": null,
            "width": null
          }
        },
        "5b8e5bd63e1e44659c5dd26cef38d9c2": {
          "model_module": "@jupyter-widgets/base",
          "model_name": "LayoutModel",
          "model_module_version": "1.2.0",
          "state": {
            "_model_module": "@jupyter-widgets/base",
            "_model_module_version": "1.2.0",
            "_model_name": "LayoutModel",
            "_view_count": null,
            "_view_module": "@jupyter-widgets/base",
            "_view_module_version": "1.2.0",
            "_view_name": "LayoutView",
            "align_content": null,
            "align_items": null,
            "align_self": null,
            "border": null,
            "bottom": null,
            "display": null,
            "flex": null,
            "flex_flow": null,
            "grid_area": null,
            "grid_auto_columns": null,
            "grid_auto_flow": null,
            "grid_auto_rows": null,
            "grid_column": null,
            "grid_gap": null,
            "grid_row": null,
            "grid_template_areas": null,
            "grid_template_columns": null,
            "grid_template_rows": null,
            "height": null,
            "justify_content": null,
            "justify_items": null,
            "left": null,
            "margin": null,
            "max_height": null,
            "max_width": null,
            "min_height": null,
            "min_width": null,
            "object_fit": null,
            "object_position": null,
            "order": null,
            "overflow": null,
            "overflow_x": null,
            "overflow_y": null,
            "padding": null,
            "right": null,
            "top": null,
            "visibility": null,
            "width": null
          }
        },
        "862eb8bb1cde45a6bee40f8b0113769e": {
          "model_module": "@jupyter-widgets/controls",
          "model_name": "DescriptionStyleModel",
          "model_module_version": "1.5.0",
          "state": {
            "_model_module": "@jupyter-widgets/controls",
            "_model_module_version": "1.5.0",
            "_model_name": "DescriptionStyleModel",
            "_view_count": null,
            "_view_module": "@jupyter-widgets/base",
            "_view_module_version": "1.2.0",
            "_view_name": "StyleView",
            "description_width": ""
          }
        },
        "e589ed0238714fdba721ce6af0a5a727": {
          "model_module": "@jupyter-widgets/base",
          "model_name": "LayoutModel",
          "model_module_version": "1.2.0",
          "state": {
            "_model_module": "@jupyter-widgets/base",
            "_model_module_version": "1.2.0",
            "_model_name": "LayoutModel",
            "_view_count": null,
            "_view_module": "@jupyter-widgets/base",
            "_view_module_version": "1.2.0",
            "_view_name": "LayoutView",
            "align_content": null,
            "align_items": null,
            "align_self": null,
            "border": null,
            "bottom": null,
            "display": null,
            "flex": null,
            "flex_flow": null,
            "grid_area": null,
            "grid_auto_columns": null,
            "grid_auto_flow": null,
            "grid_auto_rows": null,
            "grid_column": null,
            "grid_gap": null,
            "grid_row": null,
            "grid_template_areas": null,
            "grid_template_columns": null,
            "grid_template_rows": null,
            "height": null,
            "justify_content": null,
            "justify_items": null,
            "left": null,
            "margin": null,
            "max_height": null,
            "max_width": null,
            "min_height": null,
            "min_width": null,
            "object_fit": null,
            "object_position": null,
            "order": null,
            "overflow": null,
            "overflow_x": null,
            "overflow_y": null,
            "padding": null,
            "right": null,
            "top": null,
            "visibility": null,
            "width": null
          }
        },
        "126416fac5a54d228ef10551ab61a32b": {
          "model_module": "@jupyter-widgets/controls",
          "model_name": "ProgressStyleModel",
          "model_module_version": "1.5.0",
          "state": {
            "_model_module": "@jupyter-widgets/controls",
            "_model_module_version": "1.5.0",
            "_model_name": "ProgressStyleModel",
            "_view_count": null,
            "_view_module": "@jupyter-widgets/base",
            "_view_module_version": "1.2.0",
            "_view_name": "StyleView",
            "bar_color": null,
            "description_width": ""
          }
        },
        "3d36183c38cd469391d7b32393685f22": {
          "model_module": "@jupyter-widgets/base",
          "model_name": "LayoutModel",
          "model_module_version": "1.2.0",
          "state": {
            "_model_module": "@jupyter-widgets/base",
            "_model_module_version": "1.2.0",
            "_model_name": "LayoutModel",
            "_view_count": null,
            "_view_module": "@jupyter-widgets/base",
            "_view_module_version": "1.2.0",
            "_view_name": "LayoutView",
            "align_content": null,
            "align_items": null,
            "align_self": null,
            "border": null,
            "bottom": null,
            "display": null,
            "flex": null,
            "flex_flow": null,
            "grid_area": null,
            "grid_auto_columns": null,
            "grid_auto_flow": null,
            "grid_auto_rows": null,
            "grid_column": null,
            "grid_gap": null,
            "grid_row": null,
            "grid_template_areas": null,
            "grid_template_columns": null,
            "grid_template_rows": null,
            "height": null,
            "justify_content": null,
            "justify_items": null,
            "left": null,
            "margin": null,
            "max_height": null,
            "max_width": null,
            "min_height": null,
            "min_width": null,
            "object_fit": null,
            "object_position": null,
            "order": null,
            "overflow": null,
            "overflow_x": null,
            "overflow_y": null,
            "padding": null,
            "right": null,
            "top": null,
            "visibility": null,
            "width": null
          }
        },
        "221f822f20614a3a98eb89702999778d": {
          "model_module": "@jupyter-widgets/controls",
          "model_name": "DescriptionStyleModel",
          "model_module_version": "1.5.0",
          "state": {
            "_model_module": "@jupyter-widgets/controls",
            "_model_module_version": "1.5.0",
            "_model_name": "DescriptionStyleModel",
            "_view_count": null,
            "_view_module": "@jupyter-widgets/base",
            "_view_module_version": "1.2.0",
            "_view_name": "StyleView",
            "description_width": ""
          }
        },
        "717f0400f31b4a769799c115f9b9c046": {
          "model_module": "@jupyter-widgets/controls",
          "model_name": "HBoxModel",
          "model_module_version": "1.5.0",
          "state": {
            "_dom_classes": [],
            "_model_module": "@jupyter-widgets/controls",
            "_model_module_version": "1.5.0",
            "_model_name": "HBoxModel",
            "_view_count": null,
            "_view_module": "@jupyter-widgets/controls",
            "_view_module_version": "1.5.0",
            "_view_name": "HBoxView",
            "box_style": "",
            "children": [
              "IPY_MODEL_7d84682f6c5c47a7b44598b11c14b56e",
              "IPY_MODEL_f873127a26b44bf4b1136b23f16831c2",
              "IPY_MODEL_e02fe0bc2a7c4945bc39b28e1f2cab0c"
            ],
            "layout": "IPY_MODEL_d823a2377c5a4b1e8f2d25d50b5c001c"
          }
        },
        "7d84682f6c5c47a7b44598b11c14b56e": {
          "model_module": "@jupyter-widgets/controls",
          "model_name": "HTMLModel",
          "model_module_version": "1.5.0",
          "state": {
            "_dom_classes": [],
            "_model_module": "@jupyter-widgets/controls",
            "_model_module_version": "1.5.0",
            "_model_name": "HTMLModel",
            "_view_count": null,
            "_view_module": "@jupyter-widgets/controls",
            "_view_module_version": "1.5.0",
            "_view_name": "HTMLView",
            "description": "",
            "description_tooltip": null,
            "layout": "IPY_MODEL_0e0f9997640648f4aa4d2896233c190e",
            "placeholder": "​",
            "style": "IPY_MODEL_a8acf13179054484a4a651a6ab184785",
            "value": "Downloading (…)cial_tokens_map.json: 100%"
          }
        },
        "f873127a26b44bf4b1136b23f16831c2": {
          "model_module": "@jupyter-widgets/controls",
          "model_name": "FloatProgressModel",
          "model_module_version": "1.5.0",
          "state": {
            "_dom_classes": [],
            "_model_module": "@jupyter-widgets/controls",
            "_model_module_version": "1.5.0",
            "_model_name": "FloatProgressModel",
            "_view_count": null,
            "_view_module": "@jupyter-widgets/controls",
            "_view_module_version": "1.5.0",
            "_view_name": "ProgressView",
            "bar_style": "success",
            "description": "",
            "description_tooltip": null,
            "layout": "IPY_MODEL_0eb81608a9be499b99ef20359f4f4a92",
            "max": 112,
            "min": 0,
            "orientation": "horizontal",
            "style": "IPY_MODEL_180c90d2069e46dc8bb3dec5828861b1",
            "value": 112
          }
        },
        "e02fe0bc2a7c4945bc39b28e1f2cab0c": {
          "model_module": "@jupyter-widgets/controls",
          "model_name": "HTMLModel",
          "model_module_version": "1.5.0",
          "state": {
            "_dom_classes": [],
            "_model_module": "@jupyter-widgets/controls",
            "_model_module_version": "1.5.0",
            "_model_name": "HTMLModel",
            "_view_count": null,
            "_view_module": "@jupyter-widgets/controls",
            "_view_module_version": "1.5.0",
            "_view_name": "HTMLView",
            "description": "",
            "description_tooltip": null,
            "layout": "IPY_MODEL_f60a7ea014a94a70bfcde8be5ba1e9bc",
            "placeholder": "​",
            "style": "IPY_MODEL_7eb49a9333874c0e9e8b2b49c72b2be8",
            "value": " 112/112 [00:00&lt;00:00, 1.75kB/s]"
          }
        },
        "d823a2377c5a4b1e8f2d25d50b5c001c": {
          "model_module": "@jupyter-widgets/base",
          "model_name": "LayoutModel",
          "model_module_version": "1.2.0",
          "state": {
            "_model_module": "@jupyter-widgets/base",
            "_model_module_version": "1.2.0",
            "_model_name": "LayoutModel",
            "_view_count": null,
            "_view_module": "@jupyter-widgets/base",
            "_view_module_version": "1.2.0",
            "_view_name": "LayoutView",
            "align_content": null,
            "align_items": null,
            "align_self": null,
            "border": null,
            "bottom": null,
            "display": null,
            "flex": null,
            "flex_flow": null,
            "grid_area": null,
            "grid_auto_columns": null,
            "grid_auto_flow": null,
            "grid_auto_rows": null,
            "grid_column": null,
            "grid_gap": null,
            "grid_row": null,
            "grid_template_areas": null,
            "grid_template_columns": null,
            "grid_template_rows": null,
            "height": null,
            "justify_content": null,
            "justify_items": null,
            "left": null,
            "margin": null,
            "max_height": null,
            "max_width": null,
            "min_height": null,
            "min_width": null,
            "object_fit": null,
            "object_position": null,
            "order": null,
            "overflow": null,
            "overflow_x": null,
            "overflow_y": null,
            "padding": null,
            "right": null,
            "top": null,
            "visibility": null,
            "width": null
          }
        },
        "0e0f9997640648f4aa4d2896233c190e": {
          "model_module": "@jupyter-widgets/base",
          "model_name": "LayoutModel",
          "model_module_version": "1.2.0",
          "state": {
            "_model_module": "@jupyter-widgets/base",
            "_model_module_version": "1.2.0",
            "_model_name": "LayoutModel",
            "_view_count": null,
            "_view_module": "@jupyter-widgets/base",
            "_view_module_version": "1.2.0",
            "_view_name": "LayoutView",
            "align_content": null,
            "align_items": null,
            "align_self": null,
            "border": null,
            "bottom": null,
            "display": null,
            "flex": null,
            "flex_flow": null,
            "grid_area": null,
            "grid_auto_columns": null,
            "grid_auto_flow": null,
            "grid_auto_rows": null,
            "grid_column": null,
            "grid_gap": null,
            "grid_row": null,
            "grid_template_areas": null,
            "grid_template_columns": null,
            "grid_template_rows": null,
            "height": null,
            "justify_content": null,
            "justify_items": null,
            "left": null,
            "margin": null,
            "max_height": null,
            "max_width": null,
            "min_height": null,
            "min_width": null,
            "object_fit": null,
            "object_position": null,
            "order": null,
            "overflow": null,
            "overflow_x": null,
            "overflow_y": null,
            "padding": null,
            "right": null,
            "top": null,
            "visibility": null,
            "width": null
          }
        },
        "a8acf13179054484a4a651a6ab184785": {
          "model_module": "@jupyter-widgets/controls",
          "model_name": "DescriptionStyleModel",
          "model_module_version": "1.5.0",
          "state": {
            "_model_module": "@jupyter-widgets/controls",
            "_model_module_version": "1.5.0",
            "_model_name": "DescriptionStyleModel",
            "_view_count": null,
            "_view_module": "@jupyter-widgets/base",
            "_view_module_version": "1.2.0",
            "_view_name": "StyleView",
            "description_width": ""
          }
        },
        "0eb81608a9be499b99ef20359f4f4a92": {
          "model_module": "@jupyter-widgets/base",
          "model_name": "LayoutModel",
          "model_module_version": "1.2.0",
          "state": {
            "_model_module": "@jupyter-widgets/base",
            "_model_module_version": "1.2.0",
            "_model_name": "LayoutModel",
            "_view_count": null,
            "_view_module": "@jupyter-widgets/base",
            "_view_module_version": "1.2.0",
            "_view_name": "LayoutView",
            "align_content": null,
            "align_items": null,
            "align_self": null,
            "border": null,
            "bottom": null,
            "display": null,
            "flex": null,
            "flex_flow": null,
            "grid_area": null,
            "grid_auto_columns": null,
            "grid_auto_flow": null,
            "grid_auto_rows": null,
            "grid_column": null,
            "grid_gap": null,
            "grid_row": null,
            "grid_template_areas": null,
            "grid_template_columns": null,
            "grid_template_rows": null,
            "height": null,
            "justify_content": null,
            "justify_items": null,
            "left": null,
            "margin": null,
            "max_height": null,
            "max_width": null,
            "min_height": null,
            "min_width": null,
            "object_fit": null,
            "object_position": null,
            "order": null,
            "overflow": null,
            "overflow_x": null,
            "overflow_y": null,
            "padding": null,
            "right": null,
            "top": null,
            "visibility": null,
            "width": null
          }
        },
        "180c90d2069e46dc8bb3dec5828861b1": {
          "model_module": "@jupyter-widgets/controls",
          "model_name": "ProgressStyleModel",
          "model_module_version": "1.5.0",
          "state": {
            "_model_module": "@jupyter-widgets/controls",
            "_model_module_version": "1.5.0",
            "_model_name": "ProgressStyleModel",
            "_view_count": null,
            "_view_module": "@jupyter-widgets/base",
            "_view_module_version": "1.2.0",
            "_view_name": "StyleView",
            "bar_color": null,
            "description_width": ""
          }
        },
        "f60a7ea014a94a70bfcde8be5ba1e9bc": {
          "model_module": "@jupyter-widgets/base",
          "model_name": "LayoutModel",
          "model_module_version": "1.2.0",
          "state": {
            "_model_module": "@jupyter-widgets/base",
            "_model_module_version": "1.2.0",
            "_model_name": "LayoutModel",
            "_view_count": null,
            "_view_module": "@jupyter-widgets/base",
            "_view_module_version": "1.2.0",
            "_view_name": "LayoutView",
            "align_content": null,
            "align_items": null,
            "align_self": null,
            "border": null,
            "bottom": null,
            "display": null,
            "flex": null,
            "flex_flow": null,
            "grid_area": null,
            "grid_auto_columns": null,
            "grid_auto_flow": null,
            "grid_auto_rows": null,
            "grid_column": null,
            "grid_gap": null,
            "grid_row": null,
            "grid_template_areas": null,
            "grid_template_columns": null,
            "grid_template_rows": null,
            "height": null,
            "justify_content": null,
            "justify_items": null,
            "left": null,
            "margin": null,
            "max_height": null,
            "max_width": null,
            "min_height": null,
            "min_width": null,
            "object_fit": null,
            "object_position": null,
            "order": null,
            "overflow": null,
            "overflow_x": null,
            "overflow_y": null,
            "padding": null,
            "right": null,
            "top": null,
            "visibility": null,
            "width": null
          }
        },
        "7eb49a9333874c0e9e8b2b49c72b2be8": {
          "model_module": "@jupyter-widgets/controls",
          "model_name": "DescriptionStyleModel",
          "model_module_version": "1.5.0",
          "state": {
            "_model_module": "@jupyter-widgets/controls",
            "_model_module_version": "1.5.0",
            "_model_name": "DescriptionStyleModel",
            "_view_count": null,
            "_view_module": "@jupyter-widgets/base",
            "_view_module_version": "1.2.0",
            "_view_name": "StyleView",
            "description_width": ""
          }
        }
      }
    }
  },
  "cells": [
    {
      "cell_type": "markdown",
      "metadata": {
        "id": "view-in-github",
        "colab_type": "text"
      },
      "source": [
        "<a href=\"https://colab.research.google.com/github/AliMostafaRadwan/BERT_for_QA/blob/main/data_loading.ipynb\" target=\"_parent\"><img src=\"https://colab.research.google.com/assets/colab-badge.svg\" alt=\"Open In Colab\"/></a>"
      ]
    },
    {
      "cell_type": "markdown",
      "metadata": {
        "id": "XEcctkp0xgEP"
      },
      "source": [
        "# About the WikiLingua Dataset\n",
        "\n",
        "WikiLingua consists of collaboratively written how-to guides with gold-standard summaries\n",
        "across 18 languages collected from [WikiHow](https://www.wikihow.com/) webpage. The content of this webpage is high-quality since each article and summary\n",
        "is written and edited by 23 people, and further reviewed by 16 people, on average. The articles include multiple methods with steps (with an illustrative image) to complete a\n",
        "procedural task along with the corresponding short summaries. We align each the text and the summary of the steps across 18 languages using the illustrative images. The dataset includes ~770k article and summary pairs."
      ]
    },
    {
      "cell_type": "markdown",
      "metadata": {
        "id": "4c8ees_a3Pgo"
      },
      "source": [
        "We hope that you find this dataset useful. Please cite the following paper if you do so:\n",
        "\n",
        "**[WikiLingua: A New Benchmark Dataset for Multilingual Abstractive Summarization](https://arxiv.org/abs/2010.03093)**"
      ]
    },
    {
      "cell_type": "markdown",
      "metadata": {
        "id": "ZYOuMmfB3kTD"
      },
      "source": [
        "\n",
        "```\n",
        "@inproceedings{ladhak-wiki-2020,\n",
        "    title={WikiLingua: A New Benchmark Dataset for Multilingual Abstractive Summarization},\n",
        "    author={Faisal Ladhak, Esin Durmus, Claire Cardie and Kathleen McKeown},\n",
        "    booktitle={Findings of EMNLP, 2020},\n",
        "    year={2020}\n",
        "}\n",
        "```"
      ]
    },
    {
      "cell_type": "markdown",
      "metadata": {
        "id": "69vyKc3ypi0E"
      },
      "source": [
        "# How to Use the WikiLingua Dataset\n",
        "\n",
        "This collab gives a simple step-by-step instructions on how to use the WikiLingua dataset. In particular, we demonstrate how to align the parallel articles in different languages with English articles.  "
      ]
    },
    {
      "cell_type": "code",
      "metadata": {
        "id": "Ed-ESapfoL3K"
      },
      "source": [
        "import pickle\n",
        "import os"
      ],
      "execution_count": null,
      "outputs": []
    },
    {
      "cell_type": "markdown",
      "metadata": {
        "id": "By57_709pGYr"
      },
      "source": [
        "# Downloading the Data\n",
        "\n",
        "First, download the data using this [link](https://drive.google.com/drive/folders/1PFvXUOsW_KSEzFm5ixB8J8BDB8zRRfHW?usp=sharing) and upload it to your Google Drive.\n",
        "\n"
      ]
    },
    {
      "cell_type": "markdown",
      "metadata": {
        "id": "LWF0gk-lo5T_"
      },
      "source": [
        "Following cell mounts the content your Google Drive on your runtime using an authorization code."
      ]
    },
    {
      "cell_type": "code",
      "metadata": {
        "colab": {
          "base_uri": "https://localhost:8080/"
        },
        "id": "8nvqMv9wmoqu",
        "outputId": "3cb488af-7e21-4c2e-83e6-0ac38269f769"
      },
      "source": [
        "from google.colab import drive\n",
        "drive.mount('/content/drive',force_remount=True)"
      ],
      "execution_count": 1,
      "outputs": [
        {
          "output_type": "stream",
          "name": "stdout",
          "text": [
            "Mounted at /content/drive\n"
          ]
        }
      ]
    },
    {
      "cell_type": "markdown",
      "metadata": {
        "id": "6G5Fe5ZFvq0v"
      },
      "source": [
        "# Loading the English articles\n",
        "\n",
        "\n",
        "\n"
      ]
    },
    {
      "cell_type": "markdown",
      "metadata": {
        "id": "nzr24VUMqLlY"
      },
      "source": [
        "Read the file with English articles and summaries from your Google Drive:"
      ]
    },
    {
      "cell_type": "code",
      "metadata": {
        "id": "BQyGlKgWoByv"
      },
      "source": [
        "with open('/content/drive/My Drive/WikiLingua/english.pkl', 'rb') as f:\n",
        "  english_docs=pickle.load(f)"
      ],
      "execution_count": null,
      "outputs": []
    },
    {
      "cell_type": "markdown",
      "metadata": {
        "id": "kKMokjppv_Qw"
      },
      "source": [
        "Here is an example of key-value pair from this dictionary:"
      ]
    },
    {
      "cell_type": "code",
      "metadata": {
        "colab": {
          "base_uri": "https://localhost:8080/"
        },
        "id": "qsnWI5mTq-I0",
        "outputId": "7f4a3a35-4a3b-4473-90af-aeca10408f0d"
      },
      "source": [
        "list(english_docs.items())[0]"
      ],
      "execution_count": null,
      "outputs": [
        {
          "output_type": "execute_result",
          "data": {
            "text/plain": [
              "('https://www.wikihow.com/Avoid-Drinking-and-Driving',\n",
              " {'Designating a Driver': {'document': \"Designating a driver is a very popular tactic to avoid drinking and driving.  It is important to plan in advance, because your brain function will slow down and your decision making skills will be impaired once you start drinking. Decide before you begin drinking that you will not drive.  Figure out who will be getting you home before you leave. Make sure this person is responsible and keep them in your sight while you are drinking.  Have their contact information handy in case you can’t find them when you are ready to leave.  Choose a friend who doesn’t drink alcohol.  You likely have someone in your friend group who doesn’t drink.  This person is the most likely to remain sober. Decide on one person who will remain sober.  You can take turns within your friend group, alternating who will be the designated driver on each occasion.  Be sure that the designated driver actually remains sober.  The person who has drank the least is still not sober. If you don’t have your car with you, you can guarantee that you won’t make the choice to drive it home. If you are drinking at your home.  Give your keys to a responsible friend to ensure that you don't choose to drive somewhere after you have been drinking. It may be tempting to stay longer or leave with someone else.  Stick to the plan you made in advance and only leave with your sober, designated driver.  Keep the phone number of your driver handy in case you can't find them when you are ready to leave. If your designated driver drinks alcohol, find alternate transportation to get home.\",\n",
              "   'summary': 'Plan in advance. Assign a designated driver. Leave your car at home. Leave the venue with your designated driver.'},\n",
              "  'Finding Other Transportation': {'document': 'make sure that the area is a safe place, especially if you plan on walking home at night.  It’s always a good idea to practice the buddy system.  Have a friend meet up and walk with you. Research the bus, train, or streetcar routes available in your area to find safe and affordable travel to your destination.  Make sure you check the schedule for your outgoing and return travel.  Some public transportation will cease to run late at night.  Be sure if you take public transportation to the venue that you will also be able to get home late at night. Check the routes.  Even if some public transit is still running late at night, the routing may change.  Some may run express past many of the stops, or not travel all the way to the ends.  Be sure that your stop will still be available when you need it for your return trip. If you are taking public transit in a vulnerable state after drinking, it is always a good idea to travel in groups.  Having friends available is a good way to stay safe and make sure that you reach your destination. This is more expensive option than a taxi or ride share service, but could be a fun and fancy way to stay safe and ensure that you will have a ride home. Plan this service in advance with a scheduled time to pick you up from your home and the venue.  You want to be sure that the service will still be available when you need to get home. This may be easy in a large city, but taxis may be less frequent in smaller towns.  This is especially true late at night, so this is a less reliable option than scheduling a ride in advance.  Have a friend accompany you and help you flag a cab to make sure you are able to get one. Set up a plan to call a friend when you get home to make sure that you made it safely to your destination. If there are no taxis readily available call a local service to send a car to pick you up. You can share a ride with your friends, or other people using the app at the same moment.  If you are in a vulnerable state it is best to share the ride with your friends to make sure you get home safe. You can request the car to yourself rather than sharing rides with strangers. If you travel home on your own or are the last of your group to be dropped off, make plans to call a friend when you get home so they know you made it safely to your destination. There may be a designated driver service in your area which can chauffeur your group.  Make reservations with them in advance and keep their contact information handy while you are drinking.',\n",
              "   'summary': 'Walk to the venue where you will be drinking if it is close enough. Take public transit. Show up in style by hiring a limo or black car service. Flag a taxi cab for a convenient option to get where you’re going. Request a rideshare service like Uber or Lyft using an app on your phone. Reserve a designated driver service.'},\n",
              "  'Staying Safe': {'document': 'If you have been drinking at all you are at least on the spectrum of drunkenness.  You could be showing signs of impairment and slower brain function including lack of motor skills and slower reaction time, leading to the inability to operate a motor vehicle.  Some of these signs could be:  Poor balance or stumbling.  Difficulty speaking clearly and slurred words.  Abnormal behavior leading to you doing things you wouldn’t normally do if you were sober. As soon as you notice that you are showing signs of impairment, give your keys to a friend, the host or the bartender to ensure that you won’t drive until you are sober.  Make sure to only give them your car key.  Hold onto your house keys. If your friend, the host or the bartender are advising you not to drive, you are likely too drunk.  Listen to their advice and acknowledge that they are trying to help you. Bystander intervention is common when it comes to drinking and driving.  Many people will be willing to step in, take your keys and help you get home safely.  If no one if offering to help, you may need to ask.  Take a ride from a sober friend.  It is best to get in a car with someone you trust when you are in this vulnerable state. Allow the host or bartender to call a cab or car service to take you home. If you are having a difficult time finding a safe way to get home, find a place to stay which does not involve you driving.  Ask the host of the party if there is a place you can sleep.  Give them your keys and ask that they keep them in a safe place until the morning. Stay with a friend if they live nearby and are on their way home. Find a hotel within walking distance.  Call them to book a room, or have a friend help you secure one.  Ask the friend if they will walk you to the hotel and make sure you get checked in safely. There are people in your life who care about you and want to be sure that you are safe.  It may seem scary or embarrassing to call your parents or your siblings if you are too drunk to drive, but they will be glad you did.  Your safety is the most important. You may need your phone to call someone for a ride or get help from a friend.  Be sure to charge your phone before you leave the house.  It is also a good idea to bring a charger with you in case your battery dies before the end of the night or you end up staying where you are and need to get home the next morning. You may also want to invest in a portable battery charger for your phone should there not be a power outlet available.  Make sure it is fully charged before you leave your house.  Keep it handy in your pocket or your bag throughout the night.',\n",
              "   'summary': 'Pay attention to your body. Give up your keys. Listen to other people. Accept help. Stay where you are. Have an emergency back-up plan. Make sure that your phone is charged.'}})"
            ]
          },
          "metadata": {
            "tags": []
          },
          "execution_count": 4
        }
      ]
    },
    {
      "cell_type": "markdown",
      "metadata": {
        "id": "RGfopoxnq7vr"
      },
      "source": [
        "**english_docs** is a dictionary where key is the url of the corresponding [WikiHow](https://www.wikihow.com/) article and value is a dictionary.\n",
        "\n",
        "The inner dictionary has section names as the keys and a dictionary (with keys \"document\" and \"summary\") as values. The \"document\" and \"summary\" represents the document text and the summary of the corresponding section of the WikiHow article."
      ]
    },
    {
      "cell_type": "markdown",
      "metadata": {
        "id": "e4IQyfqGsVr1"
      },
      "source": [
        "The following example shows the document and summary for the section \"Explaining the Benefits of Voting\" in the article. [How to Convince Someone to Vote](https://www.wikihow.com/Convince-Someone-to-Vote).\n",
        "\n"
      ]
    },
    {
      "cell_type": "markdown",
      "metadata": {
        "id": "Tscx-Wivu0FO"
      },
      "source": [
        "**Document:**"
      ]
    },
    {
      "cell_type": "code",
      "metadata": {
        "colab": {
          "base_uri": "https://localhost:8080/",
          "height": 140
        },
        "id": "5wYavi-0oVJj",
        "outputId": "635ae0f7-1fd7-4b01-8785-21a38cf4bfcb"
      },
      "source": [
        "english_docs[\"https://www.wikihow.com/Convince-Someone-to-Vote\"][\"Explaining the Benefits of Voting\"][\"document\"]"
      ],
      "execution_count": null,
      "outputs": [
        {
          "output_type": "execute_result",
          "data": {
            "application/vnd.google.colaboratory.intrinsic+json": {
              "type": "string"
            },
            "text/plain": [
              "\"Especially if the person you're talking to wasn’t moved by your persuasive techniques, you can continue the conversation by explaining all the reasons why that person should vote. One of the biggest reasons that people don’t vote is because they don’t see the point, so you can explain that the only way they can be heard is by casting a vote. A vote isn't just a piece of paper: it’s a person’s way of weighing in on who should be running the country, so not voting is the same as throwing away their say in the matter. To make this as clear as possible, use an example that showcases two very different political candidates, and go over how the election of each candidate could change the future for a particular country. Once you’ve explained the two very different possible realities, continue by saying that voting is your way of making sure that situation A doesn’t occur, or ensuring that scenario B does come to fruition, depending on what's important to the person you're trying to persuade. Another main reason people cite for not voting is they don’t know which candidate to vote for, so you can alleviate this stress by knowing the candidates’ platforms and being able to explain them clearly. If you can make people understand the political platforms and what’s at stake, you may be able to convince them to weigh in by voting. It’s also a good idea to have a few nice things to say about each candidate, even if you don’t endorse them. People are often turned off by politicians, so if you have some nice things to say about the candidates, you'll make them seem more likeable, more human, and more relatable. A major argument against voting is that it makes no difference, and if that’s the case, you may be able to convince the person to vote by showing them otherwise. The 2000 U.S. presidential election is a great example to use: Another reason people often say they don’t vote is because they have no means of transportation to and from the polls, so you can alleviate this reason quickly and easily by offering to drive them on election day.\""
            ]
          },
          "metadata": {
            "tags": []
          },
          "execution_count": 5
        }
      ]
    },
    {
      "cell_type": "markdown",
      "metadata": {
        "id": "yuiGrfDlu4jb"
      },
      "source": [
        "**Summary:**"
      ]
    },
    {
      "cell_type": "code",
      "metadata": {
        "colab": {
          "base_uri": "https://localhost:8080/",
          "height": 54
        },
        "id": "T1c8FIvzutF0",
        "outputId": "4c01d157-113c-446c-c0fe-35252ce3af6b"
      },
      "source": [
        "english_docs[\"https://www.wikihow.com/Convince-Someone-to-Vote\"][\"Explaining the Benefits of Voting\"][\"summary\"]"
      ],
      "execution_count": null,
      "outputs": [
        {
          "output_type": "execute_result",
          "data": {
            "application/vnd.google.colaboratory.intrinsic+json": {
              "type": "string"
            },
            "text/plain": [
              "'Tell the person that you must vote to have your voice counted. Explain that voting shapes the future of a country. Offer reasons to vote for different candidates. Explain that the person’s vote does make a difference. Drive the person to the polls.'"
            ]
          },
          "metadata": {
            "tags": []
          },
          "execution_count": 6
        }
      ]
    },
    {
      "cell_type": "markdown",
      "metadata": {
        "id": "XeR05fMAwJcy"
      },
      "source": [
        "# Getting Parallel English Article for the Articles in Other Languages"
      ]
    },
    {
      "cell_type": "markdown",
      "metadata": {
        "id": "aB4PnkVswXwg"
      },
      "source": [
        "The dataset includes articles and summaries in 18 languages. One important characteristic of this dataset is that articles/summaries in other languages (than English) includes parallel English articles/summaries. Therefore, it can be used as a benchmark to evaluate cross-lingual abstractive summarization systems."
      ]
    },
    {
      "cell_type": "code",
      "metadata": {
        "id": "RGJGMMBnuxvF"
      },
      "source": [
        "with open('/content/drive/My Drive/WikiLingua/spanish.pkl', 'rb') as f:\n",
        "  spanish_docs=pickle.load(f)"
      ],
      "execution_count": null,
      "outputs": []
    },
    {
      "cell_type": "markdown",
      "metadata": {
        "id": "HaMLSIkyzGwd"
      },
      "source": [
        "**spanish_docs** is a dictionary that is very similar to **english_docs**. Only difference is that inner-most dictionary has additional keys \"english_section_name\" and \"english_url\" which are the corresponding section name and the url for the corresponding parallel English article. These keys are included in the dictionaries of all the languages other than English."
      ]
    },
    {
      "cell_type": "markdown",
      "metadata": {
        "id": "pZjSI7ptzmqw"
      },
      "source": [
        "The following example shows the document and summary for the section \"Explicar los beneficios de votar\" in the article. [Cómo convencer a alguien de votar](https://es.wikihow.com/convencer-a-alguien-de-votar).\n"
      ]
    },
    {
      "cell_type": "code",
      "metadata": {
        "colab": {
          "base_uri": "https://localhost:8080/"
        },
        "id": "wVpd3Z0My8l0",
        "outputId": "d5c50284-d23a-4d21-e22c-8a78d2b6ec1f"
      },
      "source": [
        "spanish_docs[\"https://es.wikihow.com/convencer-a-alguien-de-votar\"]['Explicar los beneficios de votar']"
      ],
      "execution_count": null,
      "outputs": [
        {
          "output_type": "execute_result",
          "data": {
            "text/plain": [
              "{'document': 'De manera especial si la persona con la que hablas no se siente entusiasmada por tus técnicas de persuasión, puedes continuar la conversación explicándole todas las razones por las que debe votar. Una razón principal por la cual las personas no votan es porque no ven la finalidad, por lo tanto, puedes explicar que la única forma en que pueden ser escuchadas es emitiendo un voto. Un voto no es solo un pedazo de papel: es la forma en que una persona opina sobre quién debe dirigir el país, por lo tanto, no votar es lo mismo que desechar una opinión sobre el tema. Para que esto sea lo más claro posible, utiliza un ejemplo que muestre a dos candidatos políticos muy diferentes y examina cómo la elección de cada candidato podría cambiar el futuro de un país en particular. Una vez que hayas explicado los dos posibles futuros distintos, puedes afirmar que votar es tu forma de asegurarte de que la situación A no ocurra o de asegurarte de que la situación B sí se cristalice, dependiendo de lo que sea importante para la persona a la que tratas de persuadir. Otra razón principal por la cual las personas afirman no votar en que no saben por cuál candidato votar, por lo tanto, podrás aliviar ese estrés si conoces las plataformas de los candidatos y las puedes explicar claramente. Si puedes hacer que las personas comprendan las plataformas políticas y lo que está en juego, es posible que puedas convencerlas de intervenir en las votaciones. También es una buena idea tener algunas cosas buenas para decir sobre cada candidato, incluso si no los apoyas. Las personas a menudo están desconectadas de los políticos, por lo tanto, si tienes algo bueno para decir sobre los candidatos, los harás parecer más agradables, más humanos y más atractivos. Un argumento principal en contra de votar es que no hace la diferencia y, si ese es el caso, es posible que puedas convencer a esa persona de votar si le muestras lo contrario. Las elecciones del año 2000 de los Estados Unidos es un ejemplo excelente a usar: En las elecciones del año 2000 de los Estados Unidos todo se decidió en Florida y George W. Bush ganó por menos de 600 votos. Esto significa que si solo unos cientos más de personas hubieron ido a las urnas ese día, los siguientes cuatro años de la historia de Estados Unidos podrían haber sido completamente diferentes. Otra razón por la cual las personas a menudo dicen que no votan es porque no tienen medios de transporte hacia y desde las urnas, por lo tanto, podrías aliviar esa razón de manera rápida y fácil ofreciéndote a trasladarla el día de la elección.',\n",
              " 'english_section_name': 'Explaining the Benefits of Voting',\n",
              " 'english_url': 'https://www.wikihow.com/Convince-Someone-to-Vote',\n",
              " 'summary': 'Dile a esa persona que debe votar para que su voz se tenga en cuenta. Explica que votar da forma al futuro de un país. Ofrece razones para votar por distintos candidatos. Explica que el voto de una persona sí hace la diferencia. Lleva a esa persona a las urnas.'}"
            ]
          },
          "metadata": {
            "tags": []
          },
          "execution_count": 8
        }
      ]
    },
    {
      "cell_type": "markdown",
      "metadata": {
        "id": "RKTFmW0hwJPC"
      },
      "source": [
        "You can see the document and the summary for this section as follows:"
      ]
    },
    {
      "cell_type": "markdown",
      "metadata": {
        "id": "QRJwZAj1z_3N"
      },
      "source": [
        "**Document:**"
      ]
    },
    {
      "cell_type": "code",
      "metadata": {
        "colab": {
          "base_uri": "https://localhost:8080/",
          "height": 140
        },
        "id": "xvv1tL4_z-Kf",
        "outputId": "43a8db26-cb7c-4984-ec52-e24331b98696"
      },
      "source": [
        "spanish_docs[\"https://es.wikihow.com/convencer-a-alguien-de-votar\"]['Explicar los beneficios de votar'][\"document\"]"
      ],
      "execution_count": null,
      "outputs": [
        {
          "output_type": "execute_result",
          "data": {
            "application/vnd.google.colaboratory.intrinsic+json": {
              "type": "string"
            },
            "text/plain": [
              "'De manera especial si la persona con la que hablas no se siente entusiasmada por tus técnicas de persuasión, puedes continuar la conversación explicándole todas las razones por las que debe votar. Una razón principal por la cual las personas no votan es porque no ven la finalidad, por lo tanto, puedes explicar que la única forma en que pueden ser escuchadas es emitiendo un voto. Un voto no es solo un pedazo de papel: es la forma en que una persona opina sobre quién debe dirigir el país, por lo tanto, no votar es lo mismo que desechar una opinión sobre el tema. Para que esto sea lo más claro posible, utiliza un ejemplo que muestre a dos candidatos políticos muy diferentes y examina cómo la elección de cada candidato podría cambiar el futuro de un país en particular. Una vez que hayas explicado los dos posibles futuros distintos, puedes afirmar que votar es tu forma de asegurarte de que la situación A no ocurra o de asegurarte de que la situación B sí se cristalice, dependiendo de lo que sea importante para la persona a la que tratas de persuadir. Otra razón principal por la cual las personas afirman no votar en que no saben por cuál candidato votar, por lo tanto, podrás aliviar ese estrés si conoces las plataformas de los candidatos y las puedes explicar claramente. Si puedes hacer que las personas comprendan las plataformas políticas y lo que está en juego, es posible que puedas convencerlas de intervenir en las votaciones. También es una buena idea tener algunas cosas buenas para decir sobre cada candidato, incluso si no los apoyas. Las personas a menudo están desconectadas de los políticos, por lo tanto, si tienes algo bueno para decir sobre los candidatos, los harás parecer más agradables, más humanos y más atractivos. Un argumento principal en contra de votar es que no hace la diferencia y, si ese es el caso, es posible que puedas convencer a esa persona de votar si le muestras lo contrario. Las elecciones del año 2000 de los Estados Unidos es un ejemplo excelente a usar: En las elecciones del año 2000 de los Estados Unidos todo se decidió en Florida y George W. Bush ganó por menos de 600 votos. Esto significa que si solo unos cientos más de personas hubieron ido a las urnas ese día, los siguientes cuatro años de la historia de Estados Unidos podrían haber sido completamente diferentes. Otra razón por la cual las personas a menudo dicen que no votan es porque no tienen medios de transporte hacia y desde las urnas, por lo tanto, podrías aliviar esa razón de manera rápida y fácil ofreciéndote a trasladarla el día de la elección.'"
            ]
          },
          "metadata": {
            "tags": []
          },
          "execution_count": 9
        }
      ]
    },
    {
      "cell_type": "markdown",
      "metadata": {
        "id": "xgqINRQF0Fwj"
      },
      "source": [
        "**Summary:**"
      ]
    },
    {
      "cell_type": "code",
      "metadata": {
        "colab": {
          "base_uri": "https://localhost:8080/",
          "height": 54
        },
        "id": "V-ZGkkjW0B6Y",
        "outputId": "972c7687-47fd-40eb-8e24-d161ffee6582"
      },
      "source": [
        "spanish_docs[\"https://es.wikihow.com/convencer-a-alguien-de-votar\"]['Explicar los beneficios de votar'][\"summary\"]"
      ],
      "execution_count": null,
      "outputs": [
        {
          "output_type": "execute_result",
          "data": {
            "application/vnd.google.colaboratory.intrinsic+json": {
              "type": "string"
            },
            "text/plain": [
              "'Dile a esa persona que debe votar para que su voz se tenga en cuenta. Explica que votar da forma al futuro de un país. Ofrece razones para votar por distintos candidatos. Explica que el voto de una persona sí hace la diferencia. Lleva a esa persona a las urnas.'"
            ]
          },
          "metadata": {
            "tags": []
          },
          "execution_count": 10
        }
      ]
    },
    {
      "cell_type": "markdown",
      "metadata": {
        "id": "BT9IFNHR04S3"
      },
      "source": [
        "**You can see the link and the section name for the parallel document as follows:**\n"
      ]
    },
    {
      "cell_type": "markdown",
      "metadata": {
        "id": "r6Esrw1j1HIz"
      },
      "source": [
        " **URL for the English document:**"
      ]
    },
    {
      "cell_type": "code",
      "metadata": {
        "id": "HV6ydXqn1AJx"
      },
      "source": [
        "parallel_english_url=spanish_docs[\"https://es.wikihow.com/convencer-a-alguien-de-votar\"]['Explicar los beneficios de votar'][\"english_url\"]"
      ],
      "execution_count": null,
      "outputs": []
    },
    {
      "cell_type": "code",
      "metadata": {
        "colab": {
          "base_uri": "https://localhost:8080/",
          "height": 37
        },
        "id": "sjEEHCix1gtc",
        "outputId": "922ad41c-b17f-4a28-b78c-d7a5e78ab1ec"
      },
      "source": [
        "parallel_english_url"
      ],
      "execution_count": null,
      "outputs": [
        {
          "output_type": "execute_result",
          "data": {
            "application/vnd.google.colaboratory.intrinsic+json": {
              "type": "string"
            },
            "text/plain": [
              "'https://www.wikihow.com/Convince-Someone-to-Vote'"
            ]
          },
          "metadata": {
            "tags": []
          },
          "execution_count": 12
        }
      ]
    },
    {
      "cell_type": "markdown",
      "metadata": {
        "id": "NqWYXfK21NbB"
      },
      "source": [
        "**Section Name for the English document:**"
      ]
    },
    {
      "cell_type": "code",
      "metadata": {
        "id": "HEOdUEKG1THz"
      },
      "source": [
        "parallel_english_sn=spanish_docs[\"https://es.wikihow.com/convencer-a-alguien-de-votar\"]['Explicar los beneficios de votar'][\"english_section_name\"]"
      ],
      "execution_count": null,
      "outputs": []
    },
    {
      "cell_type": "code",
      "metadata": {
        "colab": {
          "base_uri": "https://localhost:8080/",
          "height": 37
        },
        "id": "sgBere2z1kks",
        "outputId": "d07a691c-53e1-4815-caec-e8e0ba50aaa8"
      },
      "source": [
        "parallel_english_sn"
      ],
      "execution_count": null,
      "outputs": [
        {
          "output_type": "execute_result",
          "data": {
            "application/vnd.google.colaboratory.intrinsic+json": {
              "type": "string"
            },
            "text/plain": [
              "'Explaining the Benefits of Voting'"
            ]
          },
          "metadata": {
            "tags": []
          },
          "execution_count": 14
        }
      ]
    },
    {
      "cell_type": "markdown",
      "metadata": {
        "id": "s7a58U990nQs"
      },
      "source": [
        "**You can get the parallel English document and summary as follows:**\n"
      ]
    },
    {
      "cell_type": "code",
      "metadata": {
        "colab": {
          "base_uri": "https://localhost:8080/",
          "height": 140
        },
        "id": "gRFc6tZ70Ehf",
        "outputId": "92728504-04d8-47d5-a9f1-ddf0777e8504"
      },
      "source": [
        "english_docs[parallel_english_url][parallel_english_sn][\"document\"]"
      ],
      "execution_count": null,
      "outputs": [
        {
          "output_type": "execute_result",
          "data": {
            "application/vnd.google.colaboratory.intrinsic+json": {
              "type": "string"
            },
            "text/plain": [
              "\"Especially if the person you're talking to wasn’t moved by your persuasive techniques, you can continue the conversation by explaining all the reasons why that person should vote. One of the biggest reasons that people don’t vote is because they don’t see the point, so you can explain that the only way they can be heard is by casting a vote. A vote isn't just a piece of paper: it’s a person’s way of weighing in on who should be running the country, so not voting is the same as throwing away their say in the matter. To make this as clear as possible, use an example that showcases two very different political candidates, and go over how the election of each candidate could change the future for a particular country. Once you’ve explained the two very different possible realities, continue by saying that voting is your way of making sure that situation A doesn’t occur, or ensuring that scenario B does come to fruition, depending on what's important to the person you're trying to persuade. Another main reason people cite for not voting is they don’t know which candidate to vote for, so you can alleviate this stress by knowing the candidates’ platforms and being able to explain them clearly. If you can make people understand the political platforms and what’s at stake, you may be able to convince them to weigh in by voting. It’s also a good idea to have a few nice things to say about each candidate, even if you don’t endorse them. People are often turned off by politicians, so if you have some nice things to say about the candidates, you'll make them seem more likeable, more human, and more relatable. A major argument against voting is that it makes no difference, and if that’s the case, you may be able to convince the person to vote by showing them otherwise. The 2000 U.S. presidential election is a great example to use: Another reason people often say they don’t vote is because they have no means of transportation to and from the polls, so you can alleviate this reason quickly and easily by offering to drive them on election day.\""
            ]
          },
          "metadata": {
            "tags": []
          },
          "execution_count": 15
        }
      ]
    },
    {
      "cell_type": "code",
      "metadata": {
        "colab": {
          "base_uri": "https://localhost:8080/",
          "height": 54
        },
        "id": "jehKX0531nPn",
        "outputId": "f246fe20-4b1c-404e-ed9a-c0d9d51e7374"
      },
      "source": [
        "english_docs[parallel_english_url][parallel_english_sn][\"summary\"]"
      ],
      "execution_count": null,
      "outputs": [
        {
          "output_type": "execute_result",
          "data": {
            "application/vnd.google.colaboratory.intrinsic+json": {
              "type": "string"
            },
            "text/plain": [
              "'Tell the person that you must vote to have your voice counted. Explain that voting shapes the future of a country. Offer reasons to vote for different candidates. Explain that the person’s vote does make a difference. Drive the person to the polls.'"
            ]
          },
          "metadata": {
            "tags": []
          },
          "execution_count": 16
        }
      ]
    },
    {
      "cell_type": "code",
      "metadata": {
        "id": "x1DPtG7B1tkJ",
        "outputId": "a8b7f4db-fb79-468c-9e78-adcae411fcff",
        "colab": {
          "base_uri": "https://localhost:8080/"
        }
      },
      "source": [
        "!pip install transformers\n"
      ],
      "execution_count": 2,
      "outputs": [
        {
          "output_type": "stream",
          "name": "stdout",
          "text": [
            "Collecting transformers\n",
            "  Downloading transformers-4.30.2-py3-none-any.whl (7.2 MB)\n",
            "\u001b[2K     \u001b[90m━━━━━━━━━━━━━━━━━━━━━━━━━━━━━━━━━━━━━━━━\u001b[0m \u001b[32m7.2/7.2 MB\u001b[0m \u001b[31m49.4 MB/s\u001b[0m eta \u001b[36m0:00:00\u001b[0m\n",
            "\u001b[?25hRequirement already satisfied: filelock in /usr/local/lib/python3.10/dist-packages (from transformers) (3.12.2)\n",
            "Collecting huggingface-hub<1.0,>=0.14.1 (from transformers)\n",
            "  Downloading huggingface_hub-0.15.1-py3-none-any.whl (236 kB)\n",
            "\u001b[2K     \u001b[90m━━━━━━━━━━━━━━━━━━━━━━━━━━━━━━━━━━━━━━\u001b[0m \u001b[32m236.8/236.8 kB\u001b[0m \u001b[31m26.3 MB/s\u001b[0m eta \u001b[36m0:00:00\u001b[0m\n",
            "\u001b[?25hRequirement already satisfied: numpy>=1.17 in /usr/local/lib/python3.10/dist-packages (from transformers) (1.22.4)\n",
            "Requirement already satisfied: packaging>=20.0 in /usr/local/lib/python3.10/dist-packages (from transformers) (23.1)\n",
            "Requirement already satisfied: pyyaml>=5.1 in /usr/local/lib/python3.10/dist-packages (from transformers) (6.0)\n",
            "Requirement already satisfied: regex!=2019.12.17 in /usr/local/lib/python3.10/dist-packages (from transformers) (2022.10.31)\n",
            "Requirement already satisfied: requests in /usr/local/lib/python3.10/dist-packages (from transformers) (2.27.1)\n",
            "Collecting tokenizers!=0.11.3,<0.14,>=0.11.1 (from transformers)\n",
            "  Downloading tokenizers-0.13.3-cp310-cp310-manylinux_2_17_x86_64.manylinux2014_x86_64.whl (7.8 MB)\n",
            "\u001b[2K     \u001b[90m━━━━━━━━━━━━━━━━━━━━━━━━━━━━━━━━━━━━━━━━\u001b[0m \u001b[32m7.8/7.8 MB\u001b[0m \u001b[31m96.8 MB/s\u001b[0m eta \u001b[36m0:00:00\u001b[0m\n",
            "\u001b[?25hCollecting safetensors>=0.3.1 (from transformers)\n",
            "  Downloading safetensors-0.3.1-cp310-cp310-manylinux_2_17_x86_64.manylinux2014_x86_64.whl (1.3 MB)\n",
            "\u001b[2K     \u001b[90m━━━━━━━━━━━━━━━━━━━━━━━━━━━━━━━━━━━━━━━━\u001b[0m \u001b[32m1.3/1.3 MB\u001b[0m \u001b[31m75.2 MB/s\u001b[0m eta \u001b[36m0:00:00\u001b[0m\n",
            "\u001b[?25hRequirement already satisfied: tqdm>=4.27 in /usr/local/lib/python3.10/dist-packages (from transformers) (4.65.0)\n",
            "Requirement already satisfied: fsspec in /usr/local/lib/python3.10/dist-packages (from huggingface-hub<1.0,>=0.14.1->transformers) (2023.6.0)\n",
            "Requirement already satisfied: typing-extensions>=3.7.4.3 in /usr/local/lib/python3.10/dist-packages (from huggingface-hub<1.0,>=0.14.1->transformers) (4.6.3)\n",
            "Requirement already satisfied: urllib3<1.27,>=1.21.1 in /usr/local/lib/python3.10/dist-packages (from requests->transformers) (1.26.16)\n",
            "Requirement already satisfied: certifi>=2017.4.17 in /usr/local/lib/python3.10/dist-packages (from requests->transformers) (2023.5.7)\n",
            "Requirement already satisfied: charset-normalizer~=2.0.0 in /usr/local/lib/python3.10/dist-packages (from requests->transformers) (2.0.12)\n",
            "Requirement already satisfied: idna<4,>=2.5 in /usr/local/lib/python3.10/dist-packages (from requests->transformers) (3.4)\n",
            "Installing collected packages: tokenizers, safetensors, huggingface-hub, transformers\n",
            "Successfully installed huggingface-hub-0.15.1 safetensors-0.3.1 tokenizers-0.13.3 transformers-4.30.2\n"
          ]
        }
      ]
    },
    {
      "cell_type": "code",
      "source": [
        "from transformers import TFAutoModel, AutoTokenizer\n",
        "from clean_arabic_text import preprocess_arabic_text"
      ],
      "metadata": {
        "id": "a_nuq4cy9yOn"
      },
      "execution_count": 10,
      "outputs": []
    },
    {
      "cell_type": "code",
      "source": [
        "tokenizer = AutoTokenizer.from_pretrained(\"asafaya/bert-base-arabic\")\n"
      ],
      "metadata": {
        "id": "ur6MWqnS95g0",
        "outputId": "9a3e8036-63d2-4b43-fc7a-cf1df6cb20ac",
        "colab": {
          "base_uri": "https://localhost:8080/",
          "height": 145,
          "referenced_widgets": [
            "ed1850c5e88a41ad9a49b722d31d3708",
            "6d85da435c614582980c3107a0b276f4",
            "c3738fff06ca4f358cd6be0ca7121947",
            "828df1252b514d00a17259024a784cb4",
            "57cb3f3b758c4adf883225f5c8e33e5e",
            "3fd8ccf124a34c1f8847220ee8b002bf",
            "3d6f2938c89d4de5a334398cec3733f3",
            "6bfada860e194d2ebd47bafed2d48b17",
            "9797e4b3d9ea4194ab545effa4f5d3a8",
            "63f77e5ce39e43458219d2fbb3ce5beb",
            "e0fecfa142a04fd4b43b836bb82cecfb",
            "1c15275e714e4e61aee36a94d18f599e",
            "fb6676e3174a473a83e913e03aea6fac",
            "e13c1cdafd2e403b9ff074122f41de1c",
            "2fa3854149784cd6a843adf3840a976d",
            "efbbc2e28d8846a0b4104e4fed2d030d",
            "48fc23a599f945129bf8fc0e41862f93",
            "621bb58e4a5240d99cb2b82990ca9858",
            "1372ba05389049dfafe636a9edd33d10",
            "56f4c591021d4e3c8275fb963b1f1e0e",
            "e3637d522ecb42849b003b8b2e89c641",
            "b94ecc2a0d2b4f7cbf5c8d1321d17968",
            "38ae28a90d734964aeeadaf478e969de",
            "dbf04e4fa8d441dda8ab17effcff04bb",
            "d22bad48f66340f8a58bc1a05b880e87",
            "b1c26abfee9c49a9a9c6557a0e59f3d1",
            "18b691c9d7cc4afaa923331202dcac88",
            "5b8e5bd63e1e44659c5dd26cef38d9c2",
            "862eb8bb1cde45a6bee40f8b0113769e",
            "e589ed0238714fdba721ce6af0a5a727",
            "126416fac5a54d228ef10551ab61a32b",
            "3d36183c38cd469391d7b32393685f22",
            "221f822f20614a3a98eb89702999778d",
            "717f0400f31b4a769799c115f9b9c046",
            "7d84682f6c5c47a7b44598b11c14b56e",
            "f873127a26b44bf4b1136b23f16831c2",
            "e02fe0bc2a7c4945bc39b28e1f2cab0c",
            "d823a2377c5a4b1e8f2d25d50b5c001c",
            "0e0f9997640648f4aa4d2896233c190e",
            "a8acf13179054484a4a651a6ab184785",
            "0eb81608a9be499b99ef20359f4f4a92",
            "180c90d2069e46dc8bb3dec5828861b1",
            "f60a7ea014a94a70bfcde8be5ba1e9bc",
            "7eb49a9333874c0e9e8b2b49c72b2be8"
          ]
        }
      },
      "execution_count": 4,
      "outputs": [
        {
          "output_type": "display_data",
          "data": {
            "text/plain": [
              "Downloading (…)okenizer_config.json:   0%|          | 0.00/62.0 [00:00<?, ?B/s]"
            ],
            "application/vnd.jupyter.widget-view+json": {
              "version_major": 2,
              "version_minor": 0,
              "model_id": "ed1850c5e88a41ad9a49b722d31d3708"
            }
          },
          "metadata": {}
        },
        {
          "output_type": "display_data",
          "data": {
            "text/plain": [
              "Downloading (…)lve/main/config.json:   0%|          | 0.00/491 [00:00<?, ?B/s]"
            ],
            "application/vnd.jupyter.widget-view+json": {
              "version_major": 2,
              "version_minor": 0,
              "model_id": "1c15275e714e4e61aee36a94d18f599e"
            }
          },
          "metadata": {}
        },
        {
          "output_type": "display_data",
          "data": {
            "text/plain": [
              "Downloading (…)solve/main/vocab.txt:   0%|          | 0.00/334k [00:00<?, ?B/s]"
            ],
            "application/vnd.jupyter.widget-view+json": {
              "version_major": 2,
              "version_minor": 0,
              "model_id": "38ae28a90d734964aeeadaf478e969de"
            }
          },
          "metadata": {}
        },
        {
          "output_type": "display_data",
          "data": {
            "text/plain": [
              "Downloading (…)cial_tokens_map.json:   0%|          | 0.00/112 [00:00<?, ?B/s]"
            ],
            "application/vnd.jupyter.widget-view+json": {
              "version_major": 2,
              "version_minor": 0,
              "model_id": "717f0400f31b4a769799c115f9b9c046"
            }
          },
          "metadata": {}
        }
      ]
    },
    {
      "cell_type": "code",
      "source": [
        "text = \"\"\"\tوتحت عنوان من الكارثه الي التحدي يبدا الكاتب عرض الكتاب الرابع  حيث يوضح كيف كانت اسراءيل فرحه بنصرها عام 67 وانها ارتاحت لاعتقادها بان هناك وقتا طويلا وطويلا جدا قبل ان يفيق العرب من صدمه 67 وكيف ان القوات الجويه للجمهوريه العربيه المتحده قد فاجاتها بعد شهر واحد من نهايه حرب 67 بهجوم جوي عنيف علي مواقعها في سيناء وكان هذا اعلانا عن بدايه حرب من نوع جديد هي حرب الاستنزاف التي استمرت حتي تم وقف اطلاق النار بين الطرفين في 8 اغسطس 1970 ثم وفاه عبدالناصر وتولي انور السادات حكم مصر واستعداده للحرب  ويتعرض الكاتب ايضا وبصوره سريعه لفلسطين والاردن وسوريا قبل ان ينتقل الي الكتاب الخامس عن حرب اكتوبر  حيث يعرض الخطط والاستعدادات المصريه ثم الاستعدادات الاسراءيليه ثم يبدا بعرض وقاءع الحرب بدايه من الضربه الجويه وانهيار خط بارليف واختراقه  ويتوقف الكاتب عند يوم 8 اكتوبر  ويقول  ان هذا اليوم كان اسوا هزيمه في تاريخ الجيش الاسراءيلي ثم ينتقل بنا المءلف الي الجبهه السوريه ثم يعود ثانيه الي يوميات الحرب حتي 7 9 اكتوبر الي 9 13 اكتوبر ثم 14 اكتوبر  ثم يعرض للثغره او ما عرف بعمليه المزرعه الصينيه يوم 16 و 15 اكتوبر والمساعدات الامريكيه الضخمه لاسراءيل  ثم بدايه الضغوط السياسيه علي الرءيس انور السادات من 17 19 اكتوبر ثم ينتقل الكاتب للاحداث التي جرت من 17 20 اكتوبر واعفاء الفريق الشاذلي من منصبه كرءيس لاركان القوات المسلحه المصريه  وتولي الفريق الجمسي بدلا منه ثم الاتجاه الي الموافقه علي طلب وقف اطلاق النار والخلاف مع سوريا بشان هذا الامر  ثم بدايه الهجوم الاسراءيلي من 19 الي 22 اكتوبر علي الضفه الغربيه لقناه السويس والعمليات النهاءيه في سوريا 14 23 اكتوبر  وكيف ان الملك حسين قرر دخول الحرب ضد اسراءيل يوم 9 اكتوبر  ثم يعرض الكاتب المعركه الخاصه بالاستيلاء علي مدينه السويس من 23 اكتوبر الي 25 اكتوبر ثم تطورات هذه المعركه  وكيف انه مع حلول يوم السابع والعشرين من اكتوبر كان الاسراءيليون قد اسروا نحو ثمانيه الاف فرد من القوات المصريه  اغلبهم من وحدات الامداد والتموين\n",
        "\"\"\"\n",
        "cleaned_text = preprocess_arabic_text(text)"
      ],
      "metadata": {
        "id": "WlwIoZ8k-g7H"
      },
      "execution_count": 16,
      "outputs": []
    },
    {
      "cell_type": "code",
      "source": [
        "len(text.split(' '))\n"
      ],
      "metadata": {
        "id": "ywfQcqcy_mgh",
        "outputId": "5acfa6e4-3863-4e72-a2e6-a5aea5cffbf4",
        "colab": {
          "base_uri": "https://localhost:8080/"
        }
      },
      "execution_count": 18,
      "outputs": [
        {
          "output_type": "execute_result",
          "data": {
            "text/plain": [
              "335"
            ]
          },
          "metadata": {},
          "execution_count": 18
        }
      ]
    },
    {
      "cell_type": "code",
      "source": [
        "len(cleaned_text.split(' '))"
      ],
      "metadata": {
        "id": "LrNfz3IN-rxO",
        "outputId": "5d2d4a1e-28d9-4849-af56-eacd8f39e615",
        "colab": {
          "base_uri": "https://localhost:8080/"
        }
      },
      "execution_count": 17,
      "outputs": [
        {
          "output_type": "execute_result",
          "data": {
            "text/plain": [
              "336"
            ]
          },
          "metadata": {},
          "execution_count": 17
        }
      ]
    },
    {
      "cell_type": "code",
      "source": [
        "model = TFAutoModel.from_pretrained(\"/content/drive/MyDrive/traindmodel_19\")\n"
      ],
      "metadata": {
        "id": "rclpcNZb95zc",
        "outputId": "14d5889b-e0f1-46b8-cef4-daedd16ca7ee",
        "colab": {
          "base_uri": "https://localhost:8080/"
        }
      },
      "execution_count": 5,
      "outputs": [
        {
          "output_type": "stream",
          "name": "stderr",
          "text": [
            "All model checkpoint layers were used when initializing TFBertModel.\n",
            "\n",
            "All the layers of TFBertModel were initialized from the model checkpoint at /content/drive/MyDrive/traindmodel_19.\n",
            "If your task is similar to the task the model of the checkpoint was trained on, you can already use TFBertModel for predictions without further training.\n"
          ]
        }
      ]
    }
  ]
}