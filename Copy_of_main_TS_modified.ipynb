{
  "cells": [
    {
      "cell_type": "markdown",
      "metadata": {
        "id": "view-in-github",
        "colab_type": "text"
      },
      "source": [
        "<a href=\"https://colab.research.google.com/github/AliMostafaRadwan/BERT_for_QA/blob/main/Copy_of_main_TS_modified.ipynb\" target=\"_parent\"><img src=\"https://colab.research.google.com/assets/colab-badge.svg\" alt=\"Open In Colab\"/></a>"
      ]
    },
    {
      "cell_type": "markdown",
      "metadata": {
        "id": "qtJ57hCtoXiS"
      },
      "source": [
        "### Import libraries"
      ]
    },
    {
      "cell_type": "code",
      "execution_count": 1,
      "metadata": {
        "id": "nR67YarCX5oV"
      },
      "outputs": [],
      "source": [
        "from tensorflow.keras.preprocessing.text import Tokenizer\n",
        "from tensorflow.keras.preprocessing.sequence import pad_sequences\n",
        "from tensorflow.keras.layers import Input, LSTM, Embedding, Dense, \\\n",
        "    Concatenate, TimeDistributed, Bidirectional\n",
        "from tensorflow.keras.models import Model\n",
        "from tensorflow.keras.callbacks import EarlyStopping\n",
        "\n",
        "\n",
        "import matplotlib.pyplot as plt\n",
        "import pandas as pd\n",
        "import numpy as np\n",
        "import re"
      ]
    },
    {
      "cell_type": "code",
      "execution_count": 2,
      "metadata": {
        "colab": {
          "base_uri": "https://localhost:8080/"
        },
        "id": "DLQ29w8gnjG3",
        "outputId": "bf5490d2-ffb8-4f57-ca7e-3d4a3d24c78e"
      },
      "outputs": [
        {
          "output_type": "stream",
          "name": "stdout",
          "text": [
            "Mounted at /content/drive\n"
          ]
        }
      ],
      "source": [
        "from google.colab import drive\n",
        "drive.mount('/content/drive')"
      ]
    },
    {
      "cell_type": "code",
      "execution_count": 3,
      "metadata": {
        "colab": {
          "base_uri": "https://localhost:8080/",
          "height": 206
        },
        "id": "DwXrqbCCUWLr",
        "outputId": "9a7ca3ba-e3c0-4394-c75c-89b66a43b532"
      },
      "outputs": [
        {
          "output_type": "execute_result",
          "data": {
            "text/plain": [
              "          idx                                           document  \\\n",
              "20898  9991_1   معظم اقلام الابينفرين بها نافذه تسمح لك بمشاه...   \n",
              "20899  9991_2  قد تحدث الحساسيه المفرطه حينما يتعرض الشخص بال...   \n",
              "20900  9993_1  قد تصبح لديك مناطق من الماء الاسن اذا تشكلت كت...   \n",
              "20901  9993_2   يجب الا تنمو الطحالب اذا بقيت مطلعا علي كيميا...   \n",
              "20902  9994_2  عندما يصل الطبق الي طاولتك دون ملاحظتك عن مظهر...   \n",
              "\n",
              "                                                 summary  \n",
              "20898  حافظ علي قلم الابينفرين في علبته الي ان تحتاجه...  \n",
              "20899  تعرف علي اعراض الحساسيه المفرطه اسال الشخص ان ...  \n",
              "20900  قم بتحسين الدوره للتعامل مع مع البقع الصغيره م...  \n",
              "20901   حافظ علي ماء حمام السباحه اضف مبيد الطحالب كو...  \n",
              "20902  لاحظ طريقه تقديم الطبق استمتع باول قضمات اكتب ...  "
            ],
            "text/html": [
              "\n",
              "  <div id=\"df-20402655-bb81-417d-a092-8d1861c6677e\">\n",
              "    <div class=\"colab-df-container\">\n",
              "      <div>\n",
              "<style scoped>\n",
              "    .dataframe tbody tr th:only-of-type {\n",
              "        vertical-align: middle;\n",
              "    }\n",
              "\n",
              "    .dataframe tbody tr th {\n",
              "        vertical-align: top;\n",
              "    }\n",
              "\n",
              "    .dataframe thead th {\n",
              "        text-align: right;\n",
              "    }\n",
              "</style>\n",
              "<table border=\"1\" class=\"dataframe\">\n",
              "  <thead>\n",
              "    <tr style=\"text-align: right;\">\n",
              "      <th></th>\n",
              "      <th>idx</th>\n",
              "      <th>document</th>\n",
              "      <th>summary</th>\n",
              "    </tr>\n",
              "  </thead>\n",
              "  <tbody>\n",
              "    <tr>\n",
              "      <th>20898</th>\n",
              "      <td>9991_1</td>\n",
              "      <td>معظم اقلام الابينفرين بها نافذه تسمح لك بمشاه...</td>\n",
              "      <td>حافظ علي قلم الابينفرين في علبته الي ان تحتاجه...</td>\n",
              "    </tr>\n",
              "    <tr>\n",
              "      <th>20899</th>\n",
              "      <td>9991_2</td>\n",
              "      <td>قد تحدث الحساسيه المفرطه حينما يتعرض الشخص بال...</td>\n",
              "      <td>تعرف علي اعراض الحساسيه المفرطه اسال الشخص ان ...</td>\n",
              "    </tr>\n",
              "    <tr>\n",
              "      <th>20900</th>\n",
              "      <td>9993_1</td>\n",
              "      <td>قد تصبح لديك مناطق من الماء الاسن اذا تشكلت كت...</td>\n",
              "      <td>قم بتحسين الدوره للتعامل مع مع البقع الصغيره م...</td>\n",
              "    </tr>\n",
              "    <tr>\n",
              "      <th>20901</th>\n",
              "      <td>9993_2</td>\n",
              "      <td>يجب الا تنمو الطحالب اذا بقيت مطلعا علي كيميا...</td>\n",
              "      <td>حافظ علي ماء حمام السباحه اضف مبيد الطحالب كو...</td>\n",
              "    </tr>\n",
              "    <tr>\n",
              "      <th>20902</th>\n",
              "      <td>9994_2</td>\n",
              "      <td>عندما يصل الطبق الي طاولتك دون ملاحظتك عن مظهر...</td>\n",
              "      <td>لاحظ طريقه تقديم الطبق استمتع باول قضمات اكتب ...</td>\n",
              "    </tr>\n",
              "  </tbody>\n",
              "</table>\n",
              "</div>\n",
              "      <button class=\"colab-df-convert\" onclick=\"convertToInteractive('df-20402655-bb81-417d-a092-8d1861c6677e')\"\n",
              "              title=\"Convert this dataframe to an interactive table.\"\n",
              "              style=\"display:none;\">\n",
              "        \n",
              "  <svg xmlns=\"http://www.w3.org/2000/svg\" height=\"24px\"viewBox=\"0 0 24 24\"\n",
              "       width=\"24px\">\n",
              "    <path d=\"M0 0h24v24H0V0z\" fill=\"none\"/>\n",
              "    <path d=\"M18.56 5.44l.94 2.06.94-2.06 2.06-.94-2.06-.94-.94-2.06-.94 2.06-2.06.94zm-11 1L8.5 8.5l.94-2.06 2.06-.94-2.06-.94L8.5 2.5l-.94 2.06-2.06.94zm10 10l.94 2.06.94-2.06 2.06-.94-2.06-.94-.94-2.06-.94 2.06-2.06.94z\"/><path d=\"M17.41 7.96l-1.37-1.37c-.4-.4-.92-.59-1.43-.59-.52 0-1.04.2-1.43.59L10.3 9.45l-7.72 7.72c-.78.78-.78 2.05 0 2.83L4 21.41c.39.39.9.59 1.41.59.51 0 1.02-.2 1.41-.59l7.78-7.78 2.81-2.81c.8-.78.8-2.07 0-2.86zM5.41 20L4 18.59l7.72-7.72 1.47 1.35L5.41 20z\"/>\n",
              "  </svg>\n",
              "      </button>\n",
              "      \n",
              "  <style>\n",
              "    .colab-df-container {\n",
              "      display:flex;\n",
              "      flex-wrap:wrap;\n",
              "      gap: 12px;\n",
              "    }\n",
              "\n",
              "    .colab-df-convert {\n",
              "      background-color: #E8F0FE;\n",
              "      border: none;\n",
              "      border-radius: 50%;\n",
              "      cursor: pointer;\n",
              "      display: none;\n",
              "      fill: #1967D2;\n",
              "      height: 32px;\n",
              "      padding: 0 0 0 0;\n",
              "      width: 32px;\n",
              "    }\n",
              "\n",
              "    .colab-df-convert:hover {\n",
              "      background-color: #E2EBFA;\n",
              "      box-shadow: 0px 1px 2px rgba(60, 64, 67, 0.3), 0px 1px 3px 1px rgba(60, 64, 67, 0.15);\n",
              "      fill: #174EA6;\n",
              "    }\n",
              "\n",
              "    [theme=dark] .colab-df-convert {\n",
              "      background-color: #3B4455;\n",
              "      fill: #D2E3FC;\n",
              "    }\n",
              "\n",
              "    [theme=dark] .colab-df-convert:hover {\n",
              "      background-color: #434B5C;\n",
              "      box-shadow: 0px 1px 3px 1px rgba(0, 0, 0, 0.15);\n",
              "      filter: drop-shadow(0px 1px 2px rgba(0, 0, 0, 0.3));\n",
              "      fill: #FFFFFF;\n",
              "    }\n",
              "  </style>\n",
              "\n",
              "      <script>\n",
              "        const buttonEl =\n",
              "          document.querySelector('#df-20402655-bb81-417d-a092-8d1861c6677e button.colab-df-convert');\n",
              "        buttonEl.style.display =\n",
              "          google.colab.kernel.accessAllowed ? 'block' : 'none';\n",
              "\n",
              "        async function convertToInteractive(key) {\n",
              "          const element = document.querySelector('#df-20402655-bb81-417d-a092-8d1861c6677e');\n",
              "          const dataTable =\n",
              "            await google.colab.kernel.invokeFunction('convertToInteractive',\n",
              "                                                     [key], {});\n",
              "          if (!dataTable) return;\n",
              "\n",
              "          const docLinkHtml = 'Like what you see? Visit the ' +\n",
              "            '<a target=\"_blank\" href=https://colab.research.google.com/notebooks/data_table.ipynb>data table notebook</a>'\n",
              "            + ' to learn more about interactive tables.';\n",
              "          element.innerHTML = '';\n",
              "          dataTable['output_type'] = 'display_data';\n",
              "          await google.colab.output.renderOutput(dataTable, element);\n",
              "          const docLink = document.createElement('div');\n",
              "          docLink.innerHTML = docLinkHtml;\n",
              "          element.appendChild(docLink);\n",
              "        }\n",
              "      </script>\n",
              "    </div>\n",
              "  </div>\n",
              "  "
            ]
          },
          "metadata": {},
          "execution_count": 3
        }
      ],
      "source": [
        "\n",
        "\n",
        "pd.set_option('display.max_rows', None)\n",
        "\n",
        "# data = load_WikiLingua(\"/content/drive/MyDrive/arabic.pkl\")\n",
        "\n",
        "# data = pd.DataFrame(data[\"data\"])\n",
        "\n",
        "data = pd.read_csv('/content/drive/MyDrive/WikiLingua_cleaned_less_than_max.csv')\n",
        "\n",
        "data.tail()\n"
      ]
    },
    {
      "cell_type": "markdown",
      "metadata": {
        "id": "j0MC7DBM96QF"
      },
      "source": [
        "### Read Data"
      ]
    },
    {
      "cell_type": "code",
      "execution_count": null,
      "metadata": {
        "id": "-UOFqg4_9-qf"
      },
      "outputs": [],
      "source": []
    },
    {
      "cell_type": "markdown",
      "metadata": {
        "id": "CRbyQ2Sp_-Om"
      },
      "source": [
        "### Preprocessing Data"
      ]
    },
    {
      "cell_type": "code",
      "execution_count": 4,
      "metadata": {
        "colab": {
          "base_uri": "https://localhost:8080/"
        },
        "id": "2JrboMLZ-1xB",
        "outputId": "e339f126-56a3-4c69-bac8-20fb4eb1e0c5"
      },
      "outputs": [
        {
          "output_type": "stream",
          "name": "stdout",
          "text": [
            "<class 'pandas.core.frame.DataFrame'>\n",
            "RangeIndex: 20903 entries, 0 to 20902\n",
            "Data columns (total 2 columns):\n",
            " #   Column    Non-Null Count  Dtype \n",
            "---  ------    --------------  ----- \n",
            " 0   document  20903 non-null  object\n",
            " 1   summary   20903 non-null  object\n",
            "dtypes: object(2)\n",
            "memory usage: 326.7+ KB\n"
          ]
        }
      ],
      "source": [
        "data = data[['document', 'summary']]\n",
        "data.info()"
      ]
    },
    {
      "cell_type": "markdown",
      "metadata": {
        "id": "svNkVS8B_K0l"
      },
      "source": [
        "Removing rows with null"
      ]
    },
    {
      "cell_type": "code",
      "execution_count": 6,
      "metadata": {
        "colab": {
          "base_uri": "https://localhost:8080/"
        },
        "id": "Rq8mSSgcCbsj",
        "outputId": "5a3b9133-539f-4db9-db59-99c7edf3fff2"
      },
      "outputs": [
        {
          "output_type": "stream",
          "name": "stdout",
          "text": [
            "<class 'pandas.core.frame.DataFrame'>\n",
            "RangeIndex: 20903 entries, 0 to 20902\n",
            "Data columns (total 2 columns):\n",
            " #   Column    Non-Null Count  Dtype \n",
            "---  ------    --------------  ----- \n",
            " 0   document  20903 non-null  object\n",
            " 1   summary   20903 non-null  object\n",
            "dtypes: object(2)\n",
            "memory usage: 326.7+ KB\n"
          ]
        }
      ],
      "source": [
        "data.dropna(inplace=True)\n",
        "data.info()"
      ]
    },
    {
      "cell_type": "markdown",
      "metadata": {
        "id": "7Gq8hJiu_4-b"
      },
      "source": [
        "Removing duplicate rows"
      ]
    },
    {
      "cell_type": "code",
      "execution_count": 7,
      "metadata": {
        "colab": {
          "base_uri": "https://localhost:8080/"
        },
        "id": "gPyssJ1nCopH",
        "outputId": "7e1b39b6-ff1a-49f2-9d76-18eb2ac53904"
      },
      "outputs": [
        {
          "output_type": "execute_result",
          "data": {
            "text/plain": [
              "1"
            ]
          },
          "metadata": {},
          "execution_count": 7
        }
      ],
      "source": [
        "sum(data.duplicated())"
      ]
    },
    {
      "cell_type": "code",
      "execution_count": 8,
      "metadata": {
        "colab": {
          "base_uri": "https://localhost:8080/"
        },
        "id": "92lG3mbSC0gQ",
        "outputId": "0866e266-0e9a-4954-f773-85a2bb905dc4"
      },
      "outputs": [
        {
          "output_type": "execute_result",
          "data": {
            "text/plain": [
              "0"
            ]
          },
          "metadata": {},
          "execution_count": 8
        }
      ],
      "source": [
        "data = data.drop_duplicates(subset=['document', 'summary'], keep='last')\n",
        "sum(data.duplicated())"
      ]
    },
    {
      "cell_type": "code",
      "execution_count": 9,
      "metadata": {
        "colab": {
          "base_uri": "https://localhost:8080/"
        },
        "id": "zFlmk8yz2gsO",
        "outputId": "083f653e-70de-4ae5-aa72-a2bc22a308c5"
      },
      "outputs": [
        {
          "output_type": "execute_result",
          "data": {
            "text/plain": [
              "(20902, 2)"
            ]
          },
          "metadata": {},
          "execution_count": 9
        }
      ],
      "source": [
        "data.shape"
      ]
    },
    {
      "cell_type": "code",
      "execution_count": 10,
      "metadata": {
        "id": "cSSZuCasDkCI"
      },
      "outputs": [],
      "source": [
        "df=data.copy()"
      ]
    },
    {
      "cell_type": "code",
      "execution_count": 11,
      "metadata": {
        "id": "MYz58ptXgnDJ"
      },
      "outputs": [],
      "source": [
        "df = df.iloc[:29000,:]"
      ]
    },
    {
      "cell_type": "code",
      "execution_count": 12,
      "metadata": {
        "id": "kz0QG5zFECaC"
      },
      "outputs": [],
      "source": [
        "texts = df.document.values.tolist()\n",
        "summaries = df.summary.values.tolist()"
      ]
    },
    {
      "cell_type": "markdown",
      "metadata": {
        "id": "AAaHdPCfAjUa"
      },
      "source": [
        "Letter normalization"
      ]
    },
    {
      "cell_type": "code",
      "execution_count": 13,
      "metadata": {
        "id": "9K73-VheMCYF"
      },
      "outputs": [],
      "source": [
        "def normalize(text):\n",
        "  text = re.sub(\"[إأآا]\", \"ا\", text)\n",
        "  text = re.sub(\"ى\", \"ي\", text)\n",
        "  text = re.sub(\"ؤ\", \"ء\", text)\n",
        "  text = re.sub(\"ئ\", \"ء\", text)\n",
        "  text = re.sub(\"ة\", \"ه\", text)\n",
        "  text = re.sub(\"گ\", \"ك\", text)\n",
        "  return text"
      ]
    },
    {
      "cell_type": "code",
      "execution_count": 14,
      "metadata": {
        "id": "Uco-RYpFMO45"
      },
      "outputs": [],
      "source": [
        "texts = [normalize(t) for t in texts]\n",
        "summaries = [normalize(t) for t in summaries]"
      ]
    },
    {
      "cell_type": "markdown",
      "metadata": {
        "id": "Q5m780RmAa6Q"
      },
      "source": [
        "Removing stop words from data"
      ]
    },
    {
      "cell_type": "code",
      "execution_count": 15,
      "metadata": {
        "colab": {
          "base_uri": "https://localhost:8080/"
        },
        "id": "G1GYQA-SDuNI",
        "outputId": "f37eb66d-7b29-4ecc-ced9-a55c3c94db46"
      },
      "outputs": [
        {
          "output_type": "stream",
          "name": "stderr",
          "text": [
            "[nltk_data] Downloading package stopwords to /root/nltk_data...\n",
            "[nltk_data]   Unzipping corpora/stopwords.zip.\n"
          ]
        },
        {
          "output_type": "execute_result",
          "data": {
            "text/plain": [
              "True"
            ]
          },
          "metadata": {},
          "execution_count": 15
        }
      ],
      "source": [
        "import nltk\n",
        "from nltk.corpus import stopwords\n",
        "nltk.download('stopwords')"
      ]
    },
    {
      "cell_type": "code",
      "execution_count": 16,
      "metadata": {
        "id": "YYgFSQwpDm6c"
      },
      "outputs": [],
      "source": [
        "stopwords_list = stopwords.words('arabic')"
      ]
    },
    {
      "cell_type": "code",
      "execution_count": 17,
      "metadata": {
        "id": "oGnZ2S-OD2Gb"
      },
      "outputs": [],
      "source": [
        "# stopwords_list"
      ]
    },
    {
      "cell_type": "code",
      "execution_count": 18,
      "metadata": {
        "id": "hZ0l4icXH78g"
      },
      "outputs": [],
      "source": [
        "def remove_wstop(text):\n",
        "  new_text = []\n",
        "  for t in text.split():\n",
        "    if t not in stopwords_list:\n",
        "      new_text.append(t)\n",
        "\n",
        "  return ' '.join(new_text)\n"
      ]
    },
    {
      "cell_type": "code",
      "execution_count": 19,
      "metadata": {
        "id": "2aZoZI29HztQ"
      },
      "outputs": [],
      "source": [
        "texts = [remove_wstop(t) for t in texts]\n",
        "summaries = [remove_wstop(t) for t in summaries]"
      ]
    },
    {
      "cell_type": "markdown",
      "metadata": {
        "id": "98wrxHz5_80Q"
      },
      "source": [
        "Removing any unwanted\n",
        "characters"
      ]
    },
    {
      "cell_type": "code",
      "execution_count": 20,
      "metadata": {
        "id": "LjmMLChKHpYN"
      },
      "outputs": [],
      "source": [
        "import re\n",
        "def remove_char(text):\n",
        "  text = re.sub('([@A-Za-z0-9_]+)|[^\\w\\s]|#|http\\S+', '', text) # cleaning up\n",
        "  return text"
      ]
    },
    {
      "cell_type": "code",
      "execution_count": 21,
      "metadata": {
        "id": "-6U5umuiI1AD"
      },
      "outputs": [],
      "source": [
        "texts = [remove_char(t) for t in texts]\n",
        "summaries = [remove_char(t) for t in summaries]"
      ]
    },
    {
      "cell_type": "code",
      "execution_count": 22,
      "metadata": {
        "colab": {
          "base_uri": "https://localhost:8080/",
          "height": 90
        },
        "id": "cpfEHJxbSjfW",
        "outputId": "55cda32f-2355-4d6e-c4ca-9bfc62b8cd8e"
      },
      "outputs": [
        {
          "output_type": "execute_result",
          "data": {
            "text/plain": [
              "'نظرا لان السبب الرءيسي لضغط العين ان ثقافه اليوم تفرض قضاء الوقت امام جهاز الكمبيوتر او التلفاز او الهاتف المحمول او اي جهاز اخر بشاشه فلابد العثور علي بداءل قراءه كتاب ورقي بدلا القراءه علي جهاز لوحي لتقليل الاثار الضاره الناتجه الوقت الممضي امام الشاشه يمكن تجنبه الحال جهاز الكمبيوتر العمل حاول وضع الشاشه مستوي منخفض واستخدام شاشه مضاده للتوهج لتقليل الضغط علي عينيك اذا كنت تعاني اجهاد العين المستمر يزعجك حياتك اليوميه استشر طبيبك المحتمل ان تكون لديك مشكله الرءيه او حاله اخري تسهم عدم الراحه او ضغط العين تشعر الوقايه داءما خير العلاج لذا احرص علي زياره الطبيب لعدم تفاقم المشكله وكذلك الحصول علي العلاج الطبي المناسب اذا لزم الامر'"
            ],
            "application/vnd.google.colaboratory.intrinsic+json": {
              "type": "string"
            }
          },
          "metadata": {},
          "execution_count": 22
        }
      ],
      "source": [
        "texts[0]"
      ]
    },
    {
      "cell_type": "markdown",
      "metadata": {
        "id": "63QIUZ2jAKuX"
      },
      "source": [
        "Applying AraBERT Preprocess on data"
      ]
    },
    {
      "cell_type": "code",
      "execution_count": 23,
      "metadata": {
        "colab": {
          "base_uri": "https://localhost:8080/"
        },
        "id": "yD5wKrg5ojYk",
        "outputId": "b54ee733-a0e5-4e41-e1a0-f24b8ed7adf0"
      },
      "outputs": [
        {
          "output_type": "stream",
          "name": "stdout",
          "text": [
            "Collecting arabert\n",
            "  Downloading arabert-1.0.1-py3-none-any.whl (179 kB)\n",
            "\u001b[?25l     \u001b[90m━━━━━━━━━━━━━━━━━━━━━━━━━━━━━━━━━━━━━━━━\u001b[0m \u001b[32m0.0/179.3 kB\u001b[0m \u001b[31m?\u001b[0m eta \u001b[36m-:--:--\u001b[0m\r\u001b[2K     \u001b[91m━━━━━━━━━━━━━━━━━━━━━━━━━━━━━━━━━━━━━\u001b[0m\u001b[91m╸\u001b[0m\u001b[90m━\u001b[0m \u001b[32m174.1/179.3 kB\u001b[0m \u001b[31m6.2 MB/s\u001b[0m eta \u001b[36m0:00:01\u001b[0m\r\u001b[2K     \u001b[90m━━━━━━━━━━━━━━━━━━━━━━━━━━━━━━━━━━━━━━━\u001b[0m \u001b[32m179.3/179.3 kB\u001b[0m \u001b[31m4.7 MB/s\u001b[0m eta \u001b[36m0:00:00\u001b[0m\n",
            "\u001b[?25hCollecting PyArabic (from arabert)\n",
            "  Downloading PyArabic-0.6.15-py3-none-any.whl (126 kB)\n",
            "\u001b[?25l     \u001b[90m━━━━━━━━━━━━━━━━━━━━━━━━━━━━━━━━━━━━━━━━\u001b[0m \u001b[32m0.0/126.4 kB\u001b[0m \u001b[31m?\u001b[0m eta \u001b[36m-:--:--\u001b[0m\r\u001b[2K     \u001b[90m━━━━━━━━━━━━━━━━━━━━━━━━━━━━━━━━━━━━━━\u001b[0m \u001b[32m126.4/126.4 kB\u001b[0m \u001b[31m13.1 MB/s\u001b[0m eta \u001b[36m0:00:00\u001b[0m\n",
            "\u001b[?25hCollecting farasapy (from arabert)\n",
            "  Downloading farasapy-0.0.14-py3-none-any.whl (11 kB)\n",
            "Collecting emoji==1.4.2 (from arabert)\n",
            "  Downloading emoji-1.4.2.tar.gz (184 kB)\n",
            "\u001b[2K     \u001b[90m━━━━━━━━━━━━━━━━━━━━━━━━━━━━━━━━━━━━━━\u001b[0m \u001b[32m185.0/185.0 kB\u001b[0m \u001b[31m19.0 MB/s\u001b[0m eta \u001b[36m0:00:00\u001b[0m\n",
            "\u001b[?25h  Preparing metadata (setup.py) ... \u001b[?25l\u001b[?25hdone\n",
            "Requirement already satisfied: requests in /usr/local/lib/python3.10/dist-packages (from farasapy->arabert) (2.27.1)\n",
            "Requirement already satisfied: tqdm in /usr/local/lib/python3.10/dist-packages (from farasapy->arabert) (4.65.0)\n",
            "Requirement already satisfied: six>=1.14.0 in /usr/local/lib/python3.10/dist-packages (from PyArabic->arabert) (1.16.0)\n",
            "Requirement already satisfied: urllib3<1.27,>=1.21.1 in /usr/local/lib/python3.10/dist-packages (from requests->farasapy->arabert) (1.26.16)\n",
            "Requirement already satisfied: certifi>=2017.4.17 in /usr/local/lib/python3.10/dist-packages (from requests->farasapy->arabert) (2023.5.7)\n",
            "Requirement already satisfied: charset-normalizer~=2.0.0 in /usr/local/lib/python3.10/dist-packages (from requests->farasapy->arabert) (2.0.12)\n",
            "Requirement already satisfied: idna<4,>=2.5 in /usr/local/lib/python3.10/dist-packages (from requests->farasapy->arabert) (3.4)\n",
            "Building wheels for collected packages: emoji\n",
            "  Building wheel for emoji (setup.py) ... \u001b[?25l\u001b[?25hdone\n",
            "  Created wheel for emoji: filename=emoji-1.4.2-py3-none-any.whl size=186458 sha256=023b4377540342fb379215bb9b999056690f88d3732cc548c8cfbccb158a953a\n",
            "  Stored in directory: /root/.cache/pip/wheels/10/f0/fd/4813b1177405693e8da9cdea839f0fb64fde161380e058c827\n",
            "Successfully built emoji\n",
            "Installing collected packages: emoji, PyArabic, farasapy, arabert\n",
            "Successfully installed PyArabic-0.6.15 arabert-1.0.1 emoji-1.4.2 farasapy-0.0.14\n"
          ]
        }
      ],
      "source": [
        "!pip install arabert"
      ]
    },
    {
      "cell_type": "code",
      "execution_count": 24,
      "metadata": {
        "colab": {
          "base_uri": "https://localhost:8080/"
        },
        "id": "QZRWXSETJW4W",
        "outputId": "627b0f31-5069-432e-9e6c-c9754a63d5d9"
      },
      "outputs": [
        {
          "output_type": "stream",
          "name": "stderr",
          "text": [
            "/usr/local/lib/python3.10/dist-packages/urllib3/connectionpool.py:1056: InsecureRequestWarning: Unverified HTTPS request is being made to host 'farasa-api.qcri.org'. Adding certificate verification is strongly advised. See: https://urllib3.readthedocs.io/en/1.26.x/advanced-usage.html#ssl-warnings\n",
            "  warnings.warn(\n"
          ]
        },
        {
          "output_type": "stream",
          "name": "stdout",
          "text": [
            "100%|██████████| 241M/241M [00:27<00:00, 8.86MiB/s]\n"
          ]
        },
        {
          "output_type": "stream",
          "name": "stderr",
          "text": [
            "[2023-07-01 22:59:13,924 - farasapy_logger - WARNING]: Be careful with large lines as they may break on interactive mode. You may switch to Standalone mode for such cases.\n"
          ]
        }
      ],
      "source": [
        "from arabert import ArabertPreprocessor\n",
        "model_name = \"aubmindlab/bert-base-arabertv2\"\n",
        "arabert_prep = ArabertPreprocessor(model_name=model_name)\n",
        "\n",
        "texts = [arabert_prep.preprocess(t) for t in texts]\n",
        "summaries = [arabert_prep.preprocess(t) for t in summaries]"
      ]
    },
    {
      "cell_type": "code",
      "execution_count": 25,
      "metadata": {
        "id": "hhelnD0IQven"
      },
      "outputs": [],
      "source": [
        "# text = \"ولن نبالغ إذا قلنا: إن 'هاتف' أو 'كمبيوتر المكتب' في زمننا هذا ضروري\"\n",
        "# text = arabert_prep.preprocess(text)\n",
        "# text"
      ]
    },
    {
      "cell_type": "code",
      "execution_count": 26,
      "metadata": {
        "id": "fG4ikefJQTO3"
      },
      "outputs": [],
      "source": [
        "def remove_additions(text):\n",
        "  # text = re.sub('[a-zA-Z]*\\+[a-zA-Z]*', \"\", text) # cleaning up /\\b\\w*[Yy]\\w*\\b/g\n",
        "  text = re.sub('\\+\\w+\\s', '', text) # cleaning up\n",
        "  text = re.sub('\\w+\\+\\s', '', text) # cleaning up\n",
        "  return text"
      ]
    },
    {
      "cell_type": "code",
      "execution_count": 27,
      "metadata": {
        "id": "6UaknkPpQx3f"
      },
      "outputs": [],
      "source": [
        "# text = remove_additions(text)\n",
        "# text"
      ]
    },
    {
      "cell_type": "code",
      "execution_count": 28,
      "metadata": {
        "id": "5xi0mhY-6QTC"
      },
      "outputs": [],
      "source": [
        "texts = [remove_additions(t) for t in texts]\n",
        "summaries = [remove_additions(t) for t in summaries]"
      ]
    },
    {
      "cell_type": "code",
      "execution_count": 29,
      "metadata": {
        "colab": {
          "base_uri": "https://localhost:8080/",
          "height": 72
        },
        "id": "MLhoUj0M9ZMU",
        "outputId": "2e8f0120-21c6-4432-b382-0f2a2009c79d"
      },
      "outputs": [
        {
          "output_type": "execute_result",
          "data": {
            "text/plain": [
              "'نظر لان سبب رءيسي ضغط عين ان ثقاف يوم تفرض قضاء وقت امام جهاز كمبيوتر أو تلفاز أو هاتف محمول أو اي جهاز آخر شاش لابد عثور علي داءل قراء كتاب رقي بدل قراءه علي جهاز وحي تقليل آثار ضاره ناتجه وقت ممضي امام شاشه يمكن تجنب حال جهاز كمبيوتر عمل حاول وضع شاشه مستوى منخفض استخدام شاش مضاد توهج تقليل ضغط علي عين اذ تعاني اجهاد عين مستمر يزعجك حيا اليوم استشر طبيب محتمل ان تكون ديك مشكل رءيه أو حال أخرى تسهم عدم راحه أو ضغط عين تشعر وقايه داءم خير علاج لذا أحرص علي زيار طبيب عدم تفاقم مشكله كذلك حصول علي علاج طبي مناسب اذ لزم أمر'"
            ],
            "application/vnd.google.colaboratory.intrinsic+json": {
              "type": "string"
            }
          },
          "metadata": {},
          "execution_count": 29
        }
      ],
      "source": [
        "texts[0]"
      ]
    },
    {
      "cell_type": "code",
      "execution_count": 30,
      "metadata": {
        "colab": {
          "base_uri": "https://localhost:8080/",
          "height": 90
        },
        "id": "KwY8LAos9eD8",
        "outputId": "f4567149-f281-4534-c935-e378991dbd1b"
      },
      "outputs": [
        {
          "output_type": "execute_result",
          "data": {
            "text/plain": [
              "'نظرا لان السبب الرءيسي لضغط العين هو ان ثقافه اليوم تفرض قضاء الوقت امام جهاز الكمبيوتر او التلفاز او الهاتف المحمول او اي جهاز اخر بشاشه فلابد من العثور علي بداءل مثل قراءه كتاب ورقي بدلا من القراءه علي جهاز لوحي لتقليل الاثار الضاره الناتجه عن الوقت الممضي امام الشاشه ولا يمكن تجنبه كما هو الحال مع جهاز الكمبيوتر في العمل حاول وضع الشاشه في مستوي منخفض واستخدام شاشه مضاده للتوهج لتقليل الضغط علي عينيك اذا كنت تعاني من اجهاد العين المستمر الذي يزعجك في حياتك اليوميه استشر طبيبك من المحتمل ان تكون لديك مشكله في الرءيه او حاله اخري تسهم في عدم الراحه و او ضغط العين الذي تشعر به الوقايه داءما خير من العلاج لذا احرص علي زياره الطبيب لعدم تفاقم المشكله وكذلك الحصول علي العلاج الطبي المناسب اذا لزم الامر'"
            ],
            "application/vnd.google.colaboratory.intrinsic+json": {
              "type": "string"
            }
          },
          "metadata": {},
          "execution_count": 30
        }
      ],
      "source": [
        "data.iloc[0,0]"
      ]
    },
    {
      "cell_type": "markdown",
      "metadata": {
        "id": "q29mzKO1-mlD"
      },
      "source": [
        "Determining the Maximum Permissible Sequence Lengths"
      ]
    },
    {
      "cell_type": "code",
      "execution_count": 31,
      "metadata": {
        "id": "k0nNbORa-mBL"
      },
      "outputs": [],
      "source": [
        "txt_len = [len(t.split()) for t in texts]\n",
        "smy_len = [len(t.split()) for t in summaries]"
      ]
    },
    {
      "cell_type": "code",
      "execution_count": 32,
      "metadata": {
        "colab": {
          "base_uri": "https://localhost:8080/",
          "height": 452
        },
        "id": "VIbw4kok71SN",
        "outputId": "3b075ed2-9cf9-42c5-9778-db8075401c35"
      },
      "outputs": [
        {
          "output_type": "display_data",
          "data": {
            "text/plain": [
              "<Figure size 640x480 with 2 Axes>"
            ],
            "image/png": "[encoded data removed]"
          },
          "metadata": {}
        }
      ],
      "source": [
        "length_df = pd.DataFrame({'text':txt_len, 'summary':smy_len})\n",
        "length_df.hist(bins = 30)\n",
        "plt.show()"
      ]
    },
    {
      "cell_type": "code",
      "execution_count": 33,
      "metadata": {
        "colab": {
          "base_uri": "https://localhost:8080/"
        },
        "id": "dcekDwNvABHk",
        "outputId": "96617b86-7f8d-491e-d917-d3902792a41c"
      },
      "outputs": [
        {
          "output_type": "execute_result",
          "data": {
            "text/plain": [
              "(365, 321)"
            ]
          },
          "metadata": {},
          "execution_count": 33
        }
      ],
      "source": [
        "max(txt_len), max(smy_len)"
      ]
    },
    {
      "cell_type": "code",
      "execution_count": 34,
      "metadata": {
        "id": "gSe2HCMFAWaD"
      },
      "outputs": [],
      "source": [
        "max_text_len = 2000\n",
        "max_summary_len = 128"
      ]
    },
    {
      "cell_type": "markdown",
      "metadata": {
        "id": "XgsHa7tWBIw7"
      },
      "source": [
        "Select the Summaries and Text which fall below max length"
      ]
    },
    {
      "cell_type": "code",
      "execution_count": 35,
      "metadata": {
        "colab": {
          "base_uri": "https://localhost:8080/",
          "height": 112
        },
        "id": "H7arToZsApyH",
        "outputId": "3734a0f8-f071-404d-e735-c45023117816"
      },
      "outputs": [
        {
          "output_type": "execute_result",
          "data": {
            "text/plain": [
              "                                                text  \\\n",
              "0  نظر لان سبب رءيسي ضغط عين ان ثقاف يوم تفرض قضا...   \n",
              "1  أفعل أنت جالس منع نفس نوم اغلق عين أحكام قدر إ...   \n",
              "\n",
              "                          summary  \n",
              "0  قلل وقت تعرض شاش أذهب الي طبيب  \n",
              "1                     اغلق عين +ك  "
            ],
            "text/html": [
              "\n",
              "  <div id=\"df-9111d6d1-862b-4120-a103-b189d7590c17\">\n",
              "    <div class=\"colab-df-container\">\n",
              "      <div>\n",
              "<style scoped>\n",
              "    .dataframe tbody tr th:only-of-type {\n",
              "        vertical-align: middle;\n",
              "    }\n",
              "\n",
              "    .dataframe tbody tr th {\n",
              "        vertical-align: top;\n",
              "    }\n",
              "\n",
              "    .dataframe thead th {\n",
              "        text-align: right;\n",
              "    }\n",
              "</style>\n",
              "<table border=\"1\" class=\"dataframe\">\n",
              "  <thead>\n",
              "    <tr style=\"text-align: right;\">\n",
              "      <th></th>\n",
              "      <th>text</th>\n",
              "      <th>summary</th>\n",
              "    </tr>\n",
              "  </thead>\n",
              "  <tbody>\n",
              "    <tr>\n",
              "      <th>0</th>\n",
              "      <td>نظر لان سبب رءيسي ضغط عين ان ثقاف يوم تفرض قضا...</td>\n",
              "      <td>قلل وقت تعرض شاش أذهب الي طبيب</td>\n",
              "    </tr>\n",
              "    <tr>\n",
              "      <th>1</th>\n",
              "      <td>أفعل أنت جالس منع نفس نوم اغلق عين أحكام قدر إ...</td>\n",
              "      <td>اغلق عين +ك</td>\n",
              "    </tr>\n",
              "  </tbody>\n",
              "</table>\n",
              "</div>\n",
              "      <button class=\"colab-df-convert\" onclick=\"convertToInteractive('df-9111d6d1-862b-4120-a103-b189d7590c17')\"\n",
              "              title=\"Convert this dataframe to an interactive table.\"\n",
              "              style=\"display:none;\">\n",
              "        \n",
              "  <svg xmlns=\"http://www.w3.org/2000/svg\" height=\"24px\"viewBox=\"0 0 24 24\"\n",
              "       width=\"24px\">\n",
              "    <path d=\"M0 0h24v24H0V0z\" fill=\"none\"/>\n",
              "    <path d=\"M18.56 5.44l.94 2.06.94-2.06 2.06-.94-2.06-.94-.94-2.06-.94 2.06-2.06.94zm-11 1L8.5 8.5l.94-2.06 2.06-.94-2.06-.94L8.5 2.5l-.94 2.06-2.06.94zm10 10l.94 2.06.94-2.06 2.06-.94-2.06-.94-.94-2.06-.94 2.06-2.06.94z\"/><path d=\"M17.41 7.96l-1.37-1.37c-.4-.4-.92-.59-1.43-.59-.52 0-1.04.2-1.43.59L10.3 9.45l-7.72 7.72c-.78.78-.78 2.05 0 2.83L4 21.41c.39.39.9.59 1.41.59.51 0 1.02-.2 1.41-.59l7.78-7.78 2.81-2.81c.8-.78.8-2.07 0-2.86zM5.41 20L4 18.59l7.72-7.72 1.47 1.35L5.41 20z\"/>\n",
              "  </svg>\n",
              "      </button>\n",
              "      \n",
              "  <style>\n",
              "    .colab-df-container {\n",
              "      display:flex;\n",
              "      flex-wrap:wrap;\n",
              "      gap: 12px;\n",
              "    }\n",
              "\n",
              "    .colab-df-convert {\n",
              "      background-color: #E8F0FE;\n",
              "      border: none;\n",
              "      border-radius: 50%;\n",
              "      cursor: pointer;\n",
              "      display: none;\n",
              "      fill: #1967D2;\n",
              "      height: 32px;\n",
              "      padding: 0 0 0 0;\n",
              "      width: 32px;\n",
              "    }\n",
              "\n",
              "    .colab-df-convert:hover {\n",
              "      background-color: #E2EBFA;\n",
              "      box-shadow: 0px 1px 2px rgba(60, 64, 67, 0.3), 0px 1px 3px 1px rgba(60, 64, 67, 0.15);\n",
              "      fill: #174EA6;\n",
              "    }\n",
              "\n",
              "    [theme=dark] .colab-df-convert {\n",
              "      background-color: #3B4455;\n",
              "      fill: #D2E3FC;\n",
              "    }\n",
              "\n",
              "    [theme=dark] .colab-df-convert:hover {\n",
              "      background-color: #434B5C;\n",
              "      box-shadow: 0px 1px 3px 1px rgba(0, 0, 0, 0.15);\n",
              "      filter: drop-shadow(0px 1px 2px rgba(0, 0, 0, 0.3));\n",
              "      fill: #FFFFFF;\n",
              "    }\n",
              "  </style>\n",
              "\n",
              "      <script>\n",
              "        const buttonEl =\n",
              "          document.querySelector('#df-9111d6d1-862b-4120-a103-b189d7590c17 button.colab-df-convert');\n",
              "        buttonEl.style.display =\n",
              "          google.colab.kernel.accessAllowed ? 'block' : 'none';\n",
              "\n",
              "        async function convertToInteractive(key) {\n",
              "          const element = document.querySelector('#df-9111d6d1-862b-4120-a103-b189d7590c17');\n",
              "          const dataTable =\n",
              "            await google.colab.kernel.invokeFunction('convertToInteractive',\n",
              "                                                     [key], {});\n",
              "          if (!dataTable) return;\n",
              "\n",
              "          const docLinkHtml = 'Like what you see? Visit the ' +\n",
              "            '<a target=\"_blank\" href=https://colab.research.google.com/notebooks/data_table.ipynb>data table notebook</a>'\n",
              "            + ' to learn more about interactive tables.';\n",
              "          element.innerHTML = '';\n",
              "          dataTable['output_type'] = 'display_data';\n",
              "          await google.colab.output.renderOutput(dataTable, element);\n",
              "          const docLink = document.createElement('div');\n",
              "          docLink.innerHTML = docLinkHtml;\n",
              "          element.appendChild(docLink);\n",
              "        }\n",
              "      </script>\n",
              "    </div>\n",
              "  </div>\n",
              "  "
            ]
          },
          "metadata": {},
          "execution_count": 35
        }
      ],
      "source": [
        "\n",
        "texts = np.array(texts)\n",
        "summaries= np.array(summaries)\n",
        "\n",
        "short_text = []\n",
        "short_summary = []\n",
        "\n",
        "for i in range(len(texts)):\n",
        "    if len(summaries[i].split()) <= max_summary_len and len(texts[i].split()) <= max_text_len:\n",
        "        short_text.append(texts[i])\n",
        "        short_summary.append(summaries[i])\n",
        "\n",
        "pre = pd.DataFrame({'text': short_text,'summary': short_summary})\n",
        "\n",
        "pre.head(2)"
      ]
    },
    {
      "cell_type": "code",
      "execution_count": 36,
      "metadata": {
        "id": "4Ow70nBvCFu2"
      },
      "outputs": [],
      "source": [
        "pre['summary'] = pre['summary'].apply(lambda x : 'start '+ x + ' end')"
      ]
    },
    {
      "cell_type": "markdown",
      "metadata": {
        "id": "WA7AlwbKC52B"
      },
      "source": [
        "Tokenizing the Text"
      ]
    },
    {
      "cell_type": "markdown",
      "metadata": {
        "id": "kxXNzqBXC_2b"
      },
      "source": [
        "Split the data into train and test data parts."
      ]
    },
    {
      "cell_type": "code",
      "execution_count": 37,
      "metadata": {
        "id": "fmNdKJ6ZC_ZY"
      },
      "outputs": [],
      "source": [
        "from sklearn.model_selection import train_test_split\n",
        "X = pre[\"text\"].values\n",
        "y = pre[\"summary\"].values\n",
        "\n",
        "x_train, x_val, y_train, y_val = train_test_split(X, y, test_size=0.1,random_state=0)"
      ]
    },
    {
      "cell_type": "markdown",
      "metadata": {
        "id": "nbXpps9MDr9h"
      },
      "source": [
        "Tokenize the text data and get vocabulary size"
      ]
    },
    {
      "cell_type": "code",
      "execution_count": 38,
      "metadata": {
        "id": "j750q5v6DvQE"
      },
      "outputs": [],
      "source": [
        "from tensorflow.keras.preprocessing.text import Tokenizer\n",
        "from tensorflow.keras.preprocessing.sequence import pad_sequences\n",
        "\n",
        "\n",
        "x_tokenizer = Tokenizer()\n",
        "x_tokenizer.fit_on_texts(list(X))\n",
        "\n",
        "# Prepare a tokenizer on testing data\n",
        "y_tokenizer = Tokenizer()\n",
        "y_tokenizer.fit_on_texts(list(y))"
      ]
    },
    {
      "cell_type": "code",
      "execution_count": 39,
      "metadata": {
        "colab": {
          "base_uri": "https://localhost:8080/"
        },
        "id": "SdnTX0SSEFh8",
        "outputId": "b0359d8c-eded-4d7c-e4b6-011984506afd"
      },
      "outputs": [
        {
          "output_type": "stream",
          "name": "stdout",
          "text": [
            "TEXT: Prcentage of rare words in vocabulary: 59.11330049261084\n",
            "Summary: Prcentage of rare words in vocabulary: 45.270601033451186\n"
          ]
        }
      ],
      "source": [
        "thresh = 5\n",
        "\n",
        "cnt = 0\n",
        "tot_cnt = 0\n",
        "\n",
        "for k, v in x_tokenizer.word_counts.items():\n",
        "    tot_cnt = tot_cnt + 1\n",
        "    if v < thresh:\n",
        "        cnt = cnt + 1\n",
        "\n",
        "print(f\"TEXT: Prcentage of rare words in vocabulary: {(cnt / tot_cnt) * 100}\")\n",
        "\n",
        "\n",
        "thresh = 3\n",
        "\n",
        "y_cnt = 0\n",
        "y_tot_cnt = 0\n",
        "\n",
        "for key, value in y_tokenizer.word_counts.items():\n",
        "    y_tot_cnt = y_tot_cnt + 1\n",
        "    if value < thresh:\n",
        "        y_cnt = y_cnt + 1\n",
        "\n",
        "print(\"Summary: Prcentage of rare words in vocabulary:\",(y_cnt / y_tot_cnt) * 100)"
      ]
    },
    {
      "cell_type": "code",
      "execution_count": 40,
      "metadata": {
        "colab": {
          "base_uri": "https://localhost:8080/"
        },
        "id": "3QTrdz9hEtS0",
        "outputId": "1979f3b7-2fa3-4a13-8937-ee00806f03a7"
      },
      "outputs": [
        {
          "output_type": "stream",
          "name": "stdout",
          "text": [
            "Size of vocabulary in X = 47909\n"
          ]
        }
      ],
      "source": [
        "# Prepare a TEXT tokenizer, again -- by not considering the rare words\n",
        "x_tokenizer = Tokenizer(num_words = tot_cnt - cnt)\n",
        "x_tokenizer.fit_on_texts(list(X))\n",
        "\n",
        "# Convert text sequences to integer sequences\n",
        "x_tr_seq = x_tokenizer.texts_to_sequences(x_train)\n",
        "x_val_seq = x_tokenizer.texts_to_sequences(x_val)\n",
        "\n",
        "# Pad zero upto maximum length\n",
        "x_tr = pad_sequences(x_tr_seq,  maxlen=max_text_len, padding='post')\n",
        "x_val = pad_sequences(x_val_seq, maxlen=max_text_len, padding='post')\n",
        "\n",
        "# Size of vocabulary (+1 for padding token)\n",
        "x_voc = len(x_tokenizer.word_index) + 1\n",
        "\n",
        "print(f\"Size of vocabulary in X = {x_voc}\")"
      ]
    },
    {
      "cell_type": "code",
      "execution_count": 41,
      "metadata": {
        "colab": {
          "base_uri": "https://localhost:8080/"
        },
        "id": "7iARMm0WFDmV",
        "outputId": "c6971284-601d-42e3-824a-750fef4681f9"
      },
      "outputs": [
        {
          "output_type": "stream",
          "name": "stdout",
          "text": [
            "Size of vocabulary in Y = 18386\n"
          ]
        }
      ],
      "source": [
        "# Prepare a SUMMAARY tokenizer, again -- by not considering the rare words\n",
        "y_tokenizer = Tokenizer(num_words=y_tot_cnt-y_cnt)\n",
        "y_tokenizer.fit_on_texts(list(y))\n",
        "\n",
        "# Convert text sequences to integer sequences\n",
        "y_tr_seq = y_tokenizer.texts_to_sequences(y_train)\n",
        "y_val_seq = y_tokenizer.texts_to_sequences(y_val)\n",
        "\n",
        "# Pad zero upto maximum length\n",
        "y_tr = pad_sequences(y_tr_seq, maxlen=max_summary_len, padding='post')\n",
        "y_val = pad_sequences(y_val_seq, maxlen=max_summary_len, padding='post')\n",
        "\n",
        "# Size of vocabulary (+1 for padding token)\n",
        "y_voc = len(y_tokenizer.word_index) + 1\n",
        "\n",
        "print(f\"Size of vocabulary in Y = {y_voc}\")"
      ]
    },
    {
      "cell_type": "markdown",
      "metadata": {
        "id": "ctwkShDY03Up"
      },
      "source": [
        "skip_gram embedding"
      ]
    },
    {
      "cell_type": "code",
      "execution_count": 42,
      "metadata": {
        "id": "YOXoM7dK8BS6"
      },
      "outputs": [],
      "source": [
        "corpus_X = [t.split() for t in X]\n",
        "corpus_y = [t.split() for t in y]"
      ]
    },
    {
      "cell_type": "code",
      "execution_count": 43,
      "metadata": {
        "id": "UvAlh0Sj0uP2"
      },
      "outputs": [],
      "source": [
        "import dataclasses\n",
        "import gensim\n",
        "dim = 150\n",
        "window = 10\n",
        "word2vec_x = gensim.models.Word2Vec(corpus_X, min_count=1, vector_size=dim, window=window, sg=1)"
      ]
    },
    {
      "cell_type": "code",
      "execution_count": 44,
      "metadata": {
        "id": "hPsHR6g1Gr1U"
      },
      "outputs": [],
      "source": [
        "dim = 150\n",
        "window = 10\n",
        "word2vec_y = gensim.models.Word2Vec(corpus_y, min_count=1, vector_size=dim,window=window, sg=1)"
      ]
    },
    {
      "cell_type": "code",
      "execution_count": 45,
      "metadata": {
        "id": "xJAlerr2Gpkr"
      },
      "outputs": [],
      "source": [
        "# word2vec_x.wv.get_vector('مباراه')"
      ]
    },
    {
      "cell_type": "code",
      "execution_count": 46,
      "metadata": {
        "colab": {
          "base_uri": "https://localhost:8080/"
        },
        "id": "6GeWT9rC2_GE",
        "outputId": "1d3a4d69-b6d3-4adc-d2d0-87828d8297a1"
      },
      "outputs": [
        {
          "output_type": "stream",
          "name": "stdout",
          "text": [
            "Loaded 47916 word vectors.\n"
          ]
        }
      ],
      "source": [
        "# load the whole embedding into memory\n",
        "x_w2v_embeddings_index = {}\n",
        "for word in word2vec_x.wv.index_to_key:\n",
        "    x_w2v_embeddings_index[word] = word2vec_x.wv[word]\n",
        "print('Loaded %s word vectors.' % len(x_w2v_embeddings_index))\n"
      ]
    },
    {
      "cell_type": "code",
      "execution_count": 47,
      "metadata": {
        "colab": {
          "base_uri": "https://localhost:8080/"
        },
        "id": "h4iidY443CID",
        "outputId": "fe0775a2-81c9-4f88-92af-b595b4929fd3"
      },
      "outputs": [
        {
          "output_type": "stream",
          "name": "stdout",
          "text": [
            "Embedding Matrix shape: (47909, 150)\n"
          ]
        }
      ],
      "source": [
        "# create a weight matrix for words in training docs\n",
        "\n",
        "x_embedding_matrix = np.zeros((x_voc, dim))\n",
        "for word, i in x_tokenizer.word_index.items():\n",
        "    # print(i, word)\n",
        "    embedding_vector = x_w2v_embeddings_index.get(word)\n",
        "    if embedding_vector is not None:\n",
        "        x_embedding_matrix[i] = embedding_vector\n",
        "\n",
        "print('Embedding Matrix shape:', x_embedding_matrix.shape)"
      ]
    },
    {
      "cell_type": "code",
      "execution_count": 47,
      "metadata": {
        "id": "06L30AJJyXGK"
      },
      "outputs": [],
      "source": []
    },
    {
      "cell_type": "code",
      "execution_count": 48,
      "metadata": {
        "colab": {
          "base_uri": "https://localhost:8080/"
        },
        "id": "W9lByNaIyXRG",
        "outputId": "801e38a6-1991-4005-d5c0-4d2619b81ad0"
      },
      "outputs": [
        {
          "output_type": "stream",
          "name": "stdout",
          "text": [
            "Loaded 18387 word vectors.\n"
          ]
        }
      ],
      "source": [
        "# load the whole embedding into memory\n",
        "y_w2v_embeddings_index = {}\n",
        "for word in word2vec_y.wv.index_to_key:\n",
        "    y_w2v_embeddings_index[word] = word2vec_y.wv[word]\n",
        "print('Loaded %s word vectors.' % len(y_w2v_embeddings_index))\n"
      ]
    },
    {
      "cell_type": "code",
      "execution_count": 49,
      "metadata": {
        "colab": {
          "base_uri": "https://localhost:8080/"
        },
        "id": "oMbDl60XyXRH",
        "outputId": "ea2c7b4d-ae55-454d-c740-902c4ce4d675"
      },
      "outputs": [
        {
          "output_type": "stream",
          "name": "stdout",
          "text": [
            "Embedding Matrix shape: (18386, 150)\n"
          ]
        }
      ],
      "source": [
        "# create a weight matrix for words in training docs\n",
        "y_embedding_matrix = np.zeros((y_voc, dim))\n",
        "for word, i in y_tokenizer.word_index.items():\n",
        "    # print(i, word)\n",
        "    embedding_vector = y_w2v_embeddings_index.get(word)\n",
        "    if embedding_vector is not None:\n",
        "        y_embedding_matrix[i] = embedding_vector\n",
        "\n",
        "print('Embedding Matrix shape:', y_embedding_matrix.shape)"
      ]
    },
    {
      "cell_type": "markdown",
      "metadata": {
        "id": "bFx7KnXmo9sE"
      },
      "source": [
        "### Define the encoder decoder model"
      ]
    },
    {
      "cell_type": "markdown",
      "metadata": {
        "id": "RWxtDBw5q_Hz"
      },
      "source": [
        "###### 1. First we define Attension layer"
      ]
    },
    {
      "cell_type": "code",
      "execution_count": 50,
      "metadata": {
        "id": "LZ10CPF-SnVU"
      },
      "outputs": [],
      "source": [
        "import tensorflow as tf\n",
        "from tensorflow.python.keras import backend as K\n",
        "\n",
        "# logger = tf.get_logger()\n",
        "\n",
        "class AttentionLayer(tf.keras.layers.Layer):\n",
        "    \"\"\"\n",
        "    This class implements Bahdanau attention (https://arxiv.org/pdf/1409.0473.pdf).\n",
        "    There are three sets of weights introduced W_a, U_a, and V_a\n",
        "     \"\"\"\n",
        "\n",
        "    def __init__(self, **kwargs):\n",
        "        super(AttentionLayer, self).__init__(**kwargs)\n",
        "\n",
        "    def build(self, input_shape):\n",
        "        assert isinstance(input_shape, list)\n",
        "        # Create a trainable weight variable for this layer.\n",
        "\n",
        "        self.W_a = self.add_weight(name='W_a',\n",
        "                                   shape=tf.TensorShape((input_shape[0][2], input_shape[0][2])),\n",
        "                                   initializer='uniform',\n",
        "                                   trainable=True)\n",
        "        self.U_a = self.add_weight(name='U_a',\n",
        "                                   shape=tf.TensorShape((input_shape[1][2], input_shape[0][2])),\n",
        "                                   initializer='uniform',\n",
        "                                   trainable=True)\n",
        "        self.V_a = self.add_weight(name='V_a',\n",
        "                                   shape=tf.TensorShape((input_shape[0][2], 1)),\n",
        "                                   initializer='uniform',\n",
        "                                   trainable=True)\n",
        "\n",
        "        super(AttentionLayer, self).build(input_shape)  # Be sure to call this at the end\n",
        "\n",
        "    def call(self, inputs):\n",
        "        \"\"\"\n",
        "        inputs: [encoder_output_sequence, decoder_output_sequence]\n",
        "        \"\"\"\n",
        "        assert type(inputs) == list\n",
        "        encoder_out_seq, decoder_out_seq = inputs\n",
        "\n",
        "        # logger.debug(f\"encoder_out_seq.shape = {encoder_out_seq.shape}\")\n",
        "        # logger.debug(f\"decoder_out_seq.shape = {decoder_out_seq.shape}\")\n",
        "\n",
        "        def energy_step(inputs, states):\n",
        "            \"\"\" Step function for computing energy for a single decoder state\n",
        "            inputs: (batchsize * 1 * de_in_dim)\n",
        "            states: (batchsize * 1 * de_latent_dim)\n",
        "            \"\"\"\n",
        "\n",
        "            # logger.debug(\"Running energy computation step\")\n",
        "\n",
        "            if not isinstance(states, (list, tuple)):\n",
        "                raise TypeError(f\"States must be an iterable. Got {states} of type {type(states)}\")\n",
        "\n",
        "            encoder_full_seq = states[-1]\n",
        "\n",
        "            \"\"\" Computing S.Wa where S=[s0, s1, ..., si]\"\"\"\n",
        "            # <= batch size * en_seq_len * latent_dim\n",
        "            W_a_dot_s = K.dot(encoder_full_seq, self.W_a)\n",
        "\n",
        "            \"\"\" Computing hj.Ua \"\"\"\n",
        "            U_a_dot_h = K.expand_dims(K.dot(inputs, self.U_a), 1)  # <= batch_size, 1, latent_dim\n",
        "\n",
        "            # logger.debug(f\"U_a_dot_h.shape = {U_a_dot_h.shape}\")\n",
        "\n",
        "            \"\"\" tanh(S.Wa + hj.Ua) \"\"\"\n",
        "            # <= batch_size*en_seq_len, latent_dim\n",
        "            Ws_plus_Uh = K.tanh(W_a_dot_s + U_a_dot_h)\n",
        "\n",
        "            # logger.debug(f\"Ws_plus_Uh.shape = {Ws_plus_Uh.shape}\")\n",
        "\n",
        "            \"\"\" softmax(va.tanh(S.Wa + hj.Ua)) \"\"\"\n",
        "            # <= batch_size, en_seq_len\n",
        "            e_i = K.squeeze(K.dot(Ws_plus_Uh, self.V_a), axis=-1)\n",
        "            # <= batch_size, en_seq_len\n",
        "            e_i = K.softmax(e_i)\n",
        "\n",
        "            # logger.debug(f\"ei.shape = {e_i.shape}\")\n",
        "\n",
        "            return e_i, [e_i]\n",
        "\n",
        "        def context_step(inputs, states):\n",
        "            \"\"\" Step function for computing ci using ei \"\"\"\n",
        "\n",
        "            # logger.debug(\"Running attention vector computation step\")\n",
        "\n",
        "            if not isinstance(states, (list, tuple)):\n",
        "                raise TypeError(f\"States must be an iterable. Got {states} of type {type(states)}\")\n",
        "\n",
        "            encoder_full_seq = states[-1]\n",
        "\n",
        "            # <= batch_size, hidden_size\n",
        "            c_i = K.sum(encoder_full_seq * K.expand_dims(inputs, -1), axis=1)\n",
        "\n",
        "            # logger.debug(f\"ci.shape = {c_i.shape}\")\n",
        "\n",
        "            return c_i, [c_i]\n",
        "\n",
        "        # we don't maintain states between steps when computing attention\n",
        "        # attention is stateless, so we're passing a fake state for RNN step function\n",
        "        fake_state_c = K.sum(encoder_out_seq, axis=1)\n",
        "        fake_state_e = K.sum(encoder_out_seq, axis=2)  # <= (batch_size, enc_seq_len, latent_dim\n",
        "\n",
        "        \"\"\" Computing energy outputs \"\"\"\n",
        "        # e_outputs => (batch_size, de_seq_len, en_seq_len)\n",
        "        last_out, e_outputs, _ = K.rnn(\n",
        "            energy_step, decoder_out_seq, [fake_state_e], constants=[encoder_out_seq]\n",
        "        )\n",
        "\n",
        "        \"\"\" Computing context vectors \"\"\"\n",
        "        last_out, c_outputs, _ = K.rnn(\n",
        "            context_step, e_outputs, [fake_state_c], constants=[encoder_out_seq]\n",
        "        )\n",
        "\n",
        "        return c_outputs, e_outputs\n",
        "\n",
        "    def compute_output_shape(self, input_shape):\n",
        "        \"\"\" Outputs produced by the layer \"\"\"\n",
        "        return [\n",
        "            tf.TensorShape((input_shape[1][0], input_shape[1][1], input_shape[1][2])),\n",
        "            tf.TensorShape((input_shape[1][0], input_shape[1][1], input_shape[0][1]))\n",
        "        ]"
      ]
    },
    {
      "cell_type": "markdown",
      "metadata": {
        "id": "tlHVOR7VrDsO"
      },
      "source": [
        "###### 2. Define the model"
      ]
    },
    {
      "cell_type": "code",
      "execution_count": 51,
      "metadata": {
        "colab": {
          "base_uri": "https://localhost:8080/"
        },
        "id": "u2SArfAC6cPJ",
        "outputId": "ffa41a66-2172-4fae-c50a-5033a6b0a27c"
      },
      "outputs": [
        {
          "output_type": "stream",
          "name": "stdout",
          "text": [
            "KerasTensor(type_spec=TensorSpec(shape=(None, 2000, 150), dtype=tf.float32, name=None), name='Encoder_Embedding/embedding_lookup/Identity_1:0', description=\"created by layer 'Encoder_Embedding'\")\n",
            "<class 'keras.engine.keras_tensor.KerasTensor'>\n"
          ]
        }
      ],
      "source": [
        "\n",
        "latent_dim = 150\n",
        "embedding_dim=150\n",
        "# Encoder\n",
        "encoder_inputs = Input(shape=(max_text_len,), name='Encoder_Input')\n",
        "#embedding layer\n",
        "enc_emb =  Embedding(x_voc, embedding_dim, weights=[x_embedding_matrix],\n",
        "                      trainable=False, name='Encoder_Embedding')(encoder_inputs)\n",
        "#encoder lstm 1\n",
        "encoder_lstm1 = LSTM(latent_dim,return_sequences=True,\n",
        "                      return_state=True,dropout=0.4,\n",
        "                      name='Encoder_LSTM1')\n",
        "\n",
        "print(enc_emb)\n",
        "print(type(enc_emb))\n",
        "\n",
        "encoder_output1, state_h1, state_c1 = encoder_lstm1(enc_emb)\n",
        "#encoder lstm 2\n",
        "encoder_lstm2 = LSTM(latent_dim,return_sequences=True,return_state=True,\n",
        "                      dropout=0.4, name='Encoder_LSTM2')\n",
        "encoder_outputs, state_h, state_c = encoder_lstm2(encoder_output1)\n",
        "#encoder lstm 3\n",
        "# encoder_lstm3=LSTM(latent_dim, return_state=True, return_sequences=True,\n",
        "#                    dropout=0.4, name='Encoder_LSTM3')\n",
        "# encoder_outputs, state_h, state_c= encoder_lstm3(encoder_output2)\n",
        "\n",
        "\n",
        "# Set up the decoder, using `encoder_states` as initial state.\n",
        "decoder_inputs = Input(shape=(None,), name='Decoder_Input')\n",
        "#embedding layer\n",
        "dec_emb_layer = Embedding(y_voc, embedding_dim, weights=[y_embedding_matrix],\n",
        "                      trainable=False, name='Decoder_Embedding')\n",
        "dec_emb = dec_emb_layer(decoder_inputs)\n",
        "#decoder lstm\n",
        "decoder_lstm = LSTM(latent_dim, return_sequences=True, return_state=True,\n",
        "                    dropout=0.4, name='Decoder_LSTM')\n",
        "decoder_outputs,decoder_fwd_state, decoder_back_state = decoder_lstm(dec_emb,initial_state=[state_h, state_c])\n",
        "# Attention layer\n",
        "attn_layer = AttentionLayer(name='attention_layer')\n",
        "attn_out, attn_states = attn_layer([encoder_outputs, decoder_outputs])\n",
        "# Concat attention input and decoder LSTM output\n",
        "decoder_concat_input = Concatenate(axis=-1, name='concat_layer')([decoder_outputs, attn_out])\n",
        "#dense layer\n",
        "decoder_dense =  TimeDistributed(Dense(y_voc, activation='softmax'))\n",
        "decoder_outputs = decoder_dense(decoder_concat_input)\n",
        "# Define the model\n",
        "model = Model([encoder_inputs, decoder_inputs], decoder_outputs)\n"
      ]
    },
    {
      "cell_type": "markdown",
      "metadata": {
        "id": "fPm_VSHy4-E8"
      },
      "source": [
        "Training the Model"
      ]
    },
    {
      "cell_type": "code",
      "execution_count": 52,
      "metadata": {
        "colab": {
          "base_uri": "https://localhost:8080/"
        },
        "id": "rjH9qcdhnXxU",
        "outputId": "16e0dfb5-cfc4-41f0-d48c-83c42fa8fa65"
      },
      "outputs": [
        {
          "output_type": "stream",
          "name": "stderr",
          "text": [
            "WARNING:tensorflow:From <ipython-input-52-8a703e716343>:3: is_gpu_available (from tensorflow.python.framework.test_util) is deprecated and will be removed in a future version.\n",
            "Instructions for updating:\n",
            "Use `tf.config.list_physical_devices('GPU')` instead.\n"
          ]
        },
        {
          "output_type": "stream",
          "name": "stdout",
          "text": [
            "False\n",
            "False\n"
          ]
        }
      ],
      "source": [
        "\n",
        "import tensorflow as tf\n",
        "\n",
        "print(tf.test.is_gpu_available())\n",
        "\n",
        "print(tf.test.is_gpu_available(cuda_only=True))\n"
      ]
    },
    {
      "cell_type": "code",
      "execution_count": 53,
      "metadata": {
        "id": "IDvIFDn047rW"
      },
      "outputs": [],
      "source": [
        "model.compile(optimizer='rmsprop', loss='sparse_categorical_crossentropy')\n",
        "es = EarlyStopping(monitor='val_loss', mode='min', verbose=1, patience=5)"
      ]
    },
    {
      "cell_type": "code",
      "execution_count": 54,
      "metadata": {
        "colab": {
          "base_uri": "https://localhost:8080/",
          "height": 865
        },
        "id": "HkfTA0UFT8w1",
        "outputId": "27e8ec21-06fd-4b96-adc6-5788d9125661"
      },
      "outputs": [
        {
          "output_type": "execute_result",
          "data": {
            "image/png": "[encoded data removed]",
            "text/plain": [
              "<IPython.core.display.Image object>"
            ]
          },
          "metadata": {},
          "execution_count": 54
        }
      ],
      "source": [
        "from keras.utils.vis_utils import plot_model\n",
        "plot_model(model, to_file='model_plot.png', show_shapes=True, show_layer_names=True)"
      ]
    },
    {
      "cell_type": "code",
      "execution_count": 55,
      "metadata": {
        "id": "VUPNTqpKzi61"
      },
      "outputs": [],
      "source": [
        "# model.summary()"
      ]
    },
    {
      "cell_type": "code",
      "execution_count": null,
      "metadata": {
        "colab": {
          "base_uri": "https://localhost:8080/"
        },
        "id": "wlKHEzzy5CnZ",
        "outputId": "a88614c6-f523-45a8-f4b9-d0e9be837f34"
      },
      "outputs": [
        {
          "output_type": "stream",
          "name": "stdout",
          "text": [
            "Epoch 1/50\n",
            "   3/1254 [..............................] - ETA: 7:22:46 - loss: 9.8020"
          ]
        }
      ],
      "source": [
        "history = model.fit(\n",
        "    [x_tr, y_tr[:, :-1]],\n",
        "    y_tr.reshape(y_tr.shape[0], y_tr.shape[1], 1)[:, 1:],\n",
        "    epochs=50,\n",
        "    callbacks=[es],\n",
        "    batch_size=15,\n",
        "    validation_data=([x_val, y_val[:, :-1]],\n",
        "                     y_val.reshape(y_val.shape[0], y_val.shape[1], 1)[:\n",
        "                     , 1:]),\n",
        "    )"
      ]
    },
    {
      "cell_type": "code",
      "execution_count": null,
      "metadata": {
        "id": "GaKVVVYlc87J"
      },
      "outputs": [],
      "source": [
        "#plot results\n",
        "loss = history.history['loss']\n",
        "val_loss = history.history['val_loss']\n",
        "\n",
        "plt.figure(figsize=(8, 12))\n",
        "plt.rcParams['figure.figsize'] = [16, 16]\n",
        "plt.rcParams['font.size'] = 14\n",
        "plt.rcParams['axes.grid'] = True\n",
        "plt.rcParams['figure.facecolor'] = 'white'\n",
        "plt.subplot(2, 1, 1)\n",
        "plt.plot(loss, label='Training Loss')\n",
        "plt.plot(val_loss, label='Validation Loss')\n",
        "plt.legend(loc='lower right')\n",
        "plt.xlabel('Epoch')\n",
        "plt.ylabel('Loss')\n",
        "plt.title('Text Summarization \\nTraining and Validation Loss Over Epochs')\n",
        "\n",
        "#loss"
      ]
    },
    {
      "cell_type": "markdown",
      "metadata": {
        "id": "Zq4BDEp1f6xD"
      },
      "source": [
        "Generating Predictions"
      ]
    },
    {
      "cell_type": "code",
      "execution_count": null,
      "metadata": {
        "id": "lI_lXXnXdeL_"
      },
      "outputs": [],
      "source": [
        "reverse_target_word_index=y_tokenizer.index_word\n",
        "reverse_source_word_index=x_tokenizer.index_word\n",
        "target_word_index=y_tokenizer.word_index"
      ]
    },
    {
      "cell_type": "code",
      "execution_count": null,
      "metadata": {
        "id": "XOZZwZxU6dRV"
      },
      "outputs": [],
      "source": [
        "reverse_source_word_index[0]='PAD'\n",
        "reverse_target_word_index[0]='PAD'"
      ]
    },
    {
      "cell_type": "code",
      "execution_count": null,
      "metadata": {
        "id": "hW3tP32RgmwQ"
      },
      "outputs": [],
      "source": [
        "# encoder inference\n",
        "encoder_model = Model(inputs=encoder_inputs,outputs=[encoder_outputs, state_h, state_c])\n",
        "\n",
        "# decoder inference\n",
        "# Below tensors will hold the states of the previous time step\n",
        "decoder_state_input_h = Input(shape=(latent_dim,))\n",
        "decoder_state_input_c = Input(shape=(latent_dim,))\n",
        "decoder_hidden_state_input = Input(shape=(max_text_len, latent_dim))\n",
        "\n",
        "# Get the embeddings of the decoder sequence\n",
        "dec_emb2= dec_emb_layer(decoder_inputs)\n",
        "\n",
        "# To predict the next word in the sequence, set the initial states to the states from the previous time step\n",
        "decoder_outputs2, state_h2, state_c2 = decoder_lstm(dec_emb2, initial_state=[decoder_state_input_h, decoder_state_input_c])\n",
        "\n",
        "#attention inference\n",
        "attn_out_inf, attn_states_inf = attn_layer([decoder_hidden_state_input, decoder_outputs2])\n",
        "decoder_inf_concat = Concatenate(axis=-1, name='concat')([decoder_outputs2, attn_out_inf])\n",
        "\n",
        "# A dense softmax layer to generate prob dist. over the target vocabulary\n",
        "decoder_outputs2 = decoder_dense(decoder_inf_concat)\n",
        "\n",
        "# Final decoder model\n",
        "decoder_model = Model(\n",
        "[decoder_inputs] + [decoder_hidden_state_input,decoder_state_input_h, decoder_state_input_c],\n",
        "[decoder_outputs2] + [state_h2, state_c2])"
      ]
    },
    {
      "cell_type": "code",
      "execution_count": null,
      "metadata": {
        "id": "V_wybcVsiK2U"
      },
      "outputs": [],
      "source": [
        "def decode_sequence(input_seq):\n",
        "    # Encode the input as state vectors.\n",
        "    e_out, e_h, e_c = encoder_model.predict(input_seq)\n",
        "\n",
        "    # Generate empty target sequence of length 1.\n",
        "    target_seq = np.zeros((1,1))\n",
        "\n",
        "    # Chose the 'start' word as the first word of the target sequence\n",
        "    target_seq[0, 0] = target_word_index['start']\n",
        "\n",
        "    stop_condition = False\n",
        "    decoded_sentence = ''\n",
        "    while not stop_condition:\n",
        "        output_tokens, h, c = decoder_model.predict([target_seq] + [e_out, e_h, e_c], verbose=0)\n",
        "\n",
        "        # Sample a token\n",
        "        sampled_token_index = np.argmax(output_tokens[0, -1, :])\n",
        "        sampled_token = reverse_target_word_index[sampled_token_index]\n",
        "\n",
        "        if(sampled_token!='end'):\n",
        "            decoded_sentence += ' '+sampled_token\n",
        "\n",
        "            # Exit condition: either hit max length or find stop word.\n",
        "            if (sampled_token == 'end' or len(decoded_sentence.split()) >= (max_summary_len-1)):\n",
        "                stop_condition = True\n",
        "\n",
        "        # Update the target sequence (of length 1).\n",
        "        target_seq = np.zeros((1,1))\n",
        "        target_seq[0, 0] = sampled_token_index\n",
        "\n",
        "        # Update internal states\n",
        "        e_h, e_c = h, c\n",
        "\n",
        "    decoded_sentence = decoded_sentence.replace('PAD', '')\n",
        "    return decoded_sentence"
      ]
    },
    {
      "cell_type": "code",
      "execution_count": null,
      "metadata": {
        "id": "g0Rl0t2viVed"
      },
      "outputs": [],
      "source": [
        "def seq2summary(input_seq):\n",
        "    newString=''\n",
        "    for i in input_seq:\n",
        "      if((i!=0 and i!=target_word_index['start']) and i!=target_word_index['end']):\n",
        "        newString=newString+reverse_target_word_index[i]+' '\n",
        "    return newString\n",
        "\n",
        "def seq2text(input_seq):\n",
        "    newString=''\n",
        "    for i in input_seq:\n",
        "      if(i!=0):\n",
        "        newString=newString+reverse_source_word_index[i]+' '\n",
        "    return newString"
      ]
    },
    {
      "cell_type": "code",
      "execution_count": null,
      "metadata": {
        "id": "RShLgDHzrKnb"
      },
      "outputs": [],
      "source": [
        "pred_summaries = [decode_sequence(x.reshape(1,max_text_len)) for x in x_val]\n",
        "true_summaries = [seq2summary(x) for x in y_val ]"
      ]
    },
    {
      "cell_type": "code",
      "execution_count": null,
      "metadata": {
        "id": "s-3XFQNkidrB"
      },
      "outputs": [],
      "source": [
        "for i in range(0, 5):\n",
        "    print ('Text:', seq2text(x_val[i]))\n",
        "    print ('Original summary:', seq2summary(y_val[i]))\n",
        "    print ('Predicted summary:', decode_sequence(x_val[i].reshape(1,max_text_len)))\n",
        "    print()"
      ]
    },
    {
      "cell_type": "code",
      "execution_count": null,
      "metadata": {
        "id": "vFTm_h61MW6c"
      },
      "outputs": [],
      "source": [
        "pred_summaries = [t.strip() for t in pred_summaries]\n",
        "pred_summaries = [t for t in pred_summaries if t!=\"\" or t!= \" \"]"
      ]
    },
    {
      "cell_type": "code",
      "execution_count": null,
      "metadata": {
        "id": "JN1kw85HLAaY"
      },
      "outputs": [],
      "source": [
        "true_summaries = [t.strip() for t in true_summaries]\n",
        "true_summaries = [t for t in true_summaries if t!=\"\" or t!= \" \"]"
      ]
    },
    {
      "cell_type": "code",
      "execution_count": null,
      "metadata": {
        "id": "biBFj6RkM43c"
      },
      "outputs": [],
      "source": [
        "refs, hyps = [], []\n",
        "for t1, t2 in zip(true_summaries, pred_summaries):\n",
        "  if t1==\"\":\n",
        "    pass\n",
        "  elif t2==\"\":\n",
        "    pass\n",
        "  elif t2==\" \":\n",
        "    pass\n",
        "  else:\n",
        "    refs.append(t1)\n",
        "    hyps.append(t2)"
      ]
    },
    {
      "cell_type": "code",
      "execution_count": null,
      "metadata": {
        "id": "9FXsdF19Nswx"
      },
      "outputs": [],
      "source": [
        "from rouge import Rouge\n",
        "\n",
        "rouge = Rouge()\n",
        "scores = rouge.get_scores(hyps, refs, avg=True)\n",
        "scores"
      ]
    },
    {
      "cell_type": "code",
      "execution_count": null,
      "metadata": {
        "id": "s5Gmk2NzlD5o"
      },
      "outputs": [],
      "source": [
        "import session_info\n",
        "session_info.show()\n"
      ]
    },
    {
      "cell_type": "code",
      "execution_count": null,
      "metadata": {
        "id": "UQv2D7ZNoMub"
      },
      "outputs": [],
      "source": []
    }
  ],
  "metadata": {
    "accelerator": "GPU",
    "colab": {
      "provenance": [],
      "gpuType": "T4",
      "include_colab_link": true
    },
    "kernelspec": {
      "display_name": "Python 3",
      "name": "python3"
    },
    "language_info": {
      "codemirror_mode": {
        "name": "ipython",
        "version": 3
      },
      "file_extension": ".py",
      "mimetype": "text/x-python",
      "name": "python",
      "nbconvert_exporter": "python",
      "pygments_lexer": "ipython3",
      "version": "3.6.13"
    }
  },
  "nbformat": 4,
  "nbformat_minor": 0
}