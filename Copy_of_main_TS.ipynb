{
  "nbformat": 4,
  "nbformat_minor": 0,
  "metadata": {
    "colab": {
      "provenance": [],
      "include_colab_link": true
    },
    "kernelspec": {
      "name": "python3",
      "display_name": "Python 3"
    },
    "language_info": {
      "name": "python"
    },
    "gpuClass": "standard",
    "accelerator": "GPU"
  },
  "cells": [
    {
      "cell_type": "markdown",
      "metadata": {
        "id": "view-in-github",
        "colab_type": "text"
      },
      "source": [
        "<a href=\"https://colab.research.google.com/github/AliMostafaRadwan/BERT_for_QA/blob/main/Copy_of_main_TS.ipynb\" target=\"_parent\"><img src=\"https://colab.research.google.com/assets/colab-badge.svg\" alt=\"Open In Colab\"/></a>"
      ]
    },
    {
      "cell_type": "code",
      "source": [
        "!pip install session-info"
      ],
      "metadata": {
        "colab": {
          "base_uri": "https://localhost:8080/"
        },
        "id": "uI5QOom6otmz",
        "outputId": "ec24f4f9-dedf-42bd-802c-bbd9b10e41dc"
      },
      "execution_count": 3,
      "outputs": [
        {
          "output_type": "stream",
          "name": "stdout",
          "text": [
            "Collecting session-info\n",
            "  Downloading session_info-1.0.0.tar.gz (24 kB)\n",
            "  Preparing metadata (setup.py) ... \u001b[?25l\u001b[?25hdone\n",
            "Collecting stdlib_list (from session-info)\n",
            "  Downloading stdlib_list-0.9.0-py3-none-any.whl (75 kB)\n",
            "\u001b[2K     \u001b[90m━━━━━━━━━━━━━━━━━━━━━━━━━━━━━━━━━━━━━━━━\u001b[0m \u001b[32m75.6/75.6 kB\u001b[0m \u001b[31m4.3 MB/s\u001b[0m eta \u001b[36m0:00:00\u001b[0m\n",
            "\u001b[?25hBuilding wheels for collected packages: session-info\n",
            "  Building wheel for session-info (setup.py) ... \u001b[?25l\u001b[?25hdone\n",
            "  Created wheel for session-info: filename=session_info-1.0.0-py3-none-any.whl size=8026 sha256=7b1e8d6f181dd0e9974a6986aa88adb59a48f9674a0cd7ae35921550c0b09ee8\n",
            "  Stored in directory: /root/.cache/pip/wheels/6a/aa/b9/eb5d4031476ec10802795b97ccf937b9bd998d68a9b268765a\n",
            "Successfully built session-info\n",
            "Installing collected packages: stdlib_list, session-info\n",
            "Successfully installed session-info-1.0.0 stdlib_list-0.9.0\n"
          ]
        }
      ]
    },
    {
      "cell_type": "code",
      "source": [
        "!pip install rouge"
      ],
      "metadata": {
        "colab": {
          "base_uri": "https://localhost:8080/"
        },
        "id": "gzDJjTaEEFia",
        "outputId": "f58e1d52-1d32-4abf-d32e-1a727e4e5be7"
      },
      "execution_count": 1,
      "outputs": [
        {
          "output_type": "stream",
          "name": "stdout",
          "text": [
            "Collecting rouge\n",
            "  Downloading rouge-1.0.1-py3-none-any.whl (13 kB)\n",
            "Requirement already satisfied: six in /usr/local/lib/python3.10/dist-packages (from rouge) (1.16.0)\n",
            "Installing collected packages: rouge\n",
            "Successfully installed rouge-1.0.1\n"
          ]
        }
      ]
    },
    {
      "cell_type": "code",
      "source": [
        "!pip install arabert"
      ],
      "metadata": {
        "id": "XXFfM7ViJFm2",
        "outputId": "70a5d5d3-9016-42e0-8e68-e36da4dba85b",
        "colab": {
          "base_uri": "https://localhost:8080/"
        }
      },
      "execution_count": 2,
      "outputs": [
        {
          "output_type": "stream",
          "name": "stdout",
          "text": [
            "Collecting arabert\n",
            "  Downloading arabert-1.0.1-py3-none-any.whl (179 kB)\n",
            "\u001b[?25l     \u001b[90m━━━━━━━━━━━━━━━━━━━━━━━━━━━━━━━━━━━━━━━━\u001b[0m \u001b[32m0.0/179.3 kB\u001b[0m \u001b[31m?\u001b[0m eta \u001b[36m-:--:--\u001b[0m\r\u001b[2K     \u001b[90m━━━━━━━━━━━━━━━━━━━━━━━━━━━━━━━━━━━━━━━\u001b[0m \u001b[32m179.3/179.3 kB\u001b[0m \u001b[31m8.8 MB/s\u001b[0m eta \u001b[36m0:00:00\u001b[0m\n",
            "\u001b[?25hCollecting PyArabic (from arabert)\n",
            "  Downloading PyArabic-0.6.15-py3-none-any.whl (126 kB)\n",
            "\u001b[2K     \u001b[90m━━━━━━━━━━━━━━━━━━━━━━━━━━━━━━━━━━━━━━\u001b[0m \u001b[32m126.4/126.4 kB\u001b[0m \u001b[31m10.6 MB/s\u001b[0m eta \u001b[36m0:00:00\u001b[0m\n",
            "\u001b[?25hCollecting farasapy (from arabert)\n",
            "  Downloading farasapy-0.0.14-py3-none-any.whl (11 kB)\n",
            "Collecting emoji==1.4.2 (from arabert)\n",
            "  Downloading emoji-1.4.2.tar.gz (184 kB)\n",
            "\u001b[2K     \u001b[90m━━━━━━━━━━━━━━━━━━━━━━━━━━━━━━━━━━━━━━\u001b[0m \u001b[32m185.0/185.0 kB\u001b[0m \u001b[31m16.5 MB/s\u001b[0m eta \u001b[36m0:00:00\u001b[0m\n",
            "\u001b[?25h  Preparing metadata (setup.py) ... \u001b[?25l\u001b[?25hdone\n",
            "Requirement already satisfied: requests in /usr/local/lib/python3.10/dist-packages (from farasapy->arabert) (2.27.1)\n",
            "Requirement already satisfied: tqdm in /usr/local/lib/python3.10/dist-packages (from farasapy->arabert) (4.65.0)\n",
            "Requirement already satisfied: six>=1.14.0 in /usr/local/lib/python3.10/dist-packages (from PyArabic->arabert) (1.16.0)\n",
            "Requirement already satisfied: urllib3<1.27,>=1.21.1 in /usr/local/lib/python3.10/dist-packages (from requests->farasapy->arabert) (1.26.16)\n",
            "Requirement already satisfied: certifi>=2017.4.17 in /usr/local/lib/python3.10/dist-packages (from requests->farasapy->arabert) (2023.5.7)\n",
            "Requirement already satisfied: charset-normalizer~=2.0.0 in /usr/local/lib/python3.10/dist-packages (from requests->farasapy->arabert) (2.0.12)\n",
            "Requirement already satisfied: idna<4,>=2.5 in /usr/local/lib/python3.10/dist-packages (from requests->farasapy->arabert) (3.4)\n",
            "Building wheels for collected packages: emoji\n",
            "  Building wheel for emoji (setup.py) ... \u001b[?25l\u001b[?25hdone\n",
            "  Created wheel for emoji: filename=emoji-1.4.2-py3-none-any.whl size=186458 sha256=79c5e2076656173eba03d3f1dab94ee8e42b1079449593f745e9f8a173d7a6e4\n",
            "  Stored in directory: /root/.cache/pip/wheels/10/f0/fd/4813b1177405693e8da9cdea839f0fb64fde161380e058c827\n",
            "Successfully built emoji\n",
            "Installing collected packages: emoji, PyArabic, farasapy, arabert\n",
            "Successfully installed PyArabic-0.6.15 arabert-1.0.1 emoji-1.4.2 farasapy-0.0.14\n"
          ]
        }
      ]
    },
    {
      "cell_type": "code",
      "source": [
        "!pip install -U --no-cache-dir gdown --pre\n",
        "# gdown --no-cookies XXX"
      ],
      "metadata": {
        "colab": {
          "base_uri": "https://localhost:8080/"
        },
        "id": "c4HWqoEDZCEd",
        "outputId": "98185f3c-1a35-4851-c46b-c96c121ca84c"
      },
      "execution_count": 4,
      "outputs": [
        {
          "output_type": "stream",
          "name": "stdout",
          "text": [
            "Requirement already satisfied: gdown in /usr/local/lib/python3.10/dist-packages (4.6.6)\n",
            "Collecting gdown\n",
            "  Downloading gdown-4.7.1-py3-none-any.whl (15 kB)\n",
            "Requirement already satisfied: filelock in /usr/local/lib/python3.10/dist-packages (from gdown) (3.12.2)\n",
            "Requirement already satisfied: requests[socks] in /usr/local/lib/python3.10/dist-packages (from gdown) (2.27.1)\n",
            "Requirement already satisfied: six in /usr/local/lib/python3.10/dist-packages (from gdown) (1.16.0)\n",
            "Requirement already satisfied: tqdm in /usr/local/lib/python3.10/dist-packages (from gdown) (4.65.0)\n",
            "Requirement already satisfied: beautifulsoup4 in /usr/local/lib/python3.10/dist-packages (from gdown) (4.11.2)\n",
            "Requirement already satisfied: soupsieve>1.2 in /usr/local/lib/python3.10/dist-packages (from beautifulsoup4->gdown) (2.4.1)\n",
            "Requirement already satisfied: urllib3<1.27,>=1.21.1 in /usr/local/lib/python3.10/dist-packages (from requests[socks]->gdown) (1.26.16)\n",
            "Requirement already satisfied: certifi>=2017.4.17 in /usr/local/lib/python3.10/dist-packages (from requests[socks]->gdown) (2023.5.7)\n",
            "Requirement already satisfied: charset-normalizer~=2.0.0 in /usr/local/lib/python3.10/dist-packages (from requests[socks]->gdown) (2.0.12)\n",
            "Requirement already satisfied: idna<4,>=2.5 in /usr/local/lib/python3.10/dist-packages (from requests[socks]->gdown) (3.4)\n",
            "Requirement already satisfied: PySocks!=1.5.7,>=1.5.6 in /usr/local/lib/python3.10/dist-packages (from requests[socks]->gdown) (1.7.1)\n",
            "Installing collected packages: gdown\n",
            "  Attempting uninstall: gdown\n",
            "    Found existing installation: gdown 4.6.6\n",
            "    Uninstalling gdown-4.6.6:\n",
            "      Successfully uninstalled gdown-4.6.6\n",
            "Successfully installed gdown-4.7.1\n"
          ]
        }
      ]
    },
    {
      "cell_type": "code",
      "execution_count": null,
      "metadata": {
        "colab": {
          "base_uri": "https://localhost:8080/"
        },
        "id": "w4LhXnO2VbN7",
        "outputId": "06570bbf-4c96-47da-9edb-2e9c60229878"
      },
      "outputs": [
        {
          "output_type": "stream",
          "name": "stdout",
          "text": [
            "Downloading...\n",
            "From (uriginal): https://drive.google.com/u/0/uc?id=12Lqej0BcPelRQ81ewYrqkIl2xzfQald8\n",
            "From (redirected): https://drive.google.com/uc?id=12Lqej0BcPelRQ81ewYrqkIl2xzfQald8&confirm=t&uuid=270b801d-1da9-4855-9136-4b28910efda3\n",
            "To: /content/ArabicMogalad_Ndeef.csv\n",
            "100% 668M/668M [00:09<00:00, 68.1MB/s]\n"
          ]
        }
      ],
      "source": [
        "! gdown https://drive.google.com/u/0/uc?id=12Lqej0BcPelRQ81ewYrqkIl2xzfQald8&export=download"
      ]
    },
    {
      "cell_type": "markdown",
      "source": [
        "### Import libraries"
      ],
      "metadata": {
        "id": "qtJ57hCtoXiS"
      }
    },
    {
      "cell_type": "code",
      "source": [
        "from tensorflow.keras.preprocessing.text import Tokenizer\n",
        "from tensorflow.keras.preprocessing.sequence import pad_sequences\n",
        "from tensorflow.keras.layers import Input, LSTM, Embedding, Dense, \\\n",
        "    Concatenate, TimeDistributed, Bidirectional\n",
        "from tensorflow.keras.models import Model\n",
        "from tensorflow.keras.callbacks import EarlyStopping\n",
        "\n",
        "\n",
        "import matplotlib.pyplot as plt\n",
        "import pandas as pd\n",
        "import numpy as np\n",
        "import re"
      ],
      "metadata": {
        "id": "nR67YarCX5oV"
      },
      "execution_count": 5,
      "outputs": []
    },
    {
      "cell_type": "code",
      "source": [
        "from pkl_to_df import load_WikiLingua\n",
        "\n",
        "\n",
        "pd.set_option('display.max_rows', None)\n",
        "\n",
        "data = load_WikiLingua(\"/content/drive/MyDrive/arabic.pkl\")\n",
        "\n",
        "data = pd.DataFrame(data[\"data\"])\n",
        "\n",
        "print(data.tail())\n"
      ],
      "metadata": {
        "id": "DwXrqbCCUWLr",
        "outputId": "39ef1653-5a66-4d14-ff18-c678a6f293cb",
        "colab": {
          "base_uri": "https://localhost:8080/"
        }
      },
      "execution_count": null,
      "outputs": [
        {
          "output_type": "stream",
          "name": "stdout",
          "text": [
            "          idx                                           document  \\\n",
            "29193  9993_1  قد تصبح لديك مناطق من الماء الآسن إذا تشكلت كت...   \n",
            "29194  9993_2  . يجب ألا تنمو الطحالب إذا بقيت مطلعًا على كيم...   \n",
            "29195  9994_0  عند الانتهاء من تناول الوجبة وتدوين الملاحظات،...   \n",
            "29196  9994_1  يجب أن تحصل على نفس التجربة التي سيحصل عليها أ...   \n",
            "29197  9994_2  عندما يصل الطبق إلى طاولتك، دوّن ملاحظتك عن مظ...   \n",
            "\n",
            "                                                 summary  \n",
            "29193  قم بتحسين الدورة للتعامل مع مع البقع الصغيرة م...  \n",
            "29194   حافظ على ماء حمام السباحة أضف مبيد الطحالب كو...  \n",
            "29195  قم ببعض البحث. افتتح التقييم بجملة جذابة. صف 3...  \n",
            "29196  تجنب إخبار العاملين بالمطعم أنك ناقد أو مقيّم ...  \n",
            "29197  لاحظ طريقة تقديم الطبق. استمتع بأول قضمات. اكت...  \n"
          ]
        }
      ]
    },
    {
      "cell_type": "code",
      "source": [
        "from google.colab import drive\n",
        "drive.mount('/content/drive')"
      ],
      "metadata": {
        "id": "EoQbv0NHUhxG",
        "outputId": "f2f99ede-3fa8-4f19-b978-ed4d81566625",
        "colab": {
          "base_uri": "https://localhost:8080/"
        }
      },
      "execution_count": null,
      "outputs": [
        {
          "output_type": "stream",
          "name": "stdout",
          "text": [
            "Mounted at /content/drive\n"
          ]
        }
      ]
    },
    {
      "cell_type": "markdown",
      "source": [
        "### Read Data"
      ],
      "metadata": {
        "id": "j0MC7DBM96QF"
      }
    },
    {
      "cell_type": "code",
      "source": [],
      "metadata": {
        "colab": {
          "base_uri": "https://localhost:8080/",
          "height": 206
        },
        "id": "-UOFqg4_9-qf",
        "outputId": "9f084577-6e00-498f-bcf4-83ece954d12d"
      },
      "execution_count": null,
      "outputs": [
        {
          "output_type": "execute_result",
          "data": {
            "text/plain": [
              "   Unnamed: 0                                               Text  \\\n",
              "0           0   تقدم لكم موقع الدستور الالكتروني بثا مباشرا ل...   \n",
              "1           1   بعثه المنتخب المغربي تحل ب مالابو بلاعبين فقط...   \n",
              "2           2   رقم المشاركه تساعد الملوخيه علي تهدئه الاعصاب...   \n",
              "3           3   شرح محمد ابراهيم مدرب عام فريق بتروجيت الوسيل...   \n",
              "4           4   و السؤال كيف يضع ابليس عرشه علي الماء شاهد ال...   \n",
              "\n",
              "                                             Summary  \n",
              "0   بث مباشر بدون تقطيع لمباراه مانشستر يونايتد و...  \n",
              "1   بعثه المنتخب المغربي تحل ب مالابو بلاعبين فقط...  \n",
              "2                              الملوخيه لذيذه وصحيه   \n",
              "3   مدرب بتروجيت يشرح لالدستور كيف حافظ فريقه علي...  \n",
              "4   هل تعلم اين يعيش ابليس و ما هي علاقته بمثلث ب...  "
            ],
            "text/html": [
              "\n",
              "  <div id=\"df-9082ed44-b33a-41bf-8a98-51305f0117ee\">\n",
              "    <div class=\"colab-df-container\">\n",
              "      <div>\n",
              "<style scoped>\n",
              "    .dataframe tbody tr th:only-of-type {\n",
              "        vertical-align: middle;\n",
              "    }\n",
              "\n",
              "    .dataframe tbody tr th {\n",
              "        vertical-align: top;\n",
              "    }\n",
              "\n",
              "    .dataframe thead th {\n",
              "        text-align: right;\n",
              "    }\n",
              "</style>\n",
              "<table border=\"1\" class=\"dataframe\">\n",
              "  <thead>\n",
              "    <tr style=\"text-align: right;\">\n",
              "      <th></th>\n",
              "      <th>Unnamed: 0</th>\n",
              "      <th>Text</th>\n",
              "      <th>Summary</th>\n",
              "    </tr>\n",
              "  </thead>\n",
              "  <tbody>\n",
              "    <tr>\n",
              "      <th>0</th>\n",
              "      <td>0</td>\n",
              "      <td>تقدم لكم موقع الدستور الالكتروني بثا مباشرا ل...</td>\n",
              "      <td>بث مباشر بدون تقطيع لمباراه مانشستر يونايتد و...</td>\n",
              "    </tr>\n",
              "    <tr>\n",
              "      <th>1</th>\n",
              "      <td>1</td>\n",
              "      <td>بعثه المنتخب المغربي تحل ب مالابو بلاعبين فقط...</td>\n",
              "      <td>بعثه المنتخب المغربي تحل ب مالابو بلاعبين فقط...</td>\n",
              "    </tr>\n",
              "    <tr>\n",
              "      <th>2</th>\n",
              "      <td>2</td>\n",
              "      <td>رقم المشاركه تساعد الملوخيه علي تهدئه الاعصاب...</td>\n",
              "      <td>الملوخيه لذيذه وصحيه</td>\n",
              "    </tr>\n",
              "    <tr>\n",
              "      <th>3</th>\n",
              "      <td>3</td>\n",
              "      <td>شرح محمد ابراهيم مدرب عام فريق بتروجيت الوسيل...</td>\n",
              "      <td>مدرب بتروجيت يشرح لالدستور كيف حافظ فريقه علي...</td>\n",
              "    </tr>\n",
              "    <tr>\n",
              "      <th>4</th>\n",
              "      <td>4</td>\n",
              "      <td>و السؤال كيف يضع ابليس عرشه علي الماء شاهد ال...</td>\n",
              "      <td>هل تعلم اين يعيش ابليس و ما هي علاقته بمثلث ب...</td>\n",
              "    </tr>\n",
              "  </tbody>\n",
              "</table>\n",
              "</div>\n",
              "      <button class=\"colab-df-convert\" onclick=\"convertToInteractive('df-9082ed44-b33a-41bf-8a98-51305f0117ee')\"\n",
              "              title=\"Convert this dataframe to an interactive table.\"\n",
              "              style=\"display:none;\">\n",
              "        \n",
              "  <svg xmlns=\"http://www.w3.org/2000/svg\" height=\"24px\"viewBox=\"0 0 24 24\"\n",
              "       width=\"24px\">\n",
              "    <path d=\"M0 0h24v24H0V0z\" fill=\"none\"/>\n",
              "    <path d=\"M18.56 5.44l.94 2.06.94-2.06 2.06-.94-2.06-.94-.94-2.06-.94 2.06-2.06.94zm-11 1L8.5 8.5l.94-2.06 2.06-.94-2.06-.94L8.5 2.5l-.94 2.06-2.06.94zm10 10l.94 2.06.94-2.06 2.06-.94-2.06-.94-.94-2.06-.94 2.06-2.06.94z\"/><path d=\"M17.41 7.96l-1.37-1.37c-.4-.4-.92-.59-1.43-.59-.52 0-1.04.2-1.43.59L10.3 9.45l-7.72 7.72c-.78.78-.78 2.05 0 2.83L4 21.41c.39.39.9.59 1.41.59.51 0 1.02-.2 1.41-.59l7.78-7.78 2.81-2.81c.8-.78.8-2.07 0-2.86zM5.41 20L4 18.59l7.72-7.72 1.47 1.35L5.41 20z\"/>\n",
              "  </svg>\n",
              "      </button>\n",
              "      \n",
              "  <style>\n",
              "    .colab-df-container {\n",
              "      display:flex;\n",
              "      flex-wrap:wrap;\n",
              "      gap: 12px;\n",
              "    }\n",
              "\n",
              "    .colab-df-convert {\n",
              "      background-color: #E8F0FE;\n",
              "      border: none;\n",
              "      border-radius: 50%;\n",
              "      cursor: pointer;\n",
              "      display: none;\n",
              "      fill: #1967D2;\n",
              "      height: 32px;\n",
              "      padding: 0 0 0 0;\n",
              "      width: 32px;\n",
              "    }\n",
              "\n",
              "    .colab-df-convert:hover {\n",
              "      background-color: #E2EBFA;\n",
              "      box-shadow: 0px 1px 2px rgba(60, 64, 67, 0.3), 0px 1px 3px 1px rgba(60, 64, 67, 0.15);\n",
              "      fill: #174EA6;\n",
              "    }\n",
              "\n",
              "    [theme=dark] .colab-df-convert {\n",
              "      background-color: #3B4455;\n",
              "      fill: #D2E3FC;\n",
              "    }\n",
              "\n",
              "    [theme=dark] .colab-df-convert:hover {\n",
              "      background-color: #434B5C;\n",
              "      box-shadow: 0px 1px 3px 1px rgba(0, 0, 0, 0.15);\n",
              "      filter: drop-shadow(0px 1px 2px rgba(0, 0, 0, 0.3));\n",
              "      fill: #FFFFFF;\n",
              "    }\n",
              "  </style>\n",
              "\n",
              "      <script>\n",
              "        const buttonEl =\n",
              "          document.querySelector('#df-9082ed44-b33a-41bf-8a98-51305f0117ee button.colab-df-convert');\n",
              "        buttonEl.style.display =\n",
              "          google.colab.kernel.accessAllowed ? 'block' : 'none';\n",
              "\n",
              "        async function convertToInteractive(key) {\n",
              "          const element = document.querySelector('#df-9082ed44-b33a-41bf-8a98-51305f0117ee');\n",
              "          const dataTable =\n",
              "            await google.colab.kernel.invokeFunction('convertToInteractive',\n",
              "                                                     [key], {});\n",
              "          if (!dataTable) return;\n",
              "\n",
              "          const docLinkHtml = 'Like what you see? Visit the ' +\n",
              "            '<a target=\"_blank\" href=https://colab.research.google.com/notebooks/data_table.ipynb>data table notebook</a>'\n",
              "            + ' to learn more about interactive tables.';\n",
              "          element.innerHTML = '';\n",
              "          dataTable['output_type'] = 'display_data';\n",
              "          await google.colab.output.renderOutput(dataTable, element);\n",
              "          const docLink = document.createElement('div');\n",
              "          docLink.innerHTML = docLinkHtml;\n",
              "          element.appendChild(docLink);\n",
              "        }\n",
              "      </script>\n",
              "    </div>\n",
              "  </div>\n",
              "  "
            ]
          },
          "metadata": {},
          "execution_count": 8
        }
      ]
    },
    {
      "cell_type": "markdown",
      "source": [
        "### Preprocessing Data"
      ],
      "metadata": {
        "id": "CRbyQ2Sp_-Om"
      }
    },
    {
      "cell_type": "code",
      "source": [
        "data = data[['document', 'summary']]\n",
        "data.info()"
      ],
      "metadata": {
        "colab": {
          "base_uri": "https://localhost:8080/"
        },
        "id": "2JrboMLZ-1xB",
        "outputId": "04ea140c-ba55-497d-b3ee-70e00a2ab937"
      },
      "execution_count": null,
      "outputs": [
        {
          "output_type": "stream",
          "name": "stdout",
          "text": [
            "<class 'pandas.core.frame.DataFrame'>\n",
            "RangeIndex: 29198 entries, 0 to 29197\n",
            "Data columns (total 2 columns):\n",
            " #   Column    Non-Null Count  Dtype \n",
            "---  ------    --------------  ----- \n",
            " 0   document  29198 non-null  object\n",
            " 1   summary   29198 non-null  object\n",
            "dtypes: object(2)\n",
            "memory usage: 456.3+ KB\n"
          ]
        }
      ]
    },
    {
      "cell_type": "markdown",
      "source": [
        "Removing rows with null"
      ],
      "metadata": {
        "id": "svNkVS8B_K0l"
      }
    },
    {
      "cell_type": "code",
      "source": [
        "data.dropna(inplace=True)\n",
        "data.info()"
      ],
      "metadata": {
        "colab": {
          "base_uri": "https://localhost:8080/"
        },
        "id": "Rq8mSSgcCbsj",
        "outputId": "52a46038-b9a7-4b57-851c-47f9de4a5ff5"
      },
      "execution_count": null,
      "outputs": [
        {
          "output_type": "stream",
          "name": "stdout",
          "text": [
            "<class 'pandas.core.frame.DataFrame'>\n",
            "RangeIndex: 29198 entries, 0 to 29197\n",
            "Data columns (total 2 columns):\n",
            " #   Column    Non-Null Count  Dtype \n",
            "---  ------    --------------  ----- \n",
            " 0   document  29198 non-null  object\n",
            " 1   summary   29198 non-null  object\n",
            "dtypes: object(2)\n",
            "memory usage: 456.3+ KB\n"
          ]
        },
        {
          "output_type": "stream",
          "name": "stderr",
          "text": [
            "<ipython-input-12-9529224e9d0a>:1: SettingWithCopyWarning: \n",
            "A value is trying to be set on a copy of a slice from a DataFrame\n",
            "\n",
            "See the caveats in the documentation: https://pandas.pydata.org/pandas-docs/stable/user_guide/indexing.html#returning-a-view-versus-a-copy\n",
            "  data.dropna(inplace=True)\n"
          ]
        }
      ]
    },
    {
      "cell_type": "markdown",
      "source": [
        "Removing duplicate rows"
      ],
      "metadata": {
        "id": "7Gq8hJiu_4-b"
      }
    },
    {
      "cell_type": "code",
      "source": [
        "sum(data.duplicated())"
      ],
      "metadata": {
        "colab": {
          "base_uri": "https://localhost:8080/"
        },
        "id": "gPyssJ1nCopH",
        "outputId": "80a29fd5-0d2c-4380-9063-af24701c12b7"
      },
      "execution_count": null,
      "outputs": [
        {
          "output_type": "execute_result",
          "data": {
            "text/plain": [
              "1"
            ]
          },
          "metadata": {},
          "execution_count": 13
        }
      ]
    },
    {
      "cell_type": "code",
      "source": [
        "data = data.drop_duplicates(subset=['document', 'summary'], keep='last')\n",
        "sum(data.duplicated())"
      ],
      "metadata": {
        "colab": {
          "base_uri": "https://localhost:8080/"
        },
        "id": "92lG3mbSC0gQ",
        "outputId": "63dadadb-12a4-44d5-a155-b6a93970fdcf"
      },
      "execution_count": null,
      "outputs": [
        {
          "output_type": "execute_result",
          "data": {
            "text/plain": [
              "0"
            ]
          },
          "metadata": {},
          "execution_count": 15
        }
      ]
    },
    {
      "cell_type": "code",
      "source": [
        "data.shape"
      ],
      "metadata": {
        "colab": {
          "base_uri": "https://localhost:8080/"
        },
        "id": "zFlmk8yz2gsO",
        "outputId": "05d2a9e8-3c34-4354-97b2-81a1982500a8"
      },
      "execution_count": null,
      "outputs": [
        {
          "output_type": "execute_result",
          "data": {
            "text/plain": [
              "(29197, 2)"
            ]
          },
          "metadata": {},
          "execution_count": 16
        }
      ]
    },
    {
      "cell_type": "code",
      "source": [
        "df=data.copy()"
      ],
      "metadata": {
        "id": "cSSZuCasDkCI"
      },
      "execution_count": null,
      "outputs": []
    },
    {
      "cell_type": "code",
      "source": [
        "df = df.iloc[:29000,:]"
      ],
      "metadata": {
        "id": "MYz58ptXgnDJ"
      },
      "execution_count": null,
      "outputs": []
    },
    {
      "cell_type": "code",
      "source": [
        "texts = df.document.values.tolist()\n",
        "summaries = df.summary.values.tolist()"
      ],
      "metadata": {
        "id": "kz0QG5zFECaC"
      },
      "execution_count": null,
      "outputs": []
    },
    {
      "cell_type": "markdown",
      "source": [
        "Letter normalization"
      ],
      "metadata": {
        "id": "AAaHdPCfAjUa"
      }
    },
    {
      "cell_type": "code",
      "source": [
        "def normalize(text):\n",
        "  text = re.sub(\"[إأآا]\", \"ا\", text)\n",
        "  text = re.sub(\"ى\", \"ي\", text)\n",
        "  text = re.sub(\"ؤ\", \"ء\", text)\n",
        "  text = re.sub(\"ئ\", \"ء\", text)\n",
        "  text = re.sub(\"ة\", \"ه\", text)\n",
        "  text = re.sub(\"گ\", \"ك\", text)\n",
        "  return text"
      ],
      "metadata": {
        "id": "9K73-VheMCYF"
      },
      "execution_count": null,
      "outputs": []
    },
    {
      "cell_type": "code",
      "source": [
        "texts = [normalize(t) for t in texts]\n",
        "summaries = [normalize(t) for t in summaries]"
      ],
      "metadata": {
        "id": "Uco-RYpFMO45"
      },
      "execution_count": null,
      "outputs": []
    },
    {
      "cell_type": "markdown",
      "source": [
        "Removing stop words from data"
      ],
      "metadata": {
        "id": "Q5m780RmAa6Q"
      }
    },
    {
      "cell_type": "code",
      "source": [
        "import nltk\n",
        "from nltk.corpus import stopwords\n",
        "nltk.download('stopwords')"
      ],
      "metadata": {
        "colab": {
          "base_uri": "https://localhost:8080/"
        },
        "id": "G1GYQA-SDuNI",
        "outputId": "e2560089-fccc-4fc8-9514-03212d91fd20"
      },
      "execution_count": 6,
      "outputs": [
        {
          "output_type": "stream",
          "name": "stderr",
          "text": [
            "[nltk_data] Downloading package stopwords to /root/nltk_data...\n",
            "[nltk_data]   Unzipping corpora/stopwords.zip.\n"
          ]
        },
        {
          "output_type": "execute_result",
          "data": {
            "text/plain": [
              "True"
            ]
          },
          "metadata": {},
          "execution_count": 6
        }
      ]
    },
    {
      "cell_type": "code",
      "source": [
        "stopwords_list = stopwords.words('arabic')"
      ],
      "metadata": {
        "id": "YYgFSQwpDm6c"
      },
      "execution_count": null,
      "outputs": []
    },
    {
      "cell_type": "code",
      "source": [
        "# stopwords_list"
      ],
      "metadata": {
        "id": "oGnZ2S-OD2Gb"
      },
      "execution_count": null,
      "outputs": []
    },
    {
      "cell_type": "code",
      "source": [
        "def remove_wstop(text):\n",
        "  new_text = []\n",
        "  for t in text.split():\n",
        "    if t not in stopwords_list:\n",
        "      new_text.append(t)\n",
        "\n",
        "  return ' '.join(new_text)\n"
      ],
      "metadata": {
        "id": "hZ0l4icXH78g"
      },
      "execution_count": null,
      "outputs": []
    },
    {
      "cell_type": "code",
      "source": [
        "texts = [remove_wstop(t) for t in texts]\n",
        "summaries = [remove_wstop(t) for t in summaries]"
      ],
      "metadata": {
        "id": "2aZoZI29HztQ"
      },
      "execution_count": null,
      "outputs": []
    },
    {
      "cell_type": "markdown",
      "source": [
        "Removing any unwanted\n",
        "characters"
      ],
      "metadata": {
        "id": "98wrxHz5_80Q"
      }
    },
    {
      "cell_type": "code",
      "source": [
        "import re\n",
        "def remove_char(text):\n",
        "  text = re.sub('([@A-Za-z0-9_]+)|[^\\w\\s]|#|http\\S+', '', text) # cleaning up\n",
        "  return text"
      ],
      "metadata": {
        "id": "LjmMLChKHpYN"
      },
      "execution_count": 7,
      "outputs": []
    },
    {
      "cell_type": "code",
      "source": [
        "texts = [remove_char(t) for t in texts]\n",
        "summaries = [remove_char(t) for t in summaries]"
      ],
      "metadata": {
        "id": "-6U5umuiI1AD"
      },
      "execution_count": null,
      "outputs": []
    },
    {
      "cell_type": "code",
      "source": [
        "texts[0]"
      ],
      "metadata": {
        "colab": {
          "base_uri": "https://localhost:8080/",
          "height": 162
        },
        "id": "cpfEHJxbSjfW",
        "outputId": "181d28dd-d2ca-462f-921d-12f05e420d3f"
      },
      "execution_count": null,
      "outputs": [
        {
          "output_type": "execute_result",
          "data": {
            "text/plain": [
              "'يكون سعر الفاكهه والخضراوات موسم انباتها اقل غيره المواسم وستلجا محلات الخضروات الي عرض الفاكهه باسعار مناسبه موسمها بسبب توفر المنتجات وزياده الطلب عليها خلال الفترات يقتصر الامر علي السعر الاقل سيكون طعامك الخضراوات والفاكهه اشهي والذ تناوله موسمه فصل الخريف التفاح والتين والبنجر والكمثري والقرنبيط والكرنب واليقطين فصل الشتاء الخضراوات الملفوف والفاصوليا والبازلاء والبصل الفواكه البطاطا الحلوه والافوكادو والبرتقال والتفاح والموز واليوسفي والرمان والعنب فصل الربيع السبانخ والجزر والكوسه والبصل الاخضر والطماطم والخضراوات الورقيه والفراوله والمشمش فصل الصيف الصيف فصل البطيخ وكذلك الامر بالنسبه للذره والتوت تلاحظ توفر الخضراوات والفواكهه المهمه علي مدار العام كله بشكل او اخر ولكنها تكون بارخص اسعارها فصل الصيف يمكنك شراء كميات كبيره وتخزينها او تجميدها المجمد الفريزر الافضل لصحتك البدنيه والماليه علي حد سواء تناول الفواكه والخضراوات والاطعمه الطازجه عامه الحالات يكون الارخص بالنسبه الاعتماد علي الطعام المعبا تحصل علي الفواءد الغذاءيه بشرط التاكد انه مضاف اليه اي ملح او سكر او مواد مصنعه اتبع النصيحه الفواكه والخضراوات وكذلك مصادر البروتينات يكون سعر الفراخ المجمده مثلا ارخص الطازجه وبالمثل حاله عبوات التونه والسالمون مقارنه بشراء السمك النوعين طازجا تحرص العديد محلات الاطعمه الغذاءيه باختلاف انواعها علي تقديم عروض خاصه لعملاءها بوتيره اسبوعيه يمكنك الاطلاع عبر مطبوعات الاعلانات وصفحاتهم الرسميه عبر وساءل التواصل الاجتماعي اغتنم اوقات العروض علي واحده الاطعمه وجهز نفسك واهجم علي المحل لاقتناء اكبر كميه ممكنه علي امل تخزينها منزلك بشكل او اخر انها صفقه تعوض يمكنك تخزين اغلبيه انواع اللحوم علي سبيل المثال لذا بمجرد رءيتك لهذا العرض الخاص علي صدور الدجاج واحده المحلات الكبري اسرع فورا واشتر كميه مناسبه يمكنك تخزين الزاءد حاجتك لوقت لاحق انها مهاره تتقنها ربات البيوت والا لما نجحت جداتنا وامهاتنا تربيه عدد ضخم الابناء بقدر ضءيل المرتبات وبنسبه كبيره انك تحرصين بدورك علي شراء ارخص العلامات التجاريه المقبوله وقد سبق اجراء المقارنه نود الاشاره اليه عدم الارتكان داءما لنفس خيار الشراء بوصفه الارخص ثمنا لانه ربما شهور بينما توفر السوق الان خيار بديل بسعر افضل عمليه المقارنه الاسعار مهمه ضروريه عمليه شراء قدر الامكان لذا تفقدي يقظتك ابدا عاده يتاح عروض مميزه علي شراء الكميات الكبيره او خصما علي منتج معين لفتره محدوده لذا خلال عمليه البحث والمقارنه المستمره يمكنك الذهاب الي السوق وشراء يلزمك بافضل سعر ممكن انقلي بصرك لاعلي واسفل رفوف المحلات التجاريه فغالبا يتعمد الباءعون وضع السلع الاغلي ثمنا مستوي العين يبادر المستهلكون داءما لاقتناءها واغفال النظر غيرها الخيارات رخيصه الثمن ابحثي السلع والاطعمه المحليه والمصنعه باسم المتجر التجاري نفسه والتي عاده تكون بسعر اقل مقارنه بالعلامات التجاريه الكبري تقف امام الباءع وتدفع رقما ضخما نظير شراءك للسلع بالجمله بحسبه بسيطه ستكتشف انك حصلت علي الوحده الواحده المنتج بثمن ارخص الشراء بالقطعه توجد متاجر خاصه بالبيع بالجمله يتوفر الاختيار المحلات العاديه كذلك شراءك لدسته منتج معين سيكون اجمالي السعر ارخص شراء عدد العبوات بشكل منفرد علي اكثر مره يمكنك الشراء بالجمله متاجر السلع المعبءه السوبرماركت ونفس الامر بالنسبه لمحلات الفاكهه والخضراوات والسلع الغذاءيه الصحيه العضويه يحرص الباءعون علي توفير سلع مثل الحبوب والبقول والمكرونه غير المعبءه والمكسرات والدقيق والسكر شابه للشراء بالجمله حاول شراء السلع سابقه الذكر المحلات المدعومه تبعا لوزاره التموين بلدك فقد تحصل علي السلع بنفس جوده العلامات التجاريه الكبري بسعر مخفض ضع نصب عينيك حقيقه وجود فتره زمنيه قصوي يمكنك خلالها استهلاك اشتريته سلع بالجمله فمهما الممكن تخزينها او تجميدها ستجد نفسك امام حقيقه ان اشتريته معرضا لانتهاء صلاحيته عده شهور استوعب مناسبه الكميه الكبيره لمعدل استهلاكك انت واسرتك ورغبتهم اكلها اصلا الاطعمه ودون ان تنسي ادراج فتره صلاحيه المنتج ضمن المعادله الحسابيه الصعبه فاءده شراء شيء رخيص ولكنه سيلقي علي الارض بلا فاءده عندما يصبح صالح للاستخدام تترك قسيمه شراء تهرب يدك بمجرد وجود فرصه للحصول عليها علي الجانب الاخر تشتر سوي السلع والمنتجات تعرف انك بحاجه الي استخدامها فاءده شراء منتج تشتريه العاده مهما رخيص الثمن لانك ستنفق اموالك علي تحتاجه ترغب استخدامه وستضيع اموالك علي الارض بلا فاءده وستدرك وقتها انها كانت صفقه خاسره يمكنك ايجاد قساءم الشراء عبر الانترنت او الجراءد والمجلات يمكنك الاستفاده حديثا تطبيقات قساءم الشراء علي الهواتف الذكيه تكون مءهلا للاشتراك واحده برامج دعم الغذاء لمحدودي الدخل بلدك وهي الجهات توفر الطعام باسعار مدعومه للمحتاجين تختلف انظمه دعم التموين والطعام بلد لاخر لذانص ماءل ستحتاج لاجراء عمليه بحث بسيطه لمعرفه اجراءات التسجيل البرامج تجد برامج مخصصه للعاطلين الافراد او السيدات قليلات الدخل او للاسر كبيره العدد شابه تتوفر المتاجر التابعه لمثل برامج الدعم تطمع وتشتهيه سلع ولكنك ستجد الحد الادني احتياجاتك الاطعمه الصحيه والضروريات اللازمه الطعام اذهب الي المكتب المحلي المخصص للتقدم بطلب الحصول علي الدعم او يمكنك التقدم عبر المنصات والمواقع الالكترونيه حال توفرها تواصلي الجهات المسءوله تقديم الدعم للعاطلين وللسيدات محدودات الدخل شابه مدينتك لمعرفه كيفيه التقدم للاشتراك برامج الدعم المماثله تجد العديد السلع الغذاءيه الارخص سعرا المتاجر التابعه مباشره للمزارع المحليه وان كنت ستواجه صعوبه الحصول علي احتياجك السلع نظرا لضغط الطلب وقله المعروض منتجات غالبا انها اطعمه طازجه ولم يضاف اليها تكاليف النقل وارباح الكثير الموزعين والباءعين لذا ستقدر علي الحصول عليها بسعر ارخص وجوده افضل استوعب فقط انك تملك رفاهيه تاجيل تناولها كونها تظل علي حالتها فترات طويله مقارنه بغيرها السلع الغذاءيه المزروعه لتحمل مشقه النقل والفترات الزمنيه الطويله التناول الميزه الايجابيه انك ستقدر علي تناول اطعمه افضل مذاقا وطزاجه تجد المزارع المحليه المدرجه ضمن برامج الدعم الحكومي للطعام والتي توفر للمستحقين امكانيه شراء الفاكهه والخضراوات بسعر اقل'"
            ],
            "application/vnd.google.colaboratory.intrinsic+json": {
              "type": "string"
            }
          },
          "metadata": {},
          "execution_count": 33
        }
      ]
    },
    {
      "cell_type": "markdown",
      "source": [
        "Applying AraBERT Preprocess on data"
      ],
      "metadata": {
        "id": "63QIUZ2jAKuX"
      }
    },
    {
      "cell_type": "code",
      "source": [
        "from arabert import ArabertPreprocessor\n",
        "model_name = \"aubmindlab/bert-base-arabertv2\"\n",
        "arabert_prep = ArabertPreprocessor(model_name=model_name)\n",
        "\n",
        "texts = [arabert_prep.preprocess(t) for t in texts]\n",
        "summaries = [arabert_prep.preprocess(t) for t in summaries]"
      ],
      "metadata": {
        "colab": {
          "base_uri": "https://localhost:8080/"
        },
        "id": "QZRWXSETJW4W",
        "outputId": "9ee58fb5-10e6-47f6-a967-0f6e02a601b1"
      },
      "execution_count": null,
      "outputs": [
        {
          "output_type": "stream",
          "name": "stderr",
          "text": [
            "/usr/local/lib/python3.10/dist-packages/urllib3/connectionpool.py:1056: InsecureRequestWarning: Unverified HTTPS request is being made to host 'farasa-api.qcri.org'. Adding certificate verification is strongly advised. See: https://urllib3.readthedocs.io/en/1.26.x/advanced-usage.html#ssl-warnings\n",
            "  warnings.warn(\n"
          ]
        },
        {
          "output_type": "stream",
          "name": "stdout",
          "text": [
            "100%|██████████| 241M/241M [00:22<00:00, 10.9MiB/s]\n"
          ]
        },
        {
          "output_type": "stream",
          "name": "stderr",
          "text": [
            "[2023-06-30 12:46:13,919 - farasapy_logger - WARNING]: Be careful with large lines as they may break on interactive mode. You may switch to Standalone mode for such cases.\n"
          ]
        }
      ]
    },
    {
      "cell_type": "code",
      "source": [
        "# text = \"ولن نبالغ إذا قلنا: إن 'هاتف' أو 'كمبيوتر المكتب' في زمننا هذا ضروري\"\n",
        "# text = arabert_prep.preprocess(text)\n",
        "# text"
      ],
      "metadata": {
        "id": "hhelnD0IQven"
      },
      "execution_count": null,
      "outputs": []
    },
    {
      "cell_type": "code",
      "source": [
        "def remove_additions(text):\n",
        "  # text = re.sub('[a-zA-Z]*\\+[a-zA-Z]*', \"\", text) # cleaning up /\\b\\w*[Yy]\\w*\\b/g\n",
        "  text = re.sub('\\+\\w+\\s', '', text) # cleaning up\n",
        "  text = re.sub('\\w+\\+\\s', '', text) # cleaning up\n",
        "  return text"
      ],
      "metadata": {
        "id": "fG4ikefJQTO3"
      },
      "execution_count": null,
      "outputs": []
    },
    {
      "cell_type": "code",
      "source": [
        "# text = remove_additions(text)\n",
        "# text"
      ],
      "metadata": {
        "id": "6UaknkPpQx3f"
      },
      "execution_count": null,
      "outputs": []
    },
    {
      "cell_type": "code",
      "source": [
        "texts = [remove_additions(t) for t in texts]\n",
        "summaries = [remove_additions(t) for t in summaries]"
      ],
      "metadata": {
        "id": "5xi0mhY-6QTC"
      },
      "execution_count": null,
      "outputs": []
    },
    {
      "cell_type": "code",
      "source": [
        "texts[0]"
      ],
      "metadata": {
        "colab": {
          "base_uri": "https://localhost:8080/",
          "height": 162
        },
        "id": "MLhoUj0M9ZMU",
        "outputId": "4616e54b-6d2b-457e-c616-0d00c608bc3e"
      },
      "execution_count": null,
      "outputs": [
        {
          "output_type": "execute_result",
          "data": {
            "text/plain": [
              "'يكون سعر فاكهه خضراوات موسم انب أقل غير مواسم تلجا محل خضرو الي عرض فاكهه أسعار مناسب موسم سبب توفر منتج زياد طلب علي خلال فتر يقتصر أمر علي سعر أقل يكون طعام خضراوات فاكهه اشهي الذ تناول موسم فصل خريف تفاح تين بنجر كمثري قرنبيط كرنب يقطين فصل شتاء خضراوات ملفوف فاصوليا بازلاء بصل فواكه بطاطا حلوه افوكادو برتقال تفاح موز يوسفي رمان عنب فصل ربيع سبانخ جزر كوسه بصل أخضر طماطم خضراوات ورقيه فراوله مشمش فصل صيف صيف فصل بطيخ كذلك أمر نسبه ذره توت تلاحظ توفر خضراوات فواكهه مهمه علي مدار عام كل شكل أو آخر لكن تكون ارخص اسعار فصل صيف يمكن شراء كمي كبير تخزين أو تجميد مجمد فريزر أفضل صح بدنيه ماليه علي حد سواء تناول فواكه خضراوات اطعمه طازجه عام حال يكون ارخص نسبه اعتماد علي طعام معبا تحصل علي فواءد غذاءيه شرط تأكد مضاف إلي اي ملح أو سكر أو مواد مصنع اتبع نصيحه فواكه خضراوات كذلك مصادر بروتين يكون سعر فراخ مجمده مثل ارخص طازجه مثل حال عبو تونه سالم مقارن شراء سمك نوع طازج تحرص عديد محل اطعمه غذاءيه اختلاف انواع علي تقديم عروض خاص عملاء وتير اسبوعي يمكن اطلاع عبر مطبوع إعلان صفح رسميه عبر ساءل تواصل اجتماعي أغتنم أوقات عروض علي واحد اطعمه جهز نفس اهجم علي محل اقتناء أكبر كمي ممكن علي أمل تخزين منزل شكل أو آخر صفق تعوض يمكن تخزين اغلبي أنواع لحوم علي سبيل مثال لذا مجرد رءي هذا عرض خاص علي صدور دجاج واحد محل كبرى أسرع فور اشتر كمي مناسب يمكن تخزين زاءد حاج وقت لاحق مهار تتقن رب بيوت والا ما نجح جد أمه تربي عدد ضخم ابناء قدر ضءيل مرتب نسب كبير تحرص بدور علي شراء ارخص علام تجاريه مقبوله قد سبق اجراء مقارنه نود اشاره إلي عدم ارتكان داءم نفس خيار شراء وصف ارخص ثمن لان ربما شهور بينما توفر سوق الان خيار بديل سعر أفضل عملي مقارنه أسعار مهم ضروري عملي شراء قدر إمكان لذا تفقدي يقظ أبد عاد يتاح عروض مميز علي شراء كمي كبيره أو خصم علي منتج معين فتر محدود لذا خلال عملي بحث مقارنه مستمره يمكن ذهاب الي سوق شراء يلزم أفضل سعر ممكن انقلي بصر اعلي اسفل رفوف محل تجاريه غالب يتعمد باءع وضع سلع اغلي ثمن مستوى عين يبادر مستهلك داءم اقتناء اغفال نظر غير خيار رخيص ثمن ابحث سلع اطعمه محليه مصنعه باسم متجر تجاري نفس التي عاد تكون سعر أقل مقارن علام تجاريه كبرى تقف امام باءع تدفع رقم ضخم نظير شراء سلع جمله حسب بسيط تكتشف حصل علي وحده واحده منتج ثمن ارخص شراء قطعه توجد متاجر خاص بيع جمله يتوفر اختيار محل عاديه كذلك شراء دست منتج معين يكون إجمالي سعر ارخص شراء عدد عبو شكل منفرد علي أكثر مر يمكن شراء جمله متاجر سلع معبءه سوبرماركت نفس أمر نسبه محل فاكهه خضراوات سلع غذاءيه صحيه عضويه يحرص باءع علي توفير سلع مثل حبوب بقول مكرونه غير معبءه مكسر دقيق سكر شابه شراء جمله حاول شراء سلع سابق ذكر محل مدعومه تبع وزار تموين بلد فقد تحصل علي سلع نفس جود علام تجاريه كبرى سعر مخفض ضع نصب عين حقيق وجود فتر زمني قصوي يمكن خلال استهلاك اشتري سلع جمله مهما ممكن تخزين أو تجميد تجد نفس امام حقيق ان اشتري معرض انتهاء صلاحي عد شهور استوعب مناسب كميه كبيره معدل استهلاك أنت اسر رغب اكل أصل اطعمه دون ان تنسي ادراج فتر صلاحي منتج ضمن معادله حسابيه صعبه فاءد شراء شيء رخيص لكن يلقي علي أرض لا فاءد عندما يصبح صالح استخدام تترك قسيم شراء تهرب يد مجرد وجود فرص حصول علي علي جانب آخر تشتر سوي سلع منتج تعرف حاج الي استخدام فاءد شراء منتج تشتري عاده مهما رخيص ثمن لأن تنفق اموال علي تحتاج ترغب استخدام تضيع اموال علي أرض لا فاءد تدرك وقت كان صفق خاسر يمكن إيجاد قساءم شراء عبر إنترنت أو جراءد مجل يمكن استفاده حديث تطبيق قساءم شراء علي هواتف ذكيه تكون مءهل اشتراك واحد برامج دعم غذاء محدود دخل بلد هي جه توفر طعام أسعار مدعوم محتاج تختلف انظم دعم تموين طعام بلد اخر لذانص ماءل تحتاج إجراء عملي بحث بسيط معرف إجراء تسجيل برامج تجد برامج مخصص عاطل أفراد أو سيد قليل دخل أو أسر كبير عدد شابه تتوفر متاجر تابعه مثل برامج دعم تطمع تشتهي سلع لك تجد حد ادني احتياج اطعمه صحيه ضروري لازمه طعام أذهب الي مكتب محلي مخصص تقدم طلب حصول علي دعم أو يمكن تقدم عبر منص مواقع الكترونيه حال توفر تواصل جه مسءوله تقديم دعم عاطل سيد محدود دخل شابه مدين معرف كيف تقدم اشتراك برامج دعم مماثله تجد عديد سلع غذاءيه ارخص سعر متاجر تابعه مباشر مزارع محليه وان تواجه صعوب حصول علي احتياج سلع نظر ضغط طلب قل معروض منتج غالب اطعم طازج لم يضاف إلي تكاليف نقل ارباح كثير موزع باءع لذا ستقدر علي حصول علي سعر ارخص وجود أفضل استوعب فقط تملك رفاهي تأجيل تناول كون تظل علي حال فتر طويل مقارن غير سلع غذاءيه مزروعه تحمل مشق نقل فتر زمنيه الطويل تناول ميزه ايجابيه ستقدر علي تناول اطعم أفضل مذاق طزاج تجد مزارع محليه مدرجه ضمن برامج دعم حكومي طعام التي توفر مستحق امكاني شراء فاكهه خضراوات سعر أقل'"
            ],
            "application/vnd.google.colaboratory.intrinsic+json": {
              "type": "string"
            }
          },
          "metadata": {},
          "execution_count": 37
        }
      ]
    },
    {
      "cell_type": "code",
      "source": [
        "data.iloc[0,0]"
      ],
      "metadata": {
        "colab": {
          "base_uri": "https://localhost:8080/",
          "height": 162
        },
        "id": "KwY8LAos9eD8",
        "outputId": "27a68236-b3bb-40da-c6f3-396cbb2a7242"
      },
      "execution_count": null,
      "outputs": [
        {
          "output_type": "execute_result",
          "data": {
            "text/plain": [
              "'يكون سعر الفاكهة والخضراوات في موسم إنباتها أقل من غيره من المواسم، وستلجأ محلات الخضروات إلى عرض الفاكهة بأسعار مناسبة في موسمها بسبب توفر المنتجات وزيادة الطلب عليها خلال تلك الفترات. لا يقتصر الأمر على السعر الأقل، بل سيكون طعامك من الخضراوات والفاكهة أشهى وألذ عند تناوله في موسمه.   في فصل الخريف: التفاح والتين والبنجر والكمثرى والقرنبيط والكرنب واليقطين في فصل الشتاء: (الخضراوات) الملفوف والفاصوليا والبازلاء والبصل (الفواكه)  البطاطا الحلوة والأفوكادو والبرتقال والتفاح والموز واليوسفى والرمان والعنب. في فصل الربيع: السبانخ والجزر والكوسة والبصل الأخضر  والطماطم والخضراوات الورقية والفراولة والمشمش. في فصل الصيف: الصيف هو فصل البطيخ، وكذلك الأمر بالنسبة للذرة والتوت. سوف تلاحظ توفر هذه الخضراوات والفواكهة المهمة على مدار العام كله بشكل أو آخر، ولكنها تكون بأرخص أسعارها في فصل الصيف، وهو ما يمكنك من شراء كميات كبيرة منها وتخزينها أو تجميدها في المُجمد (الفريزر). الأفضل لصحتك البدنية والمالية على حد سواء هو تناول الفواكه والخضراوات والأطعمة الطازجة عامة، ولكن في بعض الحالات قد يكون من الأرخص بالنسبة لك الاعتماد على الطعام المعبأ. سوف تحصل منه على نفس الفوائد الغذائية بشرط التأكد من أنه غير مُضاف إليه أي ملح أو سكر أو مواد مُصنعة.  اتبع هذه النصيحة مع الفواكه والخضراوات وكذلك مع مصادر البروتينات؛ قد يكون سعر الفراخ المجمدة مثلًا أرخص من الطازجة، وبالمثل في حالة عبوات التونة والسالمون مقارنة بشراء السمك من كلا النوعين طازجًا. تحرص العديد من محلات الأطعمة الغذائية باختلاف أنواعها على تقديم عروض خاصة لعملائها بوتيرة أسبوعية، وهو ما يمكنك الاطلاع عليه عبر مطبوعات الإعلانات وصفحاتهم الرسمية عبر وسائل التواصل الاجتماعي. اغتنم أوقات العروض على واحدة من الأطعمة وجهز نفسك واهجم على المحل لاقتناء أكبر كمية ممكنة على أمل تخزينها في منزلك بشكل أو آخر؛ إنها صفقة لا تعوض. يمكنك تخزين أغلبية أنواع اللحوم على سبيل المثال، لذا بمجرد رؤيتك لهذا العرض الخاص على صدور الدجاج في واحدة من المحلات الكبرى، أسرع فورًا واشترِ كمية مناسبة يمكنك تخزين الزائد منها عن حاجتك لوقت لاحق. إنها مهارة تتقنها كل ربات البيوت وإلا لَما نجحت جداتنا وأمهاتنا في تربية عدد ضخم من الأبناء بقدر ضئيل من المرتبات، وبنسبة كبيرة أنك تحرصين بدورك على شراء أرخص العلامات التجارية المقبولة وقد سبق لك إجراء مثل هذه المقارنة، لكن ما نود الإشارة إليه هو عدم الارتكان دائمًا لنفس خيار الشراء بوصفه الأرخص ثمنًا، لأنه ربما كان كذلك منذ شهور، بينما قد توفر في السوق الآن خيار بديل بسعر أفضل. عملية المقارنة بين الأسعار مهمة ضرورية قبل كل عملية شراء قدر الإمكان، لذا لا تفقدي يقظتك أبدًا. عادة ما يتاح كذلك عروض مميزة على شراء الكميات الكبيرة أو خصمًا على منتج معين لفترة محدودة، لذا من خلال عملية البحث والمقارنة المستمرة يمكنك الذهاب إلى السوق وشراء كل ما يلزمك بأفضل سعر ممكن.    انقلي بصرك لأعلى وأسفل رفوف المحلات التجارية، فغالبًا ما يتعمد البائعون وضع السلع الأغلى ثمنًا في مستوى العين لكي يبادر المستهلكون دائمًا لاقتنائها وإغفال النظر عن غيرها من الخيارات رخيصة الثمن. ابحثي عن السلع والأطعمة المحلية والمُصنعة باسم المتجر التجاري نفسه، والتي عادة ما تكون بسعر أقل مقارنة بالعلامات التجارية الكبرى. سوف تقف أمام البائع وتدفع رقمًا ضخمًا نظير شرائك للسلع بالجملة، ولكن بحسبة بسيطة ستكتشف أنك حصلت على الوحدة الواحدة من المنتج بثمن أرخص من الشراء بالقطعة. توجد متاجر خاصة بالبيع بالجملة كما يتوفر هذا الاختيار في كل المحلات العادية كذلك؛ عند شرائك لدستة من منتج معين، سيكون إجمالي السعر أرخص من شراء نفس عدد العبوات بشكل منفرد على أكثر من مرة.   يمكنك الشراء بالجملة من متاجر السلع المعبئة (السوبرماركت) ونفس الأمر بالنسبة لمحلات الفاكهة والخضراوات والسلع الغذائية الصحية (العضوية). يحرص البائعون على توفير سلع مثل: الحبوب والبقول والمكرونة (غير المعبئة) والمكسرات والدقيق والسكر وما شابه، للشراء بالجملة. حاول شراء السلع سابقة الذكر من المحلات المدعومة تبعًا لوزارة التموين في بلدك، فقد تحصل منها على نفس السلع بنفس جودة العلامات التجارية الكبرى ولكن بسعر مخفض. ضع نصب عينيك حقيقة وجود فترة زمنية قصوى يمكنك خلالها استهلاك ما اشتريته من سلع بالجملة، فمهما كان من الممكن تخزينها أو تجميدها، ستجد نفسك أمام حقيقة أن ما اشتريته معرضًا لانتهاء صلاحيته بعد عدة شهور. استوعب مناسبة تلك الكمية الكبيرة لمعدل استهلاكك أنت وأسرتك (ورغبتهم في أكلها أصلًا) من الأطعمة ودون أن تنسى إدراج فترة صلاحية المنتج ضمن تلك المعادلة الحسابية الصعبة، فلا فائدة من شراء شيء رخيص ولكنه سيُلقى على الأرض بلا فائدة عندما يُصبح غير صالح للاستخدام. لا تترك قسيمة شراء تهرب من تحت يدك بمجرد وجود فرصة للحصول عليها، لكن على الجانب الآخر لا تشترِ سوى السلع والمنتجات التي تعرف أنك بحاجة إلى استخدامها. لا فائدة من شراء منتج لا تشتريه في العادة -مهما كان رخيص الثمن- لأنك ستنفق أموالك على ما لا تحتاجه وما لن ترغب في استخدامه، وستضيع أموالك على الأرض بلا فائدة، وستدرك وقتها أنها كانت صفقة خاسرة.  يمكنك إيجاد قسائم الشراء عبر الإنترنت أو في الجرائد والمجلات، كما يمكنك الاستفادة حديثًا من تطبيقات قسائم الشراء على الهواتف الذكية. قد تكون مؤهلًا للاشتراك في واحدة من برامج دعم الغذاء لمحدودي الدخل في بلدك، وهي الجهات التي توفر الطعام بأسعار مدعومة للمحتاجين.   تختلف أنظمة دعم التموين والطعام من بلد لآخر، لذانص مائل ستحتاج لإجراء عملية بحث بسيطة لمعرفة إجراءات التسجيل في مثل هذه البرامج. قد تجد برامج مخصصة للعاطلين من الأفراد أو السيدات قليلات الدخل أو للأسر كبيرة العدد وما شابه. قد لا تتوفر لك في المتاجر التابعة لمثل برامج الدعم تلك كل ما تطمع وتشتهيه من سلع، ولكنك ستجد بها الحد الأدنى من احتياجاتك من الأطعمة الصحية والضروريات اللازمة من الطعام.   اذهب إلى المكتب المحلي المخصص للتقدم بطلب الحصول على الدعم أو يمكنك التقدم عبر المنصات والمواقع الإلكترونية في حال توفرها. تواصلي مع الجهات المسؤولة عن تقديم الدعم للعاطلين وللسيدات محدودات الدخل وما شابه في مدينتك لمعرفة كيفية التقدم للاشتراك في برامج الدعم المماثلة. تجد العديد من السلع الغذائية الأرخص سعرًا في المتاجر التابعة مباشرة للمزارع المحلية، وإن كنت ستواجه صعوبة في الحصول على احتياجك من السلع نظرًا لضغط الطلب وقلة المعروض من منتجات غالبًا. إنها أطعمة طازجة ولم يُضاف إليها تكاليف النقل وأرباح الكثير من الموزعين والبائعين، لذا ستقدر على الحصول عليها بسعر أرخص وجودة أفضل. استوعب فقط أنك لن تملك رفاهية تأجيل تناولها كونها لا تظل على حالتها فترات طويلة مقارنة بغيرها من السلع الغذائية المزروعة لتحمل مشقة النقل والفترات الزمنية الطويلة قبل التناول. الميزة الإيجابية أنك ستقدر على تناول أطعمة أفضل مذاقًا وطزاجة.  قد تجد بعض المزارع المحلية المُدرجة ضمن برامج الدعم الحكومي للطعام والتي توفر للمستحقين إمكانية شراء الفاكهة والخضراوات بسعر أقل.'"
            ],
            "application/vnd.google.colaboratory.intrinsic+json": {
              "type": "string"
            }
          },
          "metadata": {},
          "execution_count": 38
        }
      ]
    },
    {
      "cell_type": "markdown",
      "source": [
        "Determining the Maximum Permissible Sequence Lengths"
      ],
      "metadata": {
        "id": "q29mzKO1-mlD"
      }
    },
    {
      "cell_type": "code",
      "source": [
        "txt_len = [len(t.split()) for t in texts]\n",
        "smy_len = [len(t.split()) for t in summaries]"
      ],
      "metadata": {
        "id": "k0nNbORa-mBL"
      },
      "execution_count": null,
      "outputs": []
    },
    {
      "cell_type": "code",
      "source": [
        "import matplotlib.pyplot as plt\n",
        "length_df = pd.DataFrame({'text':txt_len, 'summary':smy_len})\n",
        "length_df.hist(bins = 30)\n",
        "plt.show()"
      ],
      "metadata": {
        "colab": {
          "base_uri": "https://localhost:8080/",
          "height": 452
        },
        "id": "VIbw4kok71SN",
        "outputId": "385668ae-2c35-4f11-cc1d-ff8b2f70b6f5"
      },
      "execution_count": null,
      "outputs": [
        {
          "output_type": "display_data",
          "data": {
            "text/plain": [
              "<Figure size 640x480 with 2 Axes>"
            ],
            "image/png": "[encoded data removed]"
          },
          "metadata": {}
        }
      ]
    },
    {
      "cell_type": "code",
      "source": [
        "max(txt_len), max(smy_len)"
      ],
      "metadata": {
        "colab": {
          "base_uri": "https://localhost:8080/"
        },
        "id": "dcekDwNvABHk",
        "outputId": "09fe7386-8f6a-4769-ffe4-dce0f30b82e7"
      },
      "execution_count": null,
      "outputs": [
        {
          "output_type": "execute_result",
          "data": {
            "text/plain": [
              "(1926, 364)"
            ]
          },
          "metadata": {},
          "execution_count": 42
        }
      ]
    },
    {
      "cell_type": "code",
      "source": [
        "max_text_len = 2000\n",
        "max_summary_len = 30"
      ],
      "metadata": {
        "id": "gSe2HCMFAWaD"
      },
      "execution_count": null,
      "outputs": []
    },
    {
      "cell_type": "markdown",
      "source": [
        "Select the Summaries and Text which fall below max length"
      ],
      "metadata": {
        "id": "XgsHa7tWBIw7"
      }
    },
    {
      "cell_type": "code",
      "source": [
        "import numpy as np\n",
        "\n",
        "texts = np.array(texts)\n",
        "summaries= np.array(summaries)\n",
        "\n",
        "short_text = []\n",
        "short_summary = []\n",
        "\n",
        "for i in range(len(texts)):\n",
        "    if len(summaries[i].split()) <= max_summary_len and len(texts[i].split()) <= max_text_len:\n",
        "        short_text.append(texts[i])\n",
        "        short_summary.append(summaries[i])\n",
        "\n",
        "pre = pd.DataFrame({'text': short_text,'summary': short_summary})\n",
        "\n",
        "pre.head(2)"
      ],
      "metadata": {
        "colab": {
          "base_uri": "https://localhost:8080/",
          "height": 112
        },
        "id": "H7arToZsApyH",
        "outputId": "12161f1f-0493-4dde-b195-c2b90a75632e"
      },
      "execution_count": null,
      "outputs": [
        {
          "output_type": "execute_result",
          "data": {
            "text/plain": [
              "                                                text  \\\n",
              "0  اطعمه صحيه باهظ ثمن ضروره حقيق أمر تجد ان خيار...   \n",
              "1  استفد حديق منزليه أو اصيص زرع صغير شرفه انب خض...   \n",
              "\n",
              "                                             summary  \n",
              "0  فضل خيار اطعمه ارخص ثمن تباطا استهلاك بروتين ل...  \n",
              "1  ازرع يمكن خضراوات فاكه اط نفس جبا صغيره اط نفس...  "
            ],
            "text/html": [
              "\n",
              "  <div id=\"df-c179d25a-8be9-46b0-a027-db8dccb385e0\">\n",
              "    <div class=\"colab-df-container\">\n",
              "      <div>\n",
              "<style scoped>\n",
              "    .dataframe tbody tr th:only-of-type {\n",
              "        vertical-align: middle;\n",
              "    }\n",
              "\n",
              "    .dataframe tbody tr th {\n",
              "        vertical-align: top;\n",
              "    }\n",
              "\n",
              "    .dataframe thead th {\n",
              "        text-align: right;\n",
              "    }\n",
              "</style>\n",
              "<table border=\"1\" class=\"dataframe\">\n",
              "  <thead>\n",
              "    <tr style=\"text-align: right;\">\n",
              "      <th></th>\n",
              "      <th>text</th>\n",
              "      <th>summary</th>\n",
              "    </tr>\n",
              "  </thead>\n",
              "  <tbody>\n",
              "    <tr>\n",
              "      <th>0</th>\n",
              "      <td>اطعمه صحيه باهظ ثمن ضروره حقيق أمر تجد ان خيار...</td>\n",
              "      <td>فضل خيار اطعمه ارخص ثمن تباطا استهلاك بروتين ل...</td>\n",
              "    </tr>\n",
              "    <tr>\n",
              "      <th>1</th>\n",
              "      <td>استفد حديق منزليه أو اصيص زرع صغير شرفه انب خض...</td>\n",
              "      <td>ازرع يمكن خضراوات فاكه اط نفس جبا صغيره اط نفس...</td>\n",
              "    </tr>\n",
              "  </tbody>\n",
              "</table>\n",
              "</div>\n",
              "      <button class=\"colab-df-convert\" onclick=\"convertToInteractive('df-c179d25a-8be9-46b0-a027-db8dccb385e0')\"\n",
              "              title=\"Convert this dataframe to an interactive table.\"\n",
              "              style=\"display:none;\">\n",
              "        \n",
              "  <svg xmlns=\"http://www.w3.org/2000/svg\" height=\"24px\"viewBox=\"0 0 24 24\"\n",
              "       width=\"24px\">\n",
              "    <path d=\"M0 0h24v24H0V0z\" fill=\"none\"/>\n",
              "    <path d=\"M18.56 5.44l.94 2.06.94-2.06 2.06-.94-2.06-.94-.94-2.06-.94 2.06-2.06.94zm-11 1L8.5 8.5l.94-2.06 2.06-.94-2.06-.94L8.5 2.5l-.94 2.06-2.06.94zm10 10l.94 2.06.94-2.06 2.06-.94-2.06-.94-.94-2.06-.94 2.06-2.06.94z\"/><path d=\"M17.41 7.96l-1.37-1.37c-.4-.4-.92-.59-1.43-.59-.52 0-1.04.2-1.43.59L10.3 9.45l-7.72 7.72c-.78.78-.78 2.05 0 2.83L4 21.41c.39.39.9.59 1.41.59.51 0 1.02-.2 1.41-.59l7.78-7.78 2.81-2.81c.8-.78.8-2.07 0-2.86zM5.41 20L4 18.59l7.72-7.72 1.47 1.35L5.41 20z\"/>\n",
              "  </svg>\n",
              "      </button>\n",
              "      \n",
              "  <style>\n",
              "    .colab-df-container {\n",
              "      display:flex;\n",
              "      flex-wrap:wrap;\n",
              "      gap: 12px;\n",
              "    }\n",
              "\n",
              "    .colab-df-convert {\n",
              "      background-color: #E8F0FE;\n",
              "      border: none;\n",
              "      border-radius: 50%;\n",
              "      cursor: pointer;\n",
              "      display: none;\n",
              "      fill: #1967D2;\n",
              "      height: 32px;\n",
              "      padding: 0 0 0 0;\n",
              "      width: 32px;\n",
              "    }\n",
              "\n",
              "    .colab-df-convert:hover {\n",
              "      background-color: #E2EBFA;\n",
              "      box-shadow: 0px 1px 2px rgba(60, 64, 67, 0.3), 0px 1px 3px 1px rgba(60, 64, 67, 0.15);\n",
              "      fill: #174EA6;\n",
              "    }\n",
              "\n",
              "    [theme=dark] .colab-df-convert {\n",
              "      background-color: #3B4455;\n",
              "      fill: #D2E3FC;\n",
              "    }\n",
              "\n",
              "    [theme=dark] .colab-df-convert:hover {\n",
              "      background-color: #434B5C;\n",
              "      box-shadow: 0px 1px 3px 1px rgba(0, 0, 0, 0.15);\n",
              "      filter: drop-shadow(0px 1px 2px rgba(0, 0, 0, 0.3));\n",
              "      fill: #FFFFFF;\n",
              "    }\n",
              "  </style>\n",
              "\n",
              "      <script>\n",
              "        const buttonEl =\n",
              "          document.querySelector('#df-c179d25a-8be9-46b0-a027-db8dccb385e0 button.colab-df-convert');\n",
              "        buttonEl.style.display =\n",
              "          google.colab.kernel.accessAllowed ? 'block' : 'none';\n",
              "\n",
              "        async function convertToInteractive(key) {\n",
              "          const element = document.querySelector('#df-c179d25a-8be9-46b0-a027-db8dccb385e0');\n",
              "          const dataTable =\n",
              "            await google.colab.kernel.invokeFunction('convertToInteractive',\n",
              "                                                     [key], {});\n",
              "          if (!dataTable) return;\n",
              "\n",
              "          const docLinkHtml = 'Like what you see? Visit the ' +\n",
              "            '<a target=\"_blank\" href=https://colab.research.google.com/notebooks/data_table.ipynb>data table notebook</a>'\n",
              "            + ' to learn more about interactive tables.';\n",
              "          element.innerHTML = '';\n",
              "          dataTable['output_type'] = 'display_data';\n",
              "          await google.colab.output.renderOutput(dataTable, element);\n",
              "          const docLink = document.createElement('div');\n",
              "          docLink.innerHTML = docLinkHtml;\n",
              "          element.appendChild(docLink);\n",
              "        }\n",
              "      </script>\n",
              "    </div>\n",
              "  </div>\n",
              "  "
            ]
          },
          "metadata": {},
          "execution_count": 44
        }
      ]
    },
    {
      "cell_type": "code",
      "source": [
        "pre['summary'] = pre['summary'].apply(lambda x : 'start '+ x + ' end')"
      ],
      "metadata": {
        "id": "4Ow70nBvCFu2"
      },
      "execution_count": null,
      "outputs": []
    },
    {
      "cell_type": "code",
      "source": [
        "for i in range(5):\n",
        "    print(\"Text:\",pre['text'][i])\n",
        "    print(\"Summary:\",pre['summary'][i])\n",
        "    print(\"\\n\")"
      ],
      "metadata": {
        "colab": {
          "base_uri": "https://localhost:8080/"
        },
        "id": "AbFHno_V63hP",
        "outputId": "426c927e-94c3-4019-c854-d25aab4631e1"
      },
      "execution_count": null,
      "outputs": [
        {
          "output_type": "stream",
          "name": "stdout",
          "text": [
            "Text: اطعمه صحيه باهظ ثمن ضروره حقيق أمر تجد ان خيار اطعمه صحيه ارخص أغلب أحيان وجب صحي أحرص علي احتواء علي مواد غذاءيه يحتاج جسد مختلف تصنيف اطعمه أجل ضبط تكلف وجب اقتصادي اهدف اختيار طعام ارخص ثمن تصنيف طعام مختلفه تشكل جبا حديث حبوب كامله افضل علي مستوى صحي اقتصادي اطعم مثل شوف ارز بني برغل ذره مشويه مكرونه عيش اسمر اهدف شراء خضراوات ارخص سعر مثل جزر ملفوف خضر ورقيه مثل لفت قرنبيط شبت بقدونس شابه فضل تناول فاكهه ارخص سعر برتقال تفاح موز مثل التي تمنحك قيمه غذاءيه فاكهه باهظ سعر اختر أنواع فاكهه نوع ارخص سعر تفاح محلي خيار راءع ارخص سعر بدل تفاح مستورد حديث ألبان اشتر لبن محلي رخيص سعر كذلك زبادي عادي أحرص علي شراء حاوي كبير حصول علي سعر أفضل كيلو واحد فكر صنع زبادي باي طرق منزليه اختر منتج ألبان منكهه هي تكون ارخص سعر بينما يمكن تحلي نفس منزل نظير تكلف هين اهدف الي تقليل قدر إمكان كمي بروتين لحوم نظام غذاءي ذلك أغراض اقتصادي صحي علي حد سواء لحوم تقريب مكون اغلي ثمن وجب مثل فان تناول كثير دهون لحوم أكثر أخطاء تغذيه ضاره صحه نفترض مثل طبخ طبق فراخ عشاء يوم خطط تناول علي يوم ليس يوم واحد استخدم بقي يوم ثالث صنع شرب فراخ أو وضع عيش مكون رخيصه اخري خضراوات شابه عمل حواوشي عشاء قارن تكلف سبق تكلف تناول ربع فرخ يومي جديد نتحدث تكلفه صحيه ماليه وقت تحتاج نساء بالغ أقل عام الي يعادل جرام يومي بروتيني بينما تحتاج نساء أكبر عام الي يعادل جرام يومي فقط غير نسبه رجال يحتاج بالغ أقل عام الي يعادل جرام تقريب بروتين في مرحله عمريه الي عام الي جرام فقط بينما يحتاج بالغ أكبر عام سوي الي جرام يومي فقط برو يمكن حساب قيمه مقدار جرام أو اوقيه قياس متبعه بلد تعادل اوقيه واحده جرام لحوم ينص نظام نباتي صارم علي امتناع نهاءيا تناول برو حيواني كل صور لكن مضطر تطبيق نظام حذافير نقصد استفاده خيار غذاءي نباتيه بديله حيوانيه تقليل نفق علي شراء طعام حاول تكوين جبا خيار توفر تحتاج بروتين طريق خضرو تتناول مثل عشاء ارز فاصوليا بدل فراخ أو لحوم تحصيل قيمه غذاءيه استوعب ان اوقيه واحده لحوم جرام تقريب يعادل خيار يلي بيض واحد ربع كوب ملليلتر فاصوليا أو بازلاء أو عدس جرام مكسر أو بذور ملعق كبير زبد فول سوداني ملليلتر ملعقتان حمص ملليلتر تناول خضراوات كربوهيدرات معقده جنب الي جنب برو حيواني اقتصر جب علي كمي معقول لحوم اجعل جزء أكبر مكون خيار صحي ارخص ثمن ذات مذاق مثالي يجعل تسمتع بوجبتك أكثر أكثر خيار مقترحه خضراوات مقليه أو مشويه أو مسلوقه خبز مثل عيش صاج أو اي نوع عيش متوفر جرب حشو باي اطعم مفضل اطباق مكرونه مختلفه نهتم جميع فحص ملصق علي اطعمه تعرف علي سعر قليل ينتبه الي ملصق مكون داخله تصنيع سلع يجب مراقب فحص مر تبادر شراء اي طعام معب اي نوع نفترض مثل راغب شراء عبو مكرونه جبن سابق تجهيز مفر وقت تأكد شراء خيار صحي خال اي مواد حافظ أو ضار صحه استهدف داءم شراء اطعمه قليل سكري صوديوم يجب الا تأكل علي مدار يوم واحد أكثر ملل جرام ملح هو يعادل ملعق صغير واحد ملعق شاي أحرص علي شراء اطعم قليل دهون مشبعه غير مشبعه حتي حال دهون صحيه يجب الا تزيد نسب دهون طعام فقط غير تأكد ان الحص واحده طعام يزيد عدد سعر حراريه أنتبه مقدار فيتامين معادن الموجود تشتري اطعم +ه\n",
            "Summary: start فضل خيار اطعمه ارخص ثمن تباطا استهلاك بروتين لحوم اتبع نظام غذاءي نباتي اطلع جيد علي ملصق اطعمه معبءه end\n",
            "\n",
            "\n",
            "Text: استفد حديق منزليه أو اصيص زرع صغير شرفه انب خضراوات فاكهه تالي تحصل أنت وعاءلتك علي طعام تكلف مالي أقل ازرع طماطم أو فلفل أو شجر برتقال حديق أو حتي مجموع أعشاب صغيره علي حاف نافذ يمكن شراء وجب بسيطه مسبق تجهيز محل مثل عبو خضراوات جاهزه أو اكواب فاكهه هي خيار صحي أفضل كثير شيبسي اطعمه مصنعه اخري علي جانب آخر مزيد توفير أموال يفضل ان تصنع نفس وجب صغيره منزل مكون طبيعي مضمون ارخص سعر نقترح يلي راي تناول شيبسي كرنب اغسل أوراق كرنب أو لفت أو ملفوف أو غير خضرو فصيله نشف جيد اقطع أوراق الي قطع كبير حجم نسبي اضف إلي زيت زيتون أو رش علي رذاذ طبخ ماد شبيه زيت ضع أوراق علي صيني خبز كبير طبق واحد رش قليل ملح فلفل غير نكه مفضله اخبز أوراق كرنب لذيذ علي درج مءويه فهرنهايت اترك الي ان تصبح مقرمش يتم خلال مد دقيق علي أكثر أصنع نفس سلط فاكهه أو خضراوات منزلي أمر بسيط يحتاج الي معلم قطع مثل مجموع حب برتقال تفاح موز اضف إلي قليل عسل ابيض ضع سلط فواكه حاوي صغير طويل أمد وعد اكل قاد هوي جوع أمر نسبه خضرو قطع حب طماطم خيار فلفل جزر حجم قضم صغير ضع سوي حاوي تخزين طويل أمد وعد اكل رغب فكر تناول حمص معد منزلي سلطه اضاف مزيد مذاق فاءده صحيه مثاليه اعتاد امه علي صناع مرق شوربه لحوم خضراوات منزلي لكن أصبح متاح حالي محل عبو غالي ثمن سءال لماذا أنت مجبر علي شراء عبو بينما أنت قادر فعل علي صنع نفس منزل دون تكلف تقريب تقتصر فاءده علي توفير أموال تجنب نفس كمي هاءله صوديوم مواد مصنعه الحافظ الموجود عبو قليل مجهود احصل علي جود أفضل سعر أقل منزل أصنع مرقه بقايا خضراوات نتحدث بساط طبق شورب خضراوات قليل تكلفه مر يتبقي ديك خضراوات قديمه تاكل أو تستخدم اكل أو أخرى أو رءوس جزر قشر بصل بقايا بقدونس كرفس تاكل اجمع سوي وضع ماء مغلي حصول علي طبق شورب صحي لذيذ أمر نسبه فراخ لحم احتفظ عظام بقايا لحم طريق تجميد حاوي واحد مر مر الي ان يتوفر ديك كمي كافي ضع وعاء ماء اغل علي درج حرار منخفض مد أو ساع الي ان تحصل علي طبق مرقه لذيذ تحلم يمكن حفظ كمي مرق ضخمه حاوي صغير تجميد مجمد فريرز تقتصر اطعمه قابله طهي منزلي قليل تكلفه علي سبق ذكر تزيد علي كثير كثير درج تعد تحصي تحب زبادي تعلم كيف صناع منزل خبز جاهز غالي ثمن درج تطاق لقد تمرس جد ارياف علي خبز عيش نعوم اظافرهن ما يمنع إيجاد طريق أو أخرى عجن اي أنواع خبز نفس نشاط ممتع راءع اشتر رنا أو واحد الا خبز عيش منزلي حديثه التي تمكن صناع ضغط زر واحد +ه\n",
            "Summary: start ازرع يمكن خضراوات فاكه اط نفس جبا صغيره اط نفس شوربه مرق بدل شراء خيار جاهزه واصل تعلم كيف طهي منزلي مزيد اطعمه اخري end\n",
            "\n",
            "\n",
            "Text: تساعدك خطط مسبقه نواحي حيا علي وضع تصور كامل مسبق مثل حديث طعام يساعدك وضع خط طعام اسبوعي أو شهري علي ضمان شراء فقط تحتاج إلي سلع كذا التزام ميزانيه حدد نفس تضرب عصفور حجر تحافظ علي مالك توفر جسد يحتاج مواد غذاء صحي ازداد معرف فنون طهي وصف طعام كان مهم أسهل لذا ننصح بحث عبر إنترنت قراء كتب صف طعام تحدث اصدقاءك محب طعام جمع يكفي اقتراح اطلع علي موقع صف طعام تابع وزار زراعه الامريكيه معرف كثير وصف صحيه يمكن استخدام ابحث داءل مكون طعام متوفره بلد حاول شراء كتاب طهي محلي متخصص وجب صحيه أو متابع واحد قنو موثوقه عبر فيسبوك أو يوتيوب ضع اعتبار التزام شخصيه مختلفه أنت تجهز خط وجب خصص مثل جبا سريع تجهيز أيام تعرف مسبق تكون مشغول لغا أو اط طعام مسبق يوم أو ثلاث احتفظ ثلاجه تظن وهله أولي ان تناول طعام صحي يفرض ساع مطول بحث تجرب عدد نهاء اطعمه جديده علي رغم استفاد حال امكن تنفيذ الا ان طعام صحي علي مقرب يد وصف بسيطه اطعمه سهل طهي اعتمد علي تعرف مكون غذاء تصنع مثل فراخ خضراوات مشويه طبق ارز بني تعقد أمر علي نفس اجعل بسيط أكثر درج ممكن تقدر علي تنفيذ تحقق بساطه سعي طعام صحي حفاظ علي اموال وقت وفق خط وجب وضع نفس أبد تجهيز قاءم سلع اطعمه تحتاج شراء أذهب شراء مر واحد ان أمكن توفر علي نفس عناء مجهود وقت يومي تظل نصيحه أهم علي إطلاق التزم بقاءمتك تشتر اي مواد زاءد عن تلك لم سر بقاء ضمن ميزاني ماليه عدم تحميل نفس اي أعباء اضافي حاج يقتصر تخطيط غذاءي علي مر تناول طعام منزل تشمل وجب تتناول مطاعم أو تشتري جاهز طريق خدم توصيل اطلع علي قواءم اكل مطاعم حال توفر عبر إنترنت قارن أسعار عدد سعر حراريه جانب اقتصادي جانب غذاءي عاده داءم أصبح كثير مطاعم حريص علي تلبي حاج عملاء معرف عدد سعر حراريه لذا تذكر قواءمها جوار اكل مواد غذاء استفد بحث عبر إنترنت خدم حساب سعر حراريه التزم تناول وجب صغيره تجنب نفس تحمل تكلف مالي هاءل تضمن عدم إفراط طعام استهدف وجب مكونه لحوم خاليه دهون مع كمي فير حبوب كامله خضراوات تناول خضراوات فاكهه طازجه أو مطهيه صحي مسلوقه أو مشويه بدل بطاطس أو بصل مقلي أو بطاطس مهروسه مضاف إلي كثير توابل زبده دهون أطلب حصول علي طعام حاوي وجب جاهزه قسم طعام داخل حاويه الي جزء بدء تناول طعام علي ان تأكل جزء الان آخر وقت لاحق يضمن تحكم كمي تتناول طعام كذلك تقسيم تكلفه علي وجب بدل جبه واحد توفير اموال +ك\n",
            "Summary: start خطط مسبق لوجباتك رءيسيه مد أسبوع التزم تناول اطعمه تعرف جيد أصنع قاءم تسوق خطط مر تناول طعام خارج end\n",
            "\n",
            "\n",
            "Text: نظر لان سبب رءيسي ضغط عين ان ثقاف يوم تفرض قضاء وقت امام جهاز كمبيوتر أو تلفاز أو هاتف محمول أو اي جهاز آخر شاش لابد عثور علي داءل قراء كتاب رقي بدل قراءه علي جهاز وحي تقليل آثار ضاره ناتجه وقت ممضي امام شاشه يمكن تجنب كما حال جهاز كمبيوتر عمل حاول وضع شاشه مستوى منخفض استخدام شاش مضاد توهج تقليل ضغط علي عين اذ تعاني اجهاد عين مستمر يزعجك حيا اليوم استشر طبيب محتمل ان تكون ديك مشكل رءيه أو حال أخرى تسهم عدم راحه و أو ضغط عين تشعر وقايه داءم خير علاج لذا أحرص علي زيار طبيب عدم تفاقم مشكله كذلك حصول علي علاج طبي مناسب اذ لزم أمر\n",
            "Summary: start قلل وقت تعرض شاش أذهب الي طبيب end\n",
            "\n",
            "\n",
            "Text: أفعل أنت جالس منع نفس نوم اغلق عين أحكام قدر إمكان مساعد عين علي استرخاء أثبت وضعيه بضع ثوان افتح عين سرع كرر الي مر مساعد عين علي استرخاء قيام ذلك سرع عد مر أغمض عين أحكام شديد ابق مد دقيق تقريب ركز علي تنفس مساعد علي استرخاء أكثر\n",
            "Summary: start اغلق عين +ك end\n",
            "\n",
            "\n"
          ]
        }
      ]
    },
    {
      "cell_type": "markdown",
      "source": [
        "Tokenizing the Text"
      ],
      "metadata": {
        "id": "WA7AlwbKC52B"
      }
    },
    {
      "cell_type": "markdown",
      "source": [
        "Split the data into train and test data parts."
      ],
      "metadata": {
        "id": "kxXNzqBXC_2b"
      }
    },
    {
      "cell_type": "code",
      "source": [
        "from sklearn.model_selection import train_test_split\n",
        "X = pre[\"text\"].values\n",
        "y = pre[\"summary\"].values\n",
        "\n",
        "x_train, x_val, y_train, y_val = train_test_split(X, y, test_size=0.1,random_state=0)"
      ],
      "metadata": {
        "id": "fmNdKJ6ZC_ZY"
      },
      "execution_count": null,
      "outputs": []
    },
    {
      "cell_type": "markdown",
      "source": [
        "Tokenize the text data and get vocabulary size"
      ],
      "metadata": {
        "id": "nbXpps9MDr9h"
      }
    },
    {
      "cell_type": "code",
      "source": [
        "from tensorflow.keras.preprocessing.text import Tokenizer\n",
        "from tensorflow.keras.preprocessing.sequence import pad_sequences\n",
        "\n",
        "\n",
        "x_tokenizer = Tokenizer()\n",
        "x_tokenizer.fit_on_texts(list(X))\n",
        "\n",
        "# Prepare a tokenizer on testing data\n",
        "y_tokenizer = Tokenizer()\n",
        "y_tokenizer.fit_on_texts(list(y))"
      ],
      "metadata": {
        "id": "j750q5v6DvQE"
      },
      "execution_count": null,
      "outputs": []
    },
    {
      "cell_type": "code",
      "source": [
        "thresh = 5\n",
        "\n",
        "cnt = 0\n",
        "tot_cnt = 0\n",
        "\n",
        "for k, v in x_tokenizer.word_counts.items():\n",
        "    tot_cnt = tot_cnt + 1\n",
        "    if v < thresh:\n",
        "        cnt = cnt + 1\n",
        "\n",
        "print(f\"TEXT: Prcentage of rare words in vocabulary: {(cnt / tot_cnt) * 100}\")\n",
        "\n",
        "\n",
        "thresh = 3\n",
        "\n",
        "y_cnt = 0\n",
        "y_tot_cnt = 0\n",
        "\n",
        "for key, value in y_tokenizer.word_counts.items():\n",
        "    y_tot_cnt = y_tot_cnt + 1\n",
        "    if value < thresh:\n",
        "        y_cnt = y_cnt + 1\n",
        "\n",
        "print(\"Summary: Prcentage of rare words in vocabulary:\",(y_cnt / y_tot_cnt) * 100)"
      ],
      "metadata": {
        "colab": {
          "base_uri": "https://localhost:8080/"
        },
        "id": "SdnTX0SSEFh8",
        "outputId": "1f0280de-e247-45d5-e454-d48ba19a41df"
      },
      "execution_count": null,
      "outputs": [
        {
          "output_type": "stream",
          "name": "stdout",
          "text": [
            "TEXT: Prcentage of rare words in vocabulary: 59.15587409363343\n",
            "Summary: Prcentage of rare words in vocabulary: 48.061310644930835\n"
          ]
        }
      ]
    },
    {
      "cell_type": "code",
      "source": [
        "# Prepare a TEXT tokenizer, again -- by not considering the rare words\n",
        "x_tokenizer = Tokenizer(num_words = tot_cnt - cnt)\n",
        "x_tokenizer.fit_on_texts(list(X))\n",
        "\n",
        "# Convert text sequences to integer sequences\n",
        "x_tr_seq = x_tokenizer.texts_to_sequences(x_train)\n",
        "x_val_seq = x_tokenizer.texts_to_sequences(x_val)\n",
        "\n",
        "# Pad zero upto maximum length\n",
        "x_tr = pad_sequences(x_tr_seq,  maxlen=max_text_len, padding='post')\n",
        "x_val = pad_sequences(x_val_seq, maxlen=max_text_len, padding='post')\n",
        "\n",
        "# Size of vocabulary (+1 for padding token)\n",
        "x_voc = len(x_tokenizer.word_index) + 1\n",
        "\n",
        "print(f\"Size of vocabulary in X = {x_voc}\")"
      ],
      "metadata": {
        "colab": {
          "base_uri": "https://localhost:8080/"
        },
        "id": "3QTrdz9hEtS0",
        "outputId": "3682f7ad-1a16-441f-ab3a-d4263eb99b91"
      },
      "execution_count": null,
      "outputs": [
        {
          "output_type": "stream",
          "name": "stdout",
          "text": [
            "Size of vocabulary in X = 47719\n"
          ]
        }
      ]
    },
    {
      "cell_type": "code",
      "source": [
        "# Prepare a SUMMAARY tokenizer, again -- by not considering the rare words\n",
        "y_tokenizer = Tokenizer(num_words=y_tot_cnt-y_cnt)\n",
        "y_tokenizer.fit_on_texts(list(y))\n",
        "\n",
        "# Convert text sequences to integer sequences\n",
        "y_tr_seq = y_tokenizer.texts_to_sequences(y_train)\n",
        "y_val_seq = y_tokenizer.texts_to_sequences(y_val)\n",
        "\n",
        "# Pad zero upto maximum length\n",
        "y_tr = pad_sequences(y_tr_seq, maxlen=max_summary_len, padding='post')\n",
        "y_val = pad_sequences(y_val_seq, maxlen=max_summary_len, padding='post')\n",
        "\n",
        "# Size of vocabulary (+1 for padding token)\n",
        "y_voc = len(y_tokenizer.word_index) + 1\n",
        "\n",
        "print(f\"Size of vocabulary in Y = {y_voc}\")"
      ],
      "metadata": {
        "colab": {
          "base_uri": "https://localhost:8080/"
        },
        "id": "7iARMm0WFDmV",
        "outputId": "3a78b07a-2533-4def-bf89-e251d3e5f0ea"
      },
      "execution_count": null,
      "outputs": [
        {
          "output_type": "stream",
          "name": "stdout",
          "text": [
            "Size of vocabulary in Y = 15398\n"
          ]
        }
      ]
    },
    {
      "cell_type": "markdown",
      "source": [
        "skip_gram embedding"
      ],
      "metadata": {
        "id": "ctwkShDY03Up"
      }
    },
    {
      "cell_type": "code",
      "source": [
        "corpus_X = [t.split() for t in X]\n",
        "corpus_y = [t.split() for t in y]"
      ],
      "metadata": {
        "id": "YOXoM7dK8BS6"
      },
      "execution_count": null,
      "outputs": []
    },
    {
      "cell_type": "code",
      "source": [
        "import gensim\n",
        "dim = 150\n",
        "window = 10\n",
        "word2vec_x = gensim.models.Word2Vec(corpus_X, min_count=1, vector_size=dim, window=window, sg=1)"
      ],
      "metadata": {
        "id": "UvAlh0Sj0uP2"
      },
      "execution_count": null,
      "outputs": []
    },
    {
      "cell_type": "code",
      "source": [
        "dim = 150\n",
        "window = 10\n",
        "word2vec_y = gensim.models.Word2Vec(corpus_y, min_count=1, vector_size=dim,window=window, sg=1)"
      ],
      "metadata": {
        "id": "hPsHR6g1Gr1U"
      },
      "execution_count": null,
      "outputs": []
    },
    {
      "cell_type": "code",
      "source": [
        "# word2vec_x.wv.get_vector('مباراه')"
      ],
      "metadata": {
        "id": "xJAlerr2Gpkr"
      },
      "execution_count": null,
      "outputs": []
    },
    {
      "cell_type": "code",
      "source": [
        "# load the whole embedding into memory\n",
        "x_w2v_embeddings_index = {}\n",
        "for word in word2vec_x.wv.index_to_key:\n",
        "    x_w2v_embeddings_index[word] = word2vec_x.wv[word]\n",
        "print('Loaded %s word vectors.' % len(x_w2v_embeddings_index))\n"
      ],
      "metadata": {
        "id": "6GeWT9rC2_GE",
        "outputId": "14450cad-0c08-43a8-c51e-781872e61840",
        "colab": {
          "base_uri": "https://localhost:8080/"
        }
      },
      "execution_count": null,
      "outputs": [
        {
          "output_type": "stream",
          "name": "stdout",
          "text": [
            "Loaded 47734 word vectors.\n"
          ]
        }
      ]
    },
    {
      "cell_type": "code",
      "source": [
        "# create a weight matrix for words in training docs\n",
        "\n",
        "x_embedding_matrix = np.zeros((x_voc, dim))\n",
        "for word, i in x_tokenizer.word_index.items():\n",
        "    # print(i, word)\n",
        "    embedding_vector = x_w2v_embeddings_index.get(word)\n",
        "    if embedding_vector is not None:\n",
        "        x_embedding_matrix[i] = embedding_vector\n",
        "\n",
        "print('Embedding Matrix shape:', x_embedding_matrix.shape)"
      ],
      "metadata": {
        "id": "h4iidY443CID",
        "outputId": "c9bf48b6-8dd7-475d-b177-1a1d0983c053",
        "colab": {
          "base_uri": "https://localhost:8080/"
        }
      },
      "execution_count": null,
      "outputs": [
        {
          "output_type": "stream",
          "name": "stdout",
          "text": [
            "Embedding Matrix shape: (47719, 150)\n"
          ]
        }
      ]
    },
    {
      "cell_type": "code",
      "source": [],
      "metadata": {
        "id": "06L30AJJyXGK"
      },
      "execution_count": null,
      "outputs": []
    },
    {
      "cell_type": "code",
      "source": [
        "# load the whole embedding into memory\n",
        "y_w2v_embeddings_index = {}\n",
        "for word in word2vec_y.wv.index_to_key:\n",
        "    y_w2v_embeddings_index[word] = word2vec_y.wv[word]\n",
        "print('Loaded %s word vectors.' % len(y_w2v_embeddings_index))\n"
      ],
      "metadata": {
        "id": "W9lByNaIyXRG",
        "outputId": "5daf949f-2427-484c-e412-34274cc5bc4a",
        "colab": {
          "base_uri": "https://localhost:8080/"
        }
      },
      "execution_count": null,
      "outputs": [
        {
          "output_type": "stream",
          "name": "stdout",
          "text": [
            "Loaded 15403 word vectors.\n"
          ]
        }
      ]
    },
    {
      "cell_type": "code",
      "source": [
        "# create a weight matrix for words in training docs\n",
        "y_embedding_matrix = np.zeros((y_voc, dim))\n",
        "for word, i in y_tokenizer.word_index.items():\n",
        "    # print(i, word)\n",
        "    embedding_vector = y_w2v_embeddings_index.get(word)\n",
        "    if embedding_vector is not None:\n",
        "        y_embedding_matrix[i] = embedding_vector\n",
        "\n",
        "print('Embedding Matrix shape:', y_embedding_matrix.shape)"
      ],
      "metadata": {
        "id": "oMbDl60XyXRH",
        "outputId": "8a264003-ec56-41e9-8f28-342550bd01af",
        "colab": {
          "base_uri": "https://localhost:8080/"
        }
      },
      "execution_count": null,
      "outputs": [
        {
          "output_type": "stream",
          "name": "stdout",
          "text": [
            "Embedding Matrix shape: (15398, 150)\n"
          ]
        }
      ]
    },
    {
      "cell_type": "markdown",
      "source": [
        "### Define the encoder decoder model"
      ],
      "metadata": {
        "id": "bFx7KnXmo9sE"
      }
    },
    {
      "cell_type": "markdown",
      "source": [
        "###### 1. First we define Attension layer"
      ],
      "metadata": {
        "id": "RWxtDBw5q_Hz"
      }
    },
    {
      "cell_type": "code",
      "source": [
        "import tensorflow as tf\n",
        "from tensorflow.python.keras import backend as K\n",
        "\n",
        "# logger = tf.get_logger()\n",
        "\n",
        "class AttentionLayer(tf.keras.layers.Layer):\n",
        "    \"\"\"\n",
        "    This class implements Bahdanau attention (https://arxiv.org/pdf/1409.0473.pdf).\n",
        "    There are three sets of weights introduced W_a, U_a, and V_a\n",
        "     \"\"\"\n",
        "\n",
        "    def __init__(self, **kwargs):\n",
        "        super(AttentionLayer, self).__init__(**kwargs)\n",
        "\n",
        "    def build(self, input_shape):\n",
        "        assert isinstance(input_shape, list)\n",
        "        # Create a trainable weight variable for this layer.\n",
        "\n",
        "        self.W_a = self.add_weight(name='W_a',\n",
        "                                   shape=tf.TensorShape((input_shape[0][2], input_shape[0][2])),\n",
        "                                   initializer='uniform',\n",
        "                                   trainable=True)\n",
        "        self.U_a = self.add_weight(name='U_a',\n",
        "                                   shape=tf.TensorShape((input_shape[1][2], input_shape[0][2])),\n",
        "                                   initializer='uniform',\n",
        "                                   trainable=True)\n",
        "        self.V_a = self.add_weight(name='V_a',\n",
        "                                   shape=tf.TensorShape((input_shape[0][2], 1)),\n",
        "                                   initializer='uniform',\n",
        "                                   trainable=True)\n",
        "\n",
        "        super(AttentionLayer, self).build(input_shape)  # Be sure to call this at the end\n",
        "\n",
        "    def call(self, inputs):\n",
        "        \"\"\"\n",
        "        inputs: [encoder_output_sequence, decoder_output_sequence]\n",
        "        \"\"\"\n",
        "        assert type(inputs) == list\n",
        "        encoder_out_seq, decoder_out_seq = inputs\n",
        "\n",
        "        # logger.debug(f\"encoder_out_seq.shape = {encoder_out_seq.shape}\")\n",
        "        # logger.debug(f\"decoder_out_seq.shape = {decoder_out_seq.shape}\")\n",
        "\n",
        "        def energy_step(inputs, states):\n",
        "            \"\"\" Step function for computing energy for a single decoder state\n",
        "            inputs: (batchsize * 1 * de_in_dim)\n",
        "            states: (batchsize * 1 * de_latent_dim)\n",
        "            \"\"\"\n",
        "\n",
        "            # logger.debug(\"Running energy computation step\")\n",
        "\n",
        "            if not isinstance(states, (list, tuple)):\n",
        "                raise TypeError(f\"States must be an iterable. Got {states} of type {type(states)}\")\n",
        "\n",
        "            encoder_full_seq = states[-1]\n",
        "\n",
        "            \"\"\" Computing S.Wa where S=[s0, s1, ..., si]\"\"\"\n",
        "            # <= batch size * en_seq_len * latent_dim\n",
        "            W_a_dot_s = K.dot(encoder_full_seq, self.W_a)\n",
        "\n",
        "            \"\"\" Computing hj.Ua \"\"\"\n",
        "            U_a_dot_h = K.expand_dims(K.dot(inputs, self.U_a), 1)  # <= batch_size, 1, latent_dim\n",
        "\n",
        "            # logger.debug(f\"U_a_dot_h.shape = {U_a_dot_h.shape}\")\n",
        "\n",
        "            \"\"\" tanh(S.Wa + hj.Ua) \"\"\"\n",
        "            # <= batch_size*en_seq_len, latent_dim\n",
        "            Ws_plus_Uh = K.tanh(W_a_dot_s + U_a_dot_h)\n",
        "\n",
        "            # logger.debug(f\"Ws_plus_Uh.shape = {Ws_plus_Uh.shape}\")\n",
        "\n",
        "            \"\"\" softmax(va.tanh(S.Wa + hj.Ua)) \"\"\"\n",
        "            # <= batch_size, en_seq_len\n",
        "            e_i = K.squeeze(K.dot(Ws_plus_Uh, self.V_a), axis=-1)\n",
        "            # <= batch_size, en_seq_len\n",
        "            e_i = K.softmax(e_i)\n",
        "\n",
        "            # logger.debug(f\"ei.shape = {e_i.shape}\")\n",
        "\n",
        "            return e_i, [e_i]\n",
        "\n",
        "        def context_step(inputs, states):\n",
        "            \"\"\" Step function for computing ci using ei \"\"\"\n",
        "\n",
        "            # logger.debug(\"Running attention vector computation step\")\n",
        "\n",
        "            if not isinstance(states, (list, tuple)):\n",
        "                raise TypeError(f\"States must be an iterable. Got {states} of type {type(states)}\")\n",
        "\n",
        "            encoder_full_seq = states[-1]\n",
        "\n",
        "            # <= batch_size, hidden_size\n",
        "            c_i = K.sum(encoder_full_seq * K.expand_dims(inputs, -1), axis=1)\n",
        "\n",
        "            # logger.debug(f\"ci.shape = {c_i.shape}\")\n",
        "\n",
        "            return c_i, [c_i]\n",
        "\n",
        "        # we don't maintain states between steps when computing attention\n",
        "        # attention is stateless, so we're passing a fake state for RNN step function\n",
        "        fake_state_c = K.sum(encoder_out_seq, axis=1)\n",
        "        fake_state_e = K.sum(encoder_out_seq, axis=2)  # <= (batch_size, enc_seq_len, latent_dim\n",
        "\n",
        "        \"\"\" Computing energy outputs \"\"\"\n",
        "        # e_outputs => (batch_size, de_seq_len, en_seq_len)\n",
        "        last_out, e_outputs, _ = K.rnn(\n",
        "            energy_step, decoder_out_seq, [fake_state_e], constants=[encoder_out_seq]\n",
        "        )\n",
        "\n",
        "        \"\"\" Computing context vectors \"\"\"\n",
        "        last_out, c_outputs, _ = K.rnn(\n",
        "            context_step, e_outputs, [fake_state_c], constants=[encoder_out_seq]\n",
        "        )\n",
        "\n",
        "        return c_outputs, e_outputs\n",
        "\n",
        "    def compute_output_shape(self, input_shape):\n",
        "        \"\"\" Outputs produced by the layer \"\"\"\n",
        "        return [\n",
        "            tf.TensorShape((input_shape[1][0], input_shape[1][1], input_shape[1][2])),\n",
        "            tf.TensorShape((input_shape[1][0], input_shape[1][1], input_shape[0][1]))\n",
        "        ]"
      ],
      "metadata": {
        "id": "LZ10CPF-SnVU"
      },
      "execution_count": null,
      "outputs": []
    },
    {
      "cell_type": "markdown",
      "source": [
        "###### 2. Define the model"
      ],
      "metadata": {
        "id": "tlHVOR7VrDsO"
      }
    },
    {
      "cell_type": "code",
      "source": [
        "\n",
        "latent_dim = 300\n",
        "embedding_dim=150\n",
        "# Encoder\n",
        "encoder_inputs = Input(shape=(max_text_len,), name='Encoder_Input')\n",
        "#embedding layer\n",
        "enc_emb =  Embedding(x_voc, embedding_dim, weights=[x_embedding_matrix],\n",
        "                      trainable=False, name='Encoder_Embedding')(encoder_inputs)\n",
        "#encoder lstm 1\n",
        "encoder_lstm1 = LSTM(latent_dim,return_sequences=True,\n",
        "                      return_state=True,dropout=0.4,\n",
        "                      name='Encoder_LSTM1')\n",
        "encoder_output1, state_h1, state_c1 = encoder_lstm1(enc_emb)\n",
        "#encoder lstm 2\n",
        "encoder_lstm2 = LSTM(latent_dim,return_sequences=True,return_state=True,\n",
        "                      dropout=0.4, name='Encoder_LSTM2')\n",
        "encoder_outputs, state_h, state_c = encoder_lstm2(encoder_output1)\n",
        "#encoder lstm 3\n",
        "# encoder_lstm3=LSTM(latent_dim, return_state=True, return_sequences=True,\n",
        "#                    dropout=0.4, name='Encoder_LSTM3')\n",
        "# encoder_outputs, state_h, state_c= encoder_lstm3(encoder_output2)\n",
        "\n",
        "\n",
        "# Set up the decoder, using `encoder_states` as initial state.\n",
        "decoder_inputs = Input(shape=(None,), name='Decoder_Input')\n",
        "#embedding layer\n",
        "dec_emb_layer = Embedding(y_voc, embedding_dim, weights=[y_embedding_matrix],\n",
        "                      trainable=False, name='Decoder_Embedding')\n",
        "dec_emb = dec_emb_layer(decoder_inputs)\n",
        "#decoder lstm\n",
        "decoder_lstm = LSTM(latent_dim, return_sequences=True, return_state=True,\n",
        "                    dropout=0.4, name='Decoder_LSTM')\n",
        "decoder_outputs,decoder_fwd_state, decoder_back_state = decoder_lstm(dec_emb,initial_state=[state_h, state_c])\n",
        "# Attention layer\n",
        "attn_layer = AttentionLayer(name='attention_layer')\n",
        "attn_out, attn_states = attn_layer([encoder_outputs, decoder_outputs])\n",
        "# Concat attention input and decoder LSTM output\n",
        "decoder_concat_input = Concatenate(axis=-1, name='concat_layer')([decoder_outputs, attn_out])\n",
        "#dense layer\n",
        "decoder_dense =  TimeDistributed(Dense(y_voc, activation='softmax'))\n",
        "decoder_outputs = decoder_dense(decoder_concat_input)\n",
        "# Define the model\n",
        "model = Model([encoder_inputs, decoder_inputs], decoder_outputs)\n"
      ],
      "metadata": {
        "id": "u2SArfAC6cPJ"
      },
      "execution_count": null,
      "outputs": []
    },
    {
      "cell_type": "markdown",
      "source": [
        "Training the Model"
      ],
      "metadata": {
        "id": "fPm_VSHy4-E8"
      }
    },
    {
      "cell_type": "code",
      "source": [
        "model.compile(optimizer='rmsprop', loss='sparse_categorical_crossentropy')\n",
        "es = EarlyStopping(monitor='val_loss', mode='min', verbose=1, patience=5)"
      ],
      "metadata": {
        "id": "IDvIFDn047rW"
      },
      "execution_count": null,
      "outputs": []
    },
    {
      "cell_type": "code",
      "source": [
        "from keras.utils.vis_utils import plot_model\n",
        "plot_model(model, to_file='model_plot.png', show_shapes=True, show_layer_names=True)"
      ],
      "metadata": {
        "id": "HkfTA0UFT8w1",
        "outputId": "1924c7e6-e5a1-4a23-bd8c-2a25de6abe37",
        "colab": {
          "base_uri": "https://localhost:8080/",
          "height": 865
        }
      },
      "execution_count": null,
      "outputs": [
        {
          "output_type": "execute_result",
          "data": {
            "image/png": "[encoded data removed]",
            "text/plain": [
              "<IPython.core.display.Image object>"
            ]
          },
          "metadata": {},
          "execution_count": 75
        }
      ]
    },
    {
      "cell_type": "code",
      "source": [
        "# model.summary()"
      ],
      "metadata": {
        "id": "VUPNTqpKzi61"
      },
      "execution_count": null,
      "outputs": []
    },
    {
      "cell_type": "code",
      "source": [
        "history = model.fit(\n",
        "    [x_tr, y_tr[:, :-1]],\n",
        "    y_tr.reshape(y_tr.shape[0], y_tr.shape[1], 1)[:, 1:],\n",
        "    epochs=50,\n",
        "    callbacks=[es],\n",
        "    batch_size=8,\n",
        "    validation_data=([x_val, y_val[:, :-1]],\n",
        "                     y_val.reshape(y_val.shape[0], y_val.shape[1], 1)[:\n",
        "                     , 1:]),\n",
        "    )"
      ],
      "metadata": {
        "id": "wlKHEzzy5CnZ",
        "outputId": "b72358c8-1d05-4d18-dfe5-f3a31cb298f4",
        "colab": {
          "base_uri": "https://localhost:8080/"
        }
      },
      "execution_count": null,
      "outputs": [
        {
          "output_type": "stream",
          "name": "stdout",
          "text": [
            "Epoch 1/50\n",
            "1608/1608 [==============================] - 557s 339ms/step - loss: 4.9257 - val_loss: 4.7137\n",
            "Epoch 2/50\n",
            "1608/1608 [==============================] - 543s 338ms/step - loss: 4.6101 - val_loss: 4.5544\n",
            "Epoch 3/50\n",
            "1608/1608 [==============================] - 561s 349ms/step - loss: 4.4784 - val_loss: 4.4776\n",
            "Epoch 4/50\n",
            "1608/1608 [==============================] - 544s 338ms/step - loss: 4.3879 - val_loss: 4.4258\n",
            "Epoch 5/50\n",
            "1608/1608 [==============================] - 542s 337ms/step - loss: 4.3187 - val_loss: 4.3908\n",
            "Epoch 6/50\n",
            "1608/1608 [==============================] - 542s 337ms/step - loss: 4.2607 - val_loss: 4.3617\n",
            "Epoch 7/50\n",
            "1608/1608 [==============================] - 562s 349ms/step - loss: 4.2089 - val_loss: 4.3377\n",
            "Epoch 8/50\n",
            "1608/1608 [==============================] - 542s 337ms/step - loss: 4.1622 - val_loss: 4.3229\n",
            "Epoch 9/50\n",
            "1608/1608 [==============================] - 541s 336ms/step - loss: 4.1190 - val_loss: 4.3016\n",
            "Epoch 10/50\n",
            "1608/1608 [==============================] - 540s 336ms/step - loss: 4.0792 - val_loss: 4.3010\n",
            "Epoch 11/50\n",
            "1608/1608 [==============================] - 541s 336ms/step - loss: 4.0403 - val_loss: 4.3107\n",
            "Epoch 12/50\n",
            "1608/1608 [==============================] - 541s 337ms/step - loss: 3.9993 - val_loss: 4.2837\n",
            "Epoch 13/50\n",
            "1608/1608 [==============================] - 541s 336ms/step - loss: 3.9596 - val_loss: 4.2837\n",
            "Epoch 14/50\n",
            "1608/1608 [==============================] - 540s 336ms/step - loss: 3.9289 - val_loss: 4.2678\n",
            "Epoch 15/50\n",
            "1608/1608 [==============================] - 541s 336ms/step - loss: 3.8926 - val_loss: 4.2616\n",
            "Epoch 16/50\n",
            "1608/1608 [==============================] - 541s 336ms/step - loss: 3.8532 - val_loss: 4.2435\n",
            "Epoch 17/50\n",
            "1608/1608 [==============================] - 541s 337ms/step - loss: 3.8115 - val_loss: 4.2319\n",
            "Epoch 18/50\n",
            "1608/1608 [==============================] - 540s 336ms/step - loss: 3.7719 - val_loss: 4.2534\n",
            "Epoch 19/50\n",
            "1608/1608 [==============================] - 559s 348ms/step - loss: 3.7348 - val_loss: 4.2153\n",
            "Epoch 20/50\n",
            "1608/1608 [==============================] - 540s 336ms/step - loss: 3.6905 - val_loss: 4.2137\n",
            "Epoch 21/50\n",
            "1608/1608 [==============================] - 539s 335ms/step - loss: 3.6512 - val_loss: 4.2071\n",
            "Epoch 22/50\n",
            "1608/1608 [==============================] - 539s 335ms/step - loss: 3.6090 - val_loss: 4.2039\n",
            "Epoch 23/50\n",
            "1608/1608 [==============================] - 539s 335ms/step - loss: 3.5688 - val_loss: 4.1837\n",
            "Epoch 24/50\n",
            "1608/1608 [==============================] - 538s 335ms/step - loss: 3.5275 - val_loss: 4.1834\n",
            "Epoch 25/50\n",
            "1608/1608 [==============================] - 539s 335ms/step - loss: 3.4933 - val_loss: 4.1936\n",
            "Epoch 26/50\n",
            "1608/1608 [==============================] - 539s 335ms/step - loss: 3.4576 - val_loss: 4.1837\n",
            "Epoch 27/50\n",
            "1608/1608 [==============================] - 539s 335ms/step - loss: 3.4199 - val_loss: 4.1808\n",
            "Epoch 28/50\n",
            "1608/1608 [==============================] - 539s 335ms/step - loss: 3.3906 - val_loss: 4.1749\n",
            "Epoch 29/50\n",
            "1608/1608 [==============================] - 538s 335ms/step - loss: 3.3591 - val_loss: 4.1822\n",
            "Epoch 30/50\n",
            "1608/1608 [==============================] - 538s 335ms/step - loss: 3.3278 - val_loss: 4.1830\n",
            "Epoch 31/50\n",
            "1608/1608 [==============================] - 539s 335ms/step - loss: 3.2948 - val_loss: 4.1914\n",
            "Epoch 32/50\n",
            "1608/1608 [==============================] - 538s 335ms/step - loss: 3.2712 - val_loss: 4.1891\n",
            "Epoch 33/50\n",
            "1608/1608 [==============================] - 538s 335ms/step - loss: 3.2423 - val_loss: 4.1825\n",
            "Epoch 33: early stopping\n"
          ]
        }
      ]
    },
    {
      "cell_type": "code",
      "source": [
        "#plot results\n",
        "loss = history.history['loss']\n",
        "val_loss = history.history['val_loss']\n",
        "\n",
        "plt.figure(figsize=(8, 12))\n",
        "plt.rcParams['figure.figsize'] = [16, 16]\n",
        "plt.rcParams['font.size'] = 14\n",
        "plt.rcParams['axes.grid'] = True\n",
        "plt.rcParams['figure.facecolor'] = 'white'\n",
        "plt.subplot(2, 1, 1)\n",
        "plt.plot(loss, label='Training Loss')\n",
        "plt.plot(val_loss, label='Validation Loss')\n",
        "plt.legend(loc='lower right')\n",
        "plt.xlabel('Epoch')\n",
        "plt.ylabel('Loss')\n",
        "plt.title('Text Summarization \\nTraining and Validation Loss Over Epochs')\n",
        "\n",
        "#loss"
      ],
      "metadata": {
        "colab": {
          "base_uri": "https://localhost:8080/",
          "height": 581
        },
        "id": "GaKVVVYlc87J",
        "outputId": "a26dfae2-8de9-4583-cbf6-45da082b75e9"
      },
      "execution_count": null,
      "outputs": [
        {
          "output_type": "execute_result",
          "data": {
            "text/plain": [
              "Text(0.5, 1.0, 'Text Summarization \\nTraining and Validation Loss Over Epochs')"
            ]
          },
          "metadata": {},
          "execution_count": 77
        },
        {
          "output_type": "display_data",
          "data": {
            "text/plain": [
              "<Figure size 800x1200 with 1 Axes>"
            ],
            "image/png": "[encoded data removed]"
          },
          "metadata": {}
        }
      ]
    },
    {
      "cell_type": "markdown",
      "source": [
        "Generating Predictions"
      ],
      "metadata": {
        "id": "Zq4BDEp1f6xD"
      }
    },
    {
      "cell_type": "code",
      "source": [
        "reverse_target_word_index=y_tokenizer.index_word\n",
        "reverse_source_word_index=x_tokenizer.index_word\n",
        "target_word_index=y_tokenizer.word_index"
      ],
      "metadata": {
        "id": "lI_lXXnXdeL_"
      },
      "execution_count": null,
      "outputs": []
    },
    {
      "cell_type": "code",
      "source": [
        "reverse_source_word_index[0]='PAD'\n",
        "reverse_target_word_index[0]='PAD'"
      ],
      "metadata": {
        "id": "XOZZwZxU6dRV"
      },
      "execution_count": null,
      "outputs": []
    },
    {
      "cell_type": "code",
      "source": [
        "# encoder inference\n",
        "encoder_model = Model(inputs=encoder_inputs,outputs=[encoder_outputs, state_h, state_c])\n",
        "\n",
        "# decoder inference\n",
        "# Below tensors will hold the states of the previous time step\n",
        "decoder_state_input_h = Input(shape=(latent_dim,))\n",
        "decoder_state_input_c = Input(shape=(latent_dim,))\n",
        "decoder_hidden_state_input = Input(shape=(max_text_len, latent_dim))\n",
        "\n",
        "# Get the embeddings of the decoder sequence\n",
        "dec_emb2= dec_emb_layer(decoder_inputs)\n",
        "\n",
        "# To predict the next word in the sequence, set the initial states to the states from the previous time step\n",
        "decoder_outputs2, state_h2, state_c2 = decoder_lstm(dec_emb2, initial_state=[decoder_state_input_h, decoder_state_input_c])\n",
        "\n",
        "#attention inference\n",
        "attn_out_inf, attn_states_inf = attn_layer([decoder_hidden_state_input, decoder_outputs2])\n",
        "decoder_inf_concat = Concatenate(axis=-1, name='concat')([decoder_outputs2, attn_out_inf])\n",
        "\n",
        "# A dense softmax layer to generate prob dist. over the target vocabulary\n",
        "decoder_outputs2 = decoder_dense(decoder_inf_concat)\n",
        "\n",
        "# Final decoder model\n",
        "decoder_model = Model(\n",
        "[decoder_inputs] + [decoder_hidden_state_input,decoder_state_input_h, decoder_state_input_c],\n",
        "[decoder_outputs2] + [state_h2, state_c2])"
      ],
      "metadata": {
        "id": "hW3tP32RgmwQ"
      },
      "execution_count": null,
      "outputs": []
    },
    {
      "cell_type": "code",
      "source": [
        "def decode_sequence(input_seq):\n",
        "    # Encode the input as state vectors.\n",
        "    e_out, e_h, e_c = encoder_model.predict(input_seq)\n",
        "\n",
        "    # Generate empty target sequence of length 1.\n",
        "    target_seq = np.zeros((1,1))\n",
        "\n",
        "    # Chose the 'start' word as the first word of the target sequence\n",
        "    target_seq[0, 0] = target_word_index['start']\n",
        "\n",
        "    stop_condition = False\n",
        "    decoded_sentence = ''\n",
        "    while not stop_condition:\n",
        "        output_tokens, h, c = decoder_model.predict([target_seq] + [e_out, e_h, e_c], verbose=0)\n",
        "\n",
        "        # Sample a token\n",
        "        sampled_token_index = np.argmax(output_tokens[0, -1, :])\n",
        "        sampled_token = reverse_target_word_index[sampled_token_index]\n",
        "\n",
        "        if(sampled_token!='end'):\n",
        "            decoded_sentence += ' '+sampled_token\n",
        "\n",
        "            # Exit condition: either hit max length or find stop word.\n",
        "            if (sampled_token == 'end' or len(decoded_sentence.split()) >= (max_summary_len-1)):\n",
        "                stop_condition = True\n",
        "\n",
        "        # Update the target sequence (of length 1).\n",
        "        target_seq = np.zeros((1,1))\n",
        "        target_seq[0, 0] = sampled_token_index\n",
        "\n",
        "        # Update internal states\n",
        "        e_h, e_c = h, c\n",
        "\n",
        "    decoded_sentence = decoded_sentence.replace('PAD', '')\n",
        "    return decoded_sentence"
      ],
      "metadata": {
        "id": "V_wybcVsiK2U"
      },
      "execution_count": null,
      "outputs": []
    },
    {
      "cell_type": "code",
      "source": [
        "def seq2summary(input_seq):\n",
        "    newString=''\n",
        "    for i in input_seq:\n",
        "      if((i!=0 and i!=target_word_index['start']) and i!=target_word_index['end']):\n",
        "        newString=newString+reverse_target_word_index[i]+' '\n",
        "    return newString\n",
        "\n",
        "def seq2text(input_seq):\n",
        "    newString=''\n",
        "    for i in input_seq:\n",
        "      if(i!=0):\n",
        "        newString=newString+reverse_source_word_index[i]+' '\n",
        "    return newString"
      ],
      "metadata": {
        "id": "g0Rl0t2viVed"
      },
      "execution_count": null,
      "outputs": []
    },
    {
      "cell_type": "code",
      "source": [
        "pred_summaries = [decode_sequence(x.reshape(1,max_text_len)) for x in x_val]\n",
        "true_summaries = [seq2summary(x) for x in y_val ]"
      ],
      "metadata": {
        "id": "RShLgDHzrKnb",
        "colab": {
          "base_uri": "https://localhost:8080/"
        },
        "outputId": "a422ab47-5120-43a2-d9b0-72ab2e827663"
      },
      "execution_count": null,
      "outputs": [
        {
          "output_type": "stream",
          "name": "stdout",
          "text": [
            "1/1 [==============================] - 2s 2s/step\n",
            "1/1 [==============================] - 0s 84ms/step\n",
            "1/1 [==============================] - 0s 93ms/step\n",
            "1/1 [==============================] - 0s 85ms/step\n",
            "1/1 [==============================] - 0s 84ms/step\n",
            "1/1 [==============================] - 0s 86ms/step\n",
            "1/1 [==============================] - 0s 85ms/step\n",
            "1/1 [==============================] - 0s 85ms/step\n",
            "1/1 [==============================] - 0s 93ms/step\n",
            "1/1 [==============================] - 0s 86ms/step\n",
            "1/1 [==============================] - 0s 85ms/step\n",
            "1/1 [==============================] - 0s 87ms/step\n",
            "1/1 [==============================] - 0s 87ms/step\n",
            "1/1 [==============================] - 0s 85ms/step\n",
            "1/1 [==============================] - 0s 91ms/step\n",
            "1/1 [==============================] - 0s 91ms/step\n",
            "1/1 [==============================] - 0s 86ms/step\n",
            "1/1 [==============================] - 0s 83ms/step\n",
            "1/1 [==============================] - 0s 84ms/step\n",
            "1/1 [==============================] - 0s 84ms/step\n",
            "1/1 [==============================] - 0s 85ms/step\n",
            "1/1 [==============================] - 0s 98ms/step\n",
            "1/1 [==============================] - 0s 86ms/step\n",
            "1/1 [==============================] - 0s 88ms/step\n",
            "1/1 [==============================] - 0s 84ms/step\n",
            "1/1 [==============================] - 0s 84ms/step\n",
            "1/1 [==============================] - 0s 84ms/step\n",
            "1/1 [==============================] - 0s 96ms/step\n",
            "1/1 [==============================] - 0s 86ms/step\n",
            "1/1 [==============================] - 0s 84ms/step\n",
            "1/1 [==============================] - 0s 87ms/step\n",
            "1/1 [==============================] - 0s 92ms/step\n",
            "1/1 [==============================] - 0s 98ms/step\n",
            "1/1 [==============================] - 0s 89ms/step\n",
            "1/1 [==============================] - 0s 88ms/step\n",
            "1/1 [==============================] - 0s 85ms/step\n",
            "1/1 [==============================] - 0s 88ms/step\n",
            "1/1 [==============================] - 0s 95ms/step\n",
            "1/1 [==============================] - 0s 83ms/step\n",
            "1/1 [==============================] - 0s 84ms/step\n",
            "1/1 [==============================] - 0s 84ms/step\n",
            "1/1 [==============================] - 0s 84ms/step\n",
            "1/1 [==============================] - 0s 85ms/step\n",
            "1/1 [==============================] - 0s 103ms/step\n",
            "1/1 [==============================] - 0s 97ms/step\n",
            "1/1 [==============================] - 0s 86ms/step\n",
            "1/1 [==============================] - 0s 84ms/step\n",
            "1/1 [==============================] - 0s 84ms/step\n",
            "1/1 [==============================] - 0s 84ms/step\n",
            "1/1 [==============================] - 0s 84ms/step\n",
            "1/1 [==============================] - 0s 92ms/step\n",
            "1/1 [==============================] - 0s 83ms/step\n",
            "1/1 [==============================] - 0s 85ms/step\n",
            "1/1 [==============================] - 0s 84ms/step\n",
            "1/1 [==============================] - 0s 85ms/step\n",
            "1/1 [==============================] - 0s 85ms/step\n",
            "1/1 [==============================] - 0s 98ms/step\n",
            "1/1 [==============================] - 0s 84ms/step\n",
            "1/1 [==============================] - 0s 86ms/step\n",
            "1/1 [==============================] - 0s 86ms/step\n",
            "1/1 [==============================] - 0s 87ms/step\n",
            "1/1 [==============================] - 0s 86ms/step\n",
            "1/1 [==============================] - 0s 93ms/step\n",
            "1/1 [==============================] - 0s 84ms/step\n",
            "1/1 [==============================] - 0s 84ms/step\n",
            "1/1 [==============================] - 0s 87ms/step\n",
            "1/1 [==============================] - 0s 90ms/step\n",
            "1/1 [==============================] - 0s 106ms/step\n",
            "1/1 [==============================] - 0s 97ms/step\n",
            "1/1 [==============================] - 0s 88ms/step\n",
            "1/1 [==============================] - 0s 86ms/step\n",
            "1/1 [==============================] - 0s 88ms/step\n",
            "1/1 [==============================] - 0s 85ms/step\n",
            "1/1 [==============================] - 0s 96ms/step\n",
            "1/1 [==============================] - 0s 94ms/step\n",
            "1/1 [==============================] - 0s 84ms/step\n",
            "1/1 [==============================] - 0s 85ms/step\n",
            "1/1 [==============================] - 0s 84ms/step\n",
            "1/1 [==============================] - 0s 91ms/step\n",
            "1/1 [==============================] - 0s 85ms/step\n",
            "1/1 [==============================] - 0s 93ms/step\n",
            "1/1 [==============================] - 0s 83ms/step\n",
            "1/1 [==============================] - 0s 85ms/step\n",
            "1/1 [==============================] - 0s 85ms/step\n",
            "1/1 [==============================] - 0s 89ms/step\n",
            "1/1 [==============================] - 0s 84ms/step\n",
            "1/1 [==============================] - 0s 95ms/step\n",
            "1/1 [==============================] - 0s 86ms/step\n",
            "1/1 [==============================] - 0s 85ms/step\n",
            "1/1 [==============================] - 0s 85ms/step\n",
            "1/1 [==============================] - 0s 87ms/step\n",
            "1/1 [==============================] - 0s 84ms/step\n",
            "1/1 [==============================] - 0s 100ms/step\n",
            "1/1 [==============================] - 0s 86ms/step\n",
            "1/1 [==============================] - 0s 85ms/step\n",
            "1/1 [==============================] - 0s 84ms/step\n",
            "1/1 [==============================] - 0s 84ms/step\n",
            "1/1 [==============================] - 0s 88ms/step\n",
            "1/1 [==============================] - 0s 96ms/step\n",
            "1/1 [==============================] - 0s 84ms/step\n",
            "1/1 [==============================] - 0s 91ms/step\n",
            "1/1 [==============================] - 0s 91ms/step\n",
            "1/1 [==============================] - 0s 95ms/step\n",
            "1/1 [==============================] - 0s 95ms/step\n",
            "1/1 [==============================] - 0s 88ms/step\n",
            "1/1 [==============================] - 0s 90ms/step\n",
            "1/1 [==============================] - 0s 87ms/step\n",
            "1/1 [==============================] - 0s 84ms/step\n",
            "1/1 [==============================] - 0s 84ms/step\n",
            "1/1 [==============================] - 0s 88ms/step\n",
            "1/1 [==============================] - 0s 94ms/step\n",
            "1/1 [==============================] - 0s 85ms/step\n",
            "1/1 [==============================] - 0s 87ms/step\n",
            "1/1 [==============================] - 0s 85ms/step\n",
            "1/1 [==============================] - 0s 93ms/step\n",
            "1/1 [==============================] - 0s 100ms/step\n",
            "1/1 [==============================] - 0s 84ms/step\n",
            "1/1 [==============================] - 0s 84ms/step\n",
            "1/1 [==============================] - 0s 85ms/step\n",
            "1/1 [==============================] - 0s 85ms/step\n",
            "1/1 [==============================] - 0s 84ms/step\n",
            "1/1 [==============================] - 0s 98ms/step\n",
            "1/1 [==============================] - 0s 87ms/step\n",
            "1/1 [==============================] - 0s 84ms/step\n",
            "1/1 [==============================] - 0s 84ms/step\n",
            "1/1 [==============================] - 0s 85ms/step\n",
            "1/1 [==============================] - 0s 85ms/step\n",
            "1/1 [==============================] - 0s 98ms/step\n",
            "1/1 [==============================] - 0s 93ms/step\n",
            "1/1 [==============================] - 0s 84ms/step\n",
            "1/1 [==============================] - 0s 84ms/step\n",
            "1/1 [==============================] - 0s 84ms/step\n",
            "1/1 [==============================] - 0s 84ms/step\n",
            "1/1 [==============================] - 0s 85ms/step\n",
            "1/1 [==============================] - 0s 90ms/step\n",
            "1/1 [==============================] - 0s 91ms/step\n",
            "1/1 [==============================] - 0s 91ms/step\n",
            "1/1 [==============================] - 0s 94ms/step\n",
            "1/1 [==============================] - 0s 89ms/step\n",
            "1/1 [==============================] - 0s 95ms/step\n",
            "1/1 [==============================] - 0s 85ms/step\n",
            "1/1 [==============================] - 0s 85ms/step\n",
            "1/1 [==============================] - 0s 87ms/step\n",
            "1/1 [==============================] - 0s 85ms/step\n",
            "1/1 [==============================] - 0s 84ms/step\n",
            "1/1 [==============================] - 0s 94ms/step\n",
            "1/1 [==============================] - 0s 86ms/step\n",
            "1/1 [==============================] - 0s 87ms/step\n",
            "1/1 [==============================] - 0s 84ms/step\n",
            "1/1 [==============================] - 0s 85ms/step\n",
            "1/1 [==============================] - 0s 87ms/step\n",
            "1/1 [==============================] - 0s 97ms/step\n",
            "1/1 [==============================] - 0s 86ms/step\n",
            "1/1 [==============================] - 0s 83ms/step\n",
            "1/1 [==============================] - 0s 87ms/step\n",
            "1/1 [==============================] - 0s 85ms/step\n",
            "1/1 [==============================] - 0s 85ms/step\n",
            "1/1 [==============================] - 0s 99ms/step\n",
            "1/1 [==============================] - 0s 95ms/step\n",
            "1/1 [==============================] - 0s 84ms/step\n",
            "1/1 [==============================] - 0s 87ms/step\n",
            "1/1 [==============================] - 0s 88ms/step\n",
            "1/1 [==============================] - 0s 84ms/step\n",
            "1/1 [==============================] - 0s 85ms/step\n",
            "1/1 [==============================] - 0s 107ms/step\n",
            "1/1 [==============================] - 0s 85ms/step\n",
            "1/1 [==============================] - 0s 93ms/step\n",
            "1/1 [==============================] - 0s 85ms/step\n",
            "1/1 [==============================] - 0s 93ms/step\n",
            "1/1 [==============================] - 0s 99ms/step\n",
            "1/1 [==============================] - 0s 89ms/step\n",
            "1/1 [==============================] - 0s 88ms/step\n",
            "1/1 [==============================] - 0s 89ms/step\n",
            "1/1 [==============================] - 0s 89ms/step\n",
            "1/1 [==============================] - 0s 85ms/step\n",
            "1/1 [==============================] - 0s 96ms/step\n",
            "1/1 [==============================] - 0s 84ms/step\n",
            "1/1 [==============================] - 0s 88ms/step\n",
            "1/1 [==============================] - 0s 85ms/step\n",
            "1/1 [==============================] - 0s 83ms/step\n",
            "1/1 [==============================] - 0s 84ms/step\n",
            "1/1 [==============================] - 0s 95ms/step\n",
            "1/1 [==============================] - 0s 84ms/step\n",
            "1/1 [==============================] - 0s 85ms/step\n",
            "1/1 [==============================] - 0s 84ms/step\n",
            "1/1 [==============================] - 0s 85ms/step\n",
            "1/1 [==============================] - 0s 84ms/step\n",
            "1/1 [==============================] - 0s 96ms/step\n",
            "1/1 [==============================] - 0s 92ms/step\n",
            "1/1 [==============================] - 0s 84ms/step\n",
            "1/1 [==============================] - 0s 83ms/step\n",
            "1/1 [==============================] - 0s 84ms/step\n",
            "1/1 [==============================] - 0s 88ms/step\n",
            "1/1 [==============================] - 0s 88ms/step\n",
            "1/1 [==============================] - 0s 97ms/step\n",
            "1/1 [==============================] - 0s 90ms/step\n",
            "1/1 [==============================] - 0s 85ms/step\n",
            "1/1 [==============================] - 0s 85ms/step\n",
            "1/1 [==============================] - 0s 85ms/step\n",
            "1/1 [==============================] - 0s 93ms/step\n",
            "1/1 [==============================] - 0s 129ms/step\n",
            "1/1 [==============================] - 0s 85ms/step\n",
            "1/1 [==============================] - 0s 89ms/step\n",
            "1/1 [==============================] - 0s 90ms/step\n",
            "1/1 [==============================] - 0s 90ms/step\n",
            "1/1 [==============================] - 0s 103ms/step\n",
            "1/1 [==============================] - 0s 84ms/step\n",
            "1/1 [==============================] - 0s 85ms/step\n",
            "1/1 [==============================] - 0s 84ms/step\n",
            "1/1 [==============================] - 0s 85ms/step\n",
            "1/1 [==============================] - 0s 84ms/step\n",
            "1/1 [==============================] - 0s 94ms/step\n",
            "1/1 [==============================] - 0s 85ms/step\n",
            "1/1 [==============================] - 0s 85ms/step\n",
            "1/1 [==============================] - 0s 84ms/step\n",
            "1/1 [==============================] - 0s 88ms/step\n",
            "1/1 [==============================] - 0s 84ms/step\n",
            "1/1 [==============================] - 0s 100ms/step\n",
            "1/1 [==============================] - 0s 95ms/step\n",
            "1/1 [==============================] - 0s 88ms/step\n",
            "1/1 [==============================] - 0s 84ms/step\n",
            "1/1 [==============================] - 0s 84ms/step\n",
            "1/1 [==============================] - 0s 85ms/step\n",
            "1/1 [==============================] - 0s 92ms/step\n",
            "1/1 [==============================] - 0s 96ms/step\n",
            "1/1 [==============================] - 0s 85ms/step\n",
            "1/1 [==============================] - 0s 85ms/step\n",
            "1/1 [==============================] - 0s 85ms/step\n",
            "1/1 [==============================] - 0s 84ms/step\n",
            "1/1 [==============================] - 0s 86ms/step\n",
            "1/1 [==============================] - 0s 93ms/step\n",
            "1/1 [==============================] - 0s 84ms/step\n",
            "1/1 [==============================] - 0s 87ms/step\n",
            "1/1 [==============================] - 0s 84ms/step\n",
            "1/1 [==============================] - 0s 84ms/step\n",
            "1/1 [==============================] - 0s 85ms/step\n",
            "1/1 [==============================] - 0s 93ms/step\n"
          ]
        }
      ]
    },
    {
      "cell_type": "code",
      "source": [
        "for i in range(0, 5):\n",
        "    print ('Text:', seq2text(x_val[i]))\n",
        "    print ('Original summary:', seq2summary(y_val[i]))\n",
        "    print ('Predicted summary:', decode_sequence(x_val[i].reshape(1,max_text_len)))\n",
        "    print()"
      ],
      "metadata": {
        "id": "s-3XFQNkidrB"
      },
      "execution_count": null,
      "outputs": []
    },
    {
      "cell_type": "code",
      "source": [
        "pred_summaries = [t.strip() for t in pred_summaries]\n",
        "pred_summaries = [t for t in pred_summaries if t!=\"\" or t!= \" \"]"
      ],
      "metadata": {
        "id": "vFTm_h61MW6c"
      },
      "execution_count": null,
      "outputs": []
    },
    {
      "cell_type": "code",
      "source": [
        "true_summaries = [t.strip() for t in true_summaries]\n",
        "true_summaries = [t for t in true_summaries if t!=\"\" or t!= \" \"]"
      ],
      "metadata": {
        "id": "JN1kw85HLAaY"
      },
      "execution_count": null,
      "outputs": []
    },
    {
      "cell_type": "code",
      "source": [
        "refs, hyps = [], []\n",
        "for t1, t2 in zip(true_summaries, pred_summaries):\n",
        "  if t1==\"\":\n",
        "    pass\n",
        "  elif t2==\"\":\n",
        "    pass\n",
        "  elif t2==\" \":\n",
        "    pass\n",
        "  else:\n",
        "    refs.append(t1)\n",
        "    hyps.append(t2)"
      ],
      "metadata": {
        "id": "biBFj6RkM43c"
      },
      "execution_count": null,
      "outputs": []
    },
    {
      "cell_type": "code",
      "source": [
        "from rouge import Rouge\n",
        "\n",
        "rouge = Rouge()\n",
        "scores = rouge.get_scores(hyps, refs, avg=True)\n",
        "scores"
      ],
      "metadata": {
        "colab": {
          "base_uri": "https://localhost:8080/"
        },
        "id": "9FXsdF19Nswx",
        "outputId": "0bd740ec-b7d0-4136-9770-318ab6c7b346"
      },
      "execution_count": null,
      "outputs": [
        {
          "output_type": "execute_result",
          "data": {
            "text/plain": [
              "{'rouge-1': {'r': 0.06437254934840296,\n",
              "  'p': 0.24027425826206317,\n",
              "  'f': 0.0963207116594932},\n",
              " 'rouge-2': {'r': 0.007199649328252432,\n",
              "  'p': 0.0167722521381058,\n",
              "  'f': 0.009229688690146308},\n",
              " 'rouge-l': {'r': 0.06403782309904257,\n",
              "  'p': 0.23916561081195228,\n",
              "  'f': 0.09581017485053456}}"
            ]
          },
          "metadata": {},
          "execution_count": 156
        }
      ]
    },
    {
      "cell_type": "code",
      "source": [
        "import session_info\n",
        "session_info.show()\n"
      ],
      "metadata": {
        "id": "s5Gmk2NzlD5o",
        "colab": {
          "base_uri": "https://localhost:8080/",
          "height": 367
        },
        "outputId": "a9c9a5d8-0cf7-463b-bf24-b1334a61369b"
      },
      "execution_count": 8,
      "outputs": [
        {
          "output_type": "execute_result",
          "data": {
            "text/plain": [
              "<IPython.core.display.HTML object>"
            ],
            "text/html": [
              "<details>\n",
              "<summary>Click to view session information</summary>\n",
              "<pre>\n",
              "-----\n",
              "keras               2.12.0\n",
              "matplotlib          3.7.1\n",
              "nltk                3.8.1\n",
              "numpy               1.22.4\n",
              "pandas              1.5.3\n",
              "session_info        1.0.0\n",
              "-----\n",
              "</pre>\n",
              "<details>\n",
              "<summary>Click to view modules imported as dependencies</summary>\n",
              "<pre>\n",
              "PIL                                         8.4.0\n",
              "aa8f2297d25b4dc6fd3d98411eb3ba53823c4f42    NA\n",
              "absl                                        NA\n",
              "astunparse                                  1.6.3\n",
              "attr                                        23.1.0\n",
              "backcall                                    0.2.0\n",
              "cachetools                                  5.3.1\n",
              "certifi                                     2023.05.07\n",
              "cffi                                        1.15.1\n",
              "chardet                                     4.0.0\n",
              "charset_normalizer                          2.0.12\n",
              "cloudpickle                                 2.2.1\n",
              "cycler                                      0.10.0\n",
              "cython_runtime                              NA\n",
              "dateutil                                    2.8.2\n",
              "debugpy                                     1.6.6\n",
              "decorator                                   4.4.2\n",
              "defusedxml                                  0.7.1\n",
              "etils                                       1.3.0\n",
              "flatbuffers                                 23.5.26\n",
              "fsspec                                      2023.6.0\n",
              "gast                                        NA\n",
              "google                                      NA\n",
              "google_auth_httplib2                        NA\n",
              "googleapiclient                             NA\n",
              "h5py                                        3.8.0\n",
              "httplib2                                    0.21.0\n",
              "idna                                        3.4\n",
              "importlib_resources                         NA\n",
              "ipykernel                                   5.5.6\n",
              "ipython_genutils                            0.2.0\n",
              "jax                                         0.4.10\n",
              "jaxlib                                      0.4.10\n",
              "joblib                                      1.2.0\n",
              "kiwisolver                                  1.4.4\n",
              "matplotlib_inline                           0.1.6\n",
              "ml_dtypes                                   0.2.0\n",
              "mpl_toolkits                                NA\n",
              "numexpr                                     2.8.4\n",
              "oauth2client                                4.1.3\n",
              "opt_einsum                                  v3.3.0\n",
              "packaging                                   23.1\n",
              "pexpect                                     4.8.0\n",
              "pickleshare                                 0.7.5\n",
              "pkg_resources                               NA\n",
              "platformdirs                                3.7.0\n",
              "portpicker                                  NA\n",
              "prompt_toolkit                              3.0.38\n",
              "psutil                                      5.9.5\n",
              "ptyprocess                                  0.7.0\n",
              "pyarrow                                     9.0.0\n",
              "pyasn1                                      0.5.0\n",
              "pyasn1_modules                              0.3.0\n",
              "pydev_ipython                               NA\n",
              "pydevconsole                                NA\n",
              "pydevd                                      2.9.5\n",
              "pydevd_file_utils                           NA\n",
              "pydevd_plugins                              NA\n",
              "pydevd_tracing                              NA\n",
              "pydot_ng                                    2.0.0\n",
              "pygments                                    2.14.0\n",
              "pyparsing                                   3.1.0\n",
              "pytz                                        2022.7.1\n",
              "regex                                       2.5.123\n",
              "requests                                    2.27.1\n",
              "rich                                        NA\n",
              "rsa                                         4.9\n",
              "scipy                                       1.10.1\n",
              "setuptools                                  67.7.2\n",
              "sitecustomize                               NA\n",
              "six                                         1.16.0\n",
              "sklearn                                     1.2.2\n",
              "socks                                       1.7.1\n",
              "sphinxcontrib                               NA\n",
              "storemagic                                  NA\n",
              "tblib                                       2.0.0\n",
              "tensorboard                                 2.12.3\n",
              "tensorflow                                  2.12.0\n",
              "termcolor                                   NA\n",
              "threadpoolctl                               3.1.0\n",
              "tornado                                     6.3.1\n",
              "traitlets                                   5.7.1\n",
              "typing_extensions                           NA\n",
              "uritemplate                                 4.1.1\n",
              "urllib3                                     1.26.16\n",
              "wcwidth                                     0.2.6\n",
              "wrapt                                       1.14.1\n",
              "zmq                                         23.2.1\n",
              "zoneinfo                                    NA\n",
              "</pre>\n",
              "</details> <!-- seems like this ends pre, so might as well be explicit -->\n",
              "<pre>\n",
              "-----\n",
              "IPython             7.34.0\n",
              "jupyter_client      6.1.12\n",
              "jupyter_core        5.3.1\n",
              "notebook            6.4.8\n",
              "-----\n",
              "Python 3.10.12 (main, Jun  7 2023, 12:45:35) [GCC 9.4.0]\n",
              "Linux-5.15.107+-x86_64-with-glibc2.31\n",
              "-----\n",
              "Session information updated at 2023-06-30 18:49\n",
              "</pre>\n",
              "</details>"
            ]
          },
          "metadata": {},
          "execution_count": 8
        }
      ]
    }
  ]
}